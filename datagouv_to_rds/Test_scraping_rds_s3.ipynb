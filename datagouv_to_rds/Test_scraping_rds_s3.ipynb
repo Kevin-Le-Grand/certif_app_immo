{
 "cells": [
  {
   "cell_type": "markdown",
   "metadata": {},
   "source": [
    "# Web-scraping"
   ]
  },
  {
   "cell_type": "code",
   "execution_count": 27,
   "metadata": {},
   "outputs": [],
   "source": [
    "# Librairies pour la décompression de fichiers\n",
    "import gzip\n",
    "from io import BytesIO\n",
    "\n",
    "# Librairies pour le scrapping\n",
    "import requests\n",
    "from bs4 import BeautifulSoup\n",
    "from urllib.parse import urljoin\n",
    "\n",
    "# Visualisation de données\n",
    "import pandas as pd"
   ]
  },
  {
   "cell_type": "code",
   "execution_count": 28,
   "metadata": {},
   "outputs": [],
   "source": [
    "# URL de la page web\n",
    "url = 'https://files.data.gouv.fr/geo-dvf/latest/csv/'\n",
    "\n",
    "response = requests.get(url)\n",
    "html_content = response.content\n",
    "\n",
    "# Utilisez BeautifulSoup pour analyser le HTML\n",
    "soup = BeautifulSoup(html_content, 'html.parser')"
   ]
  },
  {
   "cell_type": "code",
   "execution_count": 29,
   "metadata": {},
   "outputs": [
    {
     "name": "stdout",
     "output_type": "stream",
     "text": [
      "['2018/', '2019/', '2020/', '2021/', '2022/', '2023/']\n"
     ]
    }
   ],
   "source": [
    "# Trouver toutes les balises <a>\n",
    "a_tags = soup.find_all('a')\n",
    "annees=[]\n",
    "# Parcourir chaque balise <a> et extraire le texte ainsi que la date/heure\n",
    "for a_tag in a_tags:\n",
    "    name = a_tag.text.strip()\n",
    "    if name!=\"../\":\n",
    "        annees.append(name)\n",
    "print(annees)"
   ]
  },
  {
   "cell_type": "code",
   "execution_count": 30,
   "metadata": {},
   "outputs": [
    {
     "name": "stdout",
     "output_type": "stream",
     "text": [
      "13-Oct-202320:28-\n"
     ]
    }
   ],
   "source": [
    "date_element = soup.find('pre').contents[-1].strip()\n",
    "date_maj = date_element.replace(\" \",\"\")\n",
    "print(date_maj)"
   ]
  },
  {
   "cell_type": "markdown",
   "metadata": {},
   "source": [
    "# Récupération des données sur une l'année 2023"
   ]
  },
  {
   "cell_type": "code",
   "execution_count": 31,
   "metadata": {},
   "outputs": [
    {
     "name": "stdout",
     "output_type": "stream",
     "text": [
      "https://files.data.gouv.fr/geo-dvf/latest/csv/2022/full.csv.gz\n"
     ]
    }
   ],
   "source": [
    "# Récupération de l'avant denière année pour avoir une année comlpéte\n",
    "url = f'https://files.data.gouv.fr/geo-dvf/latest/csv/{annees[-2]}'\n",
    "response = requests.get(url)\n",
    "html_content = response.content\n",
    "soup = BeautifulSoup(html_content, 'html.parser')\n",
    "\n",
    "# Trouver la balise 'a' qui contient les liens de téléchargement\n",
    "csv_element = soup.find('pre').find('a', {'href': \"full.csv.gz\"})\n",
    "csv_link = urljoin(url, csv_element['href'])\n",
    "print(csv_link)"
   ]
  },
  {
   "cell_type": "code",
   "execution_count": 32,
   "metadata": {},
   "outputs": [],
   "source": [
    "csv_response = requests.get(csv_link)\n",
    "if csv_response.status_code == 200:\n",
    "    # Utilisation du buffer pour décompresser le fichier .gz\n",
    "    with BytesIO(csv_response.content) as file_buffer:\n",
    "        with gzip.GzipFile(fileobj=file_buffer, mode='rb') as gz_file:\n",
    "            df = pd.read_csv(gz_file, low_memory=False)\n",
    "else :\n",
    "    print(\"Erreur !!!\")"
   ]
  },
  {
   "cell_type": "code",
   "execution_count": 33,
   "metadata": {},
   "outputs": [
    {
     "data": {
      "text/html": [
       "<div>\n",
       "<style scoped>\n",
       "    .dataframe tbody tr th:only-of-type {\n",
       "        vertical-align: middle;\n",
       "    }\n",
       "\n",
       "    .dataframe tbody tr th {\n",
       "        vertical-align: top;\n",
       "    }\n",
       "\n",
       "    .dataframe thead th {\n",
       "        text-align: right;\n",
       "    }\n",
       "</style>\n",
       "<table border=\"1\" class=\"dataframe\">\n",
       "  <thead>\n",
       "    <tr style=\"text-align: right;\">\n",
       "      <th></th>\n",
       "      <th>id_mutation</th>\n",
       "      <th>date_mutation</th>\n",
       "      <th>numero_disposition</th>\n",
       "      <th>nature_mutation</th>\n",
       "      <th>valeur_fonciere</th>\n",
       "      <th>adresse_numero</th>\n",
       "      <th>adresse_suffixe</th>\n",
       "      <th>adresse_nom_voie</th>\n",
       "      <th>adresse_code_voie</th>\n",
       "      <th>code_postal</th>\n",
       "      <th>...</th>\n",
       "      <th>type_local</th>\n",
       "      <th>surface_reelle_bati</th>\n",
       "      <th>nombre_pieces_principales</th>\n",
       "      <th>code_nature_culture</th>\n",
       "      <th>nature_culture</th>\n",
       "      <th>code_nature_culture_speciale</th>\n",
       "      <th>nature_culture_speciale</th>\n",
       "      <th>surface_terrain</th>\n",
       "      <th>longitude</th>\n",
       "      <th>latitude</th>\n",
       "    </tr>\n",
       "  </thead>\n",
       "  <tbody>\n",
       "    <tr>\n",
       "      <th>0</th>\n",
       "      <td>2022-1</td>\n",
       "      <td>2022-01-03</td>\n",
       "      <td>1</td>\n",
       "      <td>Vente</td>\n",
       "      <td>55000.0</td>\n",
       "      <td>13.0</td>\n",
       "      <td>NaN</td>\n",
       "      <td>RUE DE LA LIBERTE</td>\n",
       "      <td>2280</td>\n",
       "      <td>1000.0</td>\n",
       "      <td>...</td>\n",
       "      <td>Appartement</td>\n",
       "      <td>24.0</td>\n",
       "      <td>1.0</td>\n",
       "      <td>NaN</td>\n",
       "      <td>NaN</td>\n",
       "      <td>NaN</td>\n",
       "      <td>NaN</td>\n",
       "      <td>NaN</td>\n",
       "      <td>5.218712</td>\n",
       "      <td>46.198053</td>\n",
       "    </tr>\n",
       "    <tr>\n",
       "      <th>1</th>\n",
       "      <td>2022-2</td>\n",
       "      <td>2022-01-03</td>\n",
       "      <td>1</td>\n",
       "      <td>Vente</td>\n",
       "      <td>143000.0</td>\n",
       "      <td>NaN</td>\n",
       "      <td>NaN</td>\n",
       "      <td>CHAMP COCHET</td>\n",
       "      <td>B010</td>\n",
       "      <td>1480.0</td>\n",
       "      <td>...</td>\n",
       "      <td>NaN</td>\n",
       "      <td>NaN</td>\n",
       "      <td>NaN</td>\n",
       "      <td>S</td>\n",
       "      <td>sols</td>\n",
       "      <td>NaN</td>\n",
       "      <td>NaN</td>\n",
       "      <td>84.0</td>\n",
       "      <td>4.847863</td>\n",
       "      <td>46.000587</td>\n",
       "    </tr>\n",
       "    <tr>\n",
       "      <th>2</th>\n",
       "      <td>2022-2</td>\n",
       "      <td>2022-01-03</td>\n",
       "      <td>1</td>\n",
       "      <td>Vente</td>\n",
       "      <td>143000.0</td>\n",
       "      <td>NaN</td>\n",
       "      <td>NaN</td>\n",
       "      <td>CHAMP COCHET</td>\n",
       "      <td>B010</td>\n",
       "      <td>1480.0</td>\n",
       "      <td>...</td>\n",
       "      <td>NaN</td>\n",
       "      <td>NaN</td>\n",
       "      <td>NaN</td>\n",
       "      <td>S</td>\n",
       "      <td>sols</td>\n",
       "      <td>NaN</td>\n",
       "      <td>NaN</td>\n",
       "      <td>88.0</td>\n",
       "      <td>4.847924</td>\n",
       "      <td>46.000581</td>\n",
       "    </tr>\n",
       "    <tr>\n",
       "      <th>3</th>\n",
       "      <td>2022-2</td>\n",
       "      <td>2022-01-03</td>\n",
       "      <td>1</td>\n",
       "      <td>Vente</td>\n",
       "      <td>143000.0</td>\n",
       "      <td>98.0</td>\n",
       "      <td>NaN</td>\n",
       "      <td>RTE DE LA DOMBES</td>\n",
       "      <td>0055</td>\n",
       "      <td>1480.0</td>\n",
       "      <td>...</td>\n",
       "      <td>Appartement</td>\n",
       "      <td>140.0</td>\n",
       "      <td>3.0</td>\n",
       "      <td>NaN</td>\n",
       "      <td>NaN</td>\n",
       "      <td>NaN</td>\n",
       "      <td>NaN</td>\n",
       "      <td>NaN</td>\n",
       "      <td>4.848340</td>\n",
       "      <td>46.000631</td>\n",
       "    </tr>\n",
       "    <tr>\n",
       "      <th>4</th>\n",
       "      <td>2022-3</td>\n",
       "      <td>2022-01-04</td>\n",
       "      <td>1</td>\n",
       "      <td>Vente</td>\n",
       "      <td>300.0</td>\n",
       "      <td>NaN</td>\n",
       "      <td>NaN</td>\n",
       "      <td>AUX PIERRES</td>\n",
       "      <td>B031</td>\n",
       "      <td>1480.0</td>\n",
       "      <td>...</td>\n",
       "      <td>NaN</td>\n",
       "      <td>NaN</td>\n",
       "      <td>NaN</td>\n",
       "      <td>T</td>\n",
       "      <td>terres</td>\n",
       "      <td>NaN</td>\n",
       "      <td>NaN</td>\n",
       "      <td>510.0</td>\n",
       "      <td>4.747594</td>\n",
       "      <td>46.045423</td>\n",
       "    </tr>\n",
       "  </tbody>\n",
       "</table>\n",
       "<p>5 rows × 40 columns</p>\n",
       "</div>"
      ],
      "text/plain": [
       "  id_mutation date_mutation  numero_disposition nature_mutation  \\\n",
       "0      2022-1    2022-01-03                   1           Vente   \n",
       "1      2022-2    2022-01-03                   1           Vente   \n",
       "2      2022-2    2022-01-03                   1           Vente   \n",
       "3      2022-2    2022-01-03                   1           Vente   \n",
       "4      2022-3    2022-01-04                   1           Vente   \n",
       "\n",
       "   valeur_fonciere  adresse_numero adresse_suffixe   adresse_nom_voie  \\\n",
       "0          55000.0            13.0             NaN  RUE DE LA LIBERTE   \n",
       "1         143000.0             NaN             NaN       CHAMP COCHET   \n",
       "2         143000.0             NaN             NaN       CHAMP COCHET   \n",
       "3         143000.0            98.0             NaN   RTE DE LA DOMBES   \n",
       "4            300.0             NaN             NaN        AUX PIERRES   \n",
       "\n",
       "  adresse_code_voie  code_postal  ...   type_local surface_reelle_bati  \\\n",
       "0              2280       1000.0  ...  Appartement                24.0   \n",
       "1              B010       1480.0  ...          NaN                 NaN   \n",
       "2              B010       1480.0  ...          NaN                 NaN   \n",
       "3              0055       1480.0  ...  Appartement               140.0   \n",
       "4              B031       1480.0  ...          NaN                 NaN   \n",
       "\n",
       "  nombre_pieces_principales  code_nature_culture nature_culture  \\\n",
       "0                       1.0                  NaN            NaN   \n",
       "1                       NaN                    S           sols   \n",
       "2                       NaN                    S           sols   \n",
       "3                       3.0                  NaN            NaN   \n",
       "4                       NaN                    T         terres   \n",
       "\n",
       "  code_nature_culture_speciale nature_culture_speciale surface_terrain  \\\n",
       "0                          NaN                     NaN             NaN   \n",
       "1                          NaN                     NaN            84.0   \n",
       "2                          NaN                     NaN            88.0   \n",
       "3                          NaN                     NaN             NaN   \n",
       "4                          NaN                     NaN           510.0   \n",
       "\n",
       "  longitude   latitude  \n",
       "0  5.218712  46.198053  \n",
       "1  4.847863  46.000587  \n",
       "2  4.847924  46.000581  \n",
       "3  4.848340  46.000631  \n",
       "4  4.747594  46.045423  \n",
       "\n",
       "[5 rows x 40 columns]"
      ]
     },
     "execution_count": 33,
     "metadata": {},
     "output_type": "execute_result"
    }
   ],
   "source": [
    "df.head()"
   ]
  },
  {
   "cell_type": "markdown",
   "metadata": {},
   "source": [
    "# EDA sur 2023"
   ]
  },
  {
   "cell_type": "code",
   "execution_count": 34,
   "metadata": {},
   "outputs": [
    {
     "name": "stdout",
     "output_type": "stream",
     "text": [
      "['id_mutation', 'date_mutation', 'numero_disposition', 'nature_mutation', 'valeur_fonciere', 'adresse_numero', 'adresse_suffixe', 'adresse_nom_voie', 'adresse_code_voie', 'code_postal', 'code_commune', 'nom_commune', 'code_departement', 'ancien_code_commune', 'ancien_nom_commune', 'id_parcelle', 'ancien_id_parcelle', 'numero_volume', 'lot1_numero', 'lot1_surface_carrez', 'lot2_numero', 'lot2_surface_carrez', 'lot3_numero', 'lot3_surface_carrez', 'lot4_numero', 'lot4_surface_carrez', 'lot5_numero', 'lot5_surface_carrez', 'nombre_lots', 'code_type_local', 'type_local', 'surface_reelle_bati', 'nombre_pieces_principales', 'code_nature_culture', 'nature_culture', 'code_nature_culture_speciale', 'nature_culture_speciale', 'surface_terrain', 'longitude', 'latitude']\n",
      "(4617590, 40)\n"
     ]
    }
   ],
   "source": [
    "print(df.columns.to_list())\n",
    "print(df.shape)\n"
   ]
  },
  {
   "cell_type": "code",
   "execution_count": 35,
   "metadata": {},
   "outputs": [
    {
     "name": "stdout",
     "output_type": "stream",
     "text": [
      "Nature de la mutation :\n",
      " nature_mutation\n",
      "Vente                                 4267222\n",
      "Vente en l'état futur d'achèvement     280574\n",
      "Echange                                 45200\n",
      "Vente terrain à bâtir                   14268\n",
      "Adjudication                             9424\n",
      "Expropriation                             902\n",
      "Name: count, dtype: int64\n",
      "Type de local :\n",
      " type_local\n",
      "Dépendance                                  1203439\n",
      "Maison                                       756009\n",
      "Appartement                                  638879\n",
      "Local industriel. commercial ou assimilé     142535\n",
      "Name: count, dtype: int64\n"
     ]
    }
   ],
   "source": [
    "print(\"Nature de la mutation :\\n\",df.nature_mutation.value_counts())\n",
    "print(\"Type de local :\\n\", df.type_local.value_counts())"
   ]
  },
  {
   "cell_type": "markdown",
   "metadata": {},
   "source": [
    "### Selection des variables"
   ]
  },
  {
   "cell_type": "code",
   "execution_count": 36,
   "metadata": {},
   "outputs": [
    {
     "data": {
      "text/html": [
       "<div>\n",
       "<style scoped>\n",
       "    .dataframe tbody tr th:only-of-type {\n",
       "        vertical-align: middle;\n",
       "    }\n",
       "\n",
       "    .dataframe tbody tr th {\n",
       "        vertical-align: top;\n",
       "    }\n",
       "\n",
       "    .dataframe thead th {\n",
       "        text-align: right;\n",
       "    }\n",
       "</style>\n",
       "<table border=\"1\" class=\"dataframe\">\n",
       "  <thead>\n",
       "    <tr style=\"text-align: right;\">\n",
       "      <th></th>\n",
       "      <th>date_mutation</th>\n",
       "      <th>valeur_fonciere</th>\n",
       "      <th>adresse_numero</th>\n",
       "      <th>adresse_nom_voie</th>\n",
       "      <th>code_postal</th>\n",
       "      <th>code_commune</th>\n",
       "      <th>nom_commune</th>\n",
       "      <th>code_departement</th>\n",
       "      <th>type_local</th>\n",
       "      <th>nombre_pieces_principales</th>\n",
       "      <th>surface_reelle_bati</th>\n",
       "      <th>surface_terrain</th>\n",
       "      <th>longitude</th>\n",
       "      <th>latitude</th>\n",
       "    </tr>\n",
       "  </thead>\n",
       "  <tbody>\n",
       "    <tr>\n",
       "      <th>0</th>\n",
       "      <td>2022-01-03</td>\n",
       "      <td>55000.0</td>\n",
       "      <td>13.0</td>\n",
       "      <td>RUE DE LA LIBERTE</td>\n",
       "      <td>1000.0</td>\n",
       "      <td>01053</td>\n",
       "      <td>Bourg-en-Bresse</td>\n",
       "      <td>01</td>\n",
       "      <td>Appartement</td>\n",
       "      <td>1.0</td>\n",
       "      <td>24.0</td>\n",
       "      <td>NaN</td>\n",
       "      <td>5.218712</td>\n",
       "      <td>46.198053</td>\n",
       "    </tr>\n",
       "    <tr>\n",
       "      <th>3</th>\n",
       "      <td>2022-01-03</td>\n",
       "      <td>143000.0</td>\n",
       "      <td>98.0</td>\n",
       "      <td>RTE DE LA DOMBES</td>\n",
       "      <td>1480.0</td>\n",
       "      <td>01398</td>\n",
       "      <td>Savigneux</td>\n",
       "      <td>01</td>\n",
       "      <td>Appartement</td>\n",
       "      <td>3.0</td>\n",
       "      <td>140.0</td>\n",
       "      <td>NaN</td>\n",
       "      <td>4.848340</td>\n",
       "      <td>46.000631</td>\n",
       "    </tr>\n",
       "    <tr>\n",
       "      <th>5</th>\n",
       "      <td>2022-01-06</td>\n",
       "      <td>255000.0</td>\n",
       "      <td>282.0</td>\n",
       "      <td>RTE DE POISATON</td>\n",
       "      <td>1560.0</td>\n",
       "      <td>01230</td>\n",
       "      <td>Mantenay-Montlin</td>\n",
       "      <td>01</td>\n",
       "      <td>Maison</td>\n",
       "      <td>5.0</td>\n",
       "      <td>108.0</td>\n",
       "      <td>649.0</td>\n",
       "      <td>5.103407</td>\n",
       "      <td>46.422348</td>\n",
       "    </tr>\n",
       "    <tr>\n",
       "      <th>8</th>\n",
       "      <td>2022-01-03</td>\n",
       "      <td>525000.0</td>\n",
       "      <td>217.0</td>\n",
       "      <td>PL DE LA CROIX BLANCHE</td>\n",
       "      <td>1390.0</td>\n",
       "      <td>01333</td>\n",
       "      <td>Saint-André-de-Corcy</td>\n",
       "      <td>01</td>\n",
       "      <td>Appartement</td>\n",
       "      <td>4.0</td>\n",
       "      <td>126.0</td>\n",
       "      <td>628.0</td>\n",
       "      <td>4.951266</td>\n",
       "      <td>45.926511</td>\n",
       "    </tr>\n",
       "    <tr>\n",
       "      <th>12</th>\n",
       "      <td>2022-01-05</td>\n",
       "      <td>64000.0</td>\n",
       "      <td>12.0</td>\n",
       "      <td>BD DE BROU</td>\n",
       "      <td>1000.0</td>\n",
       "      <td>01053</td>\n",
       "      <td>Bourg-en-Bresse</td>\n",
       "      <td>01</td>\n",
       "      <td>Appartement</td>\n",
       "      <td>2.0</td>\n",
       "      <td>117.0</td>\n",
       "      <td>NaN</td>\n",
       "      <td>5.229155</td>\n",
       "      <td>46.204984</td>\n",
       "    </tr>\n",
       "  </tbody>\n",
       "</table>\n",
       "</div>"
      ],
      "text/plain": [
       "   date_mutation  valeur_fonciere  adresse_numero        adresse_nom_voie  \\\n",
       "0     2022-01-03          55000.0            13.0       RUE DE LA LIBERTE   \n",
       "3     2022-01-03         143000.0            98.0        RTE DE LA DOMBES   \n",
       "5     2022-01-06         255000.0           282.0         RTE DE POISATON   \n",
       "8     2022-01-03         525000.0           217.0  PL DE LA CROIX BLANCHE   \n",
       "12    2022-01-05          64000.0            12.0              BD DE BROU   \n",
       "\n",
       "    code_postal code_commune           nom_commune code_departement  \\\n",
       "0        1000.0        01053       Bourg-en-Bresse               01   \n",
       "3        1480.0        01398             Savigneux               01   \n",
       "5        1560.0        01230      Mantenay-Montlin               01   \n",
       "8        1390.0        01333  Saint-André-de-Corcy               01   \n",
       "12       1000.0        01053       Bourg-en-Bresse               01   \n",
       "\n",
       "     type_local  nombre_pieces_principales  surface_reelle_bati  \\\n",
       "0   Appartement                        1.0                 24.0   \n",
       "3   Appartement                        3.0                140.0   \n",
       "5        Maison                        5.0                108.0   \n",
       "8   Appartement                        4.0                126.0   \n",
       "12  Appartement                        2.0                117.0   \n",
       "\n",
       "    surface_terrain  longitude   latitude  \n",
       "0               NaN   5.218712  46.198053  \n",
       "3               NaN   4.848340  46.000631  \n",
       "5             649.0   5.103407  46.422348  \n",
       "8             628.0   4.951266  45.926511  \n",
       "12              NaN   5.229155  46.204984  "
      ]
     },
     "execution_count": 36,
     "metadata": {},
     "output_type": "execute_result"
    }
   ],
   "source": [
    "df = df.loc[(df.nature_mutation==\"Vente\") & ((df.type_local==\"Maison\") | (df.type_local==\"Appartement\")),\n",
    "                                          [\"date_mutation\",\"valeur_fonciere\",\n",
    "                                           \"adresse_numero\",\"adresse_nom_voie\",\n",
    "                                           \"code_postal\",\"code_commune\",\"nom_commune\",\"code_departement\",\n",
    "                                           \"type_local\",\"nombre_pieces_principales\",\n",
    "                                           \"surface_reelle_bati\",\"surface_terrain\",\n",
    "                                           \"longitude\", \"latitude\"]]\n",
    "df.head()"
   ]
  },
  {
   "cell_type": "code",
   "execution_count": 37,
   "metadata": {},
   "outputs": [
    {
     "name": "stdout",
     "output_type": "stream",
     "text": [
      "(1378948, 14)\n",
      "date_mutation                     0\n",
      "valeur_fonciere                3263\n",
      "adresse_numero                 7105\n",
      "adresse_nom_voie                 38\n",
      "code_postal                      35\n",
      "code_commune                      0\n",
      "nom_commune                       0\n",
      "code_departement                  0\n",
      "type_local                        0\n",
      "nombre_pieces_principales        77\n",
      "surface_reelle_bati              77\n",
      "surface_terrain              512854\n",
      "longitude                     10963\n",
      "latitude                      10963\n",
      "dtype: int64\n"
     ]
    }
   ],
   "source": [
    "print(df.shape)\n",
    "print(df.isna().sum())"
   ]
  },
  {
   "cell_type": "markdown",
   "metadata": {},
   "source": [
    "### Gestion des valeurs manquantes :"
   ]
  },
  {
   "cell_type": "code",
   "execution_count": 39,
   "metadata": {},
   "outputs": [],
   "source": [
    "# Suppression des lignes avec une valeur foncière manquante ou des coordonnées manquantes\n",
    "df = df.dropna(subset=['valeur_fonciere'])\n",
    "df = df.dropna(subset=['longitude'])\n",
    "df = df.dropna(subset=['latitude'])\n",
    "df = df.dropna(subset=['adresse_nom_voie'])\n",
    "df = df.dropna(subset=['code_postal'])\n",
    "df = df.dropna(subset=['surface_reelle_bati'])\n"
   ]
  },
  {
   "cell_type": "code",
   "execution_count": 41,
   "metadata": {},
   "outputs": [],
   "source": [
    "# remplacement des valeurs manquantes de adresse_numero et surface_terrain par 0.0\n",
    "# car l'adresse n'a pas forcéméent de numéro et un appartement n'a pas de terrain\n",
    "df['adresse_numero'] = df['adresse_numero'].fillna(0)\n",
    "df['surface_terrain'] = df['surface_terrain'].fillna(0)"
   ]
  },
  {
   "cell_type": "code",
   "execution_count": 42,
   "metadata": {},
   "outputs": [
    {
     "name": "stdout",
     "output_type": "stream",
     "text": [
      "(1364686, 14)\n",
      "date_mutation                0\n",
      "valeur_fonciere              0\n",
      "adresse_numero               0\n",
      "adresse_nom_voie             0\n",
      "code_postal                  0\n",
      "code_commune                 0\n",
      "nom_commune                  0\n",
      "code_departement             0\n",
      "type_local                   0\n",
      "nombre_pieces_principales    0\n",
      "surface_reelle_bati          0\n",
      "surface_terrain              0\n",
      "longitude                    0\n",
      "latitude                     0\n",
      "dtype: int64\n"
     ]
    }
   ],
   "source": [
    "print(df.shape)\n",
    "print(df.isna().sum())"
   ]
  },
  {
   "cell_type": "markdown",
   "metadata": {},
   "source": [
    "### Création d'un table rds test pour insérer les données"
   ]
  },
  {
   "cell_type": "markdown",
   "metadata": {},
   "source": [
    "<img src=\"/home/kevin/workspace/certif_app_immo/datagouv_to_rds/mld.PNG\" alt=\"Schema de la bdd\">\n"
   ]
  },
  {
   "cell_type": "markdown",
   "metadata": {},
   "source": [
    "#### Création d'une table test pour valider le type de données"
   ]
  },
  {
   "cell_type": "code",
   "execution_count": null,
   "metadata": {},
   "outputs": [],
   "source": [
    "from connection import db,cursor\n",
    "\n",
    "\n",
    "query=\"\"\"\n",
    "CREATE DATABASE IF NOT EXISTS datagouv;\n",
    "\"\"\"\n",
    "cursor.execute(query)\n",
    "\n",
    "query=\"\"\"\n",
    "USE datagouv;\n",
    "\"\"\"\n",
    "cursor.execute(query)\n",
    "\n",
    "query=\"\"\"\n",
    "CREATE TABLE IF NOT EXISTS VENTES(\n",
    "        ID_VENTE        Int  Auto_increment  NOT NULL ,\n",
    "        MONTANT         Int NOT NULL ,\n",
    "        NUMERO_RUE      Varchar (50) NOT NULL ,\n",
    "        RUE             Varchar (50) NOT NULL ,\n",
    "        CODE_POSTAL     Int NOT NULL ,\n",
    "        NOM_COMMUNE     Varchar (50) NOT NULL ,\n",
    "        LONGITUDE       Decimal (9,6) NOT NULL ,\n",
    "        LATITUDE        Decimal (9,6) NOT NULL ,\n",
    "        DATE            Datetime NOT NULL ,\n",
    "        SURFACE_BATI    Int NOT NULL ,\n",
    "        NB_PIECES       Int NOT NULL ,\n",
    "        SURFACE_TERRAIN Int NOT NULL ,\n",
    "        TYPE_BIEN       Varchar (50) NOT NULL ,\n",
    "        CODE_COMMUNE    Varchar (50) NOT NULL ,\n",
    "        ID_DEPT         Varchar (3) NOT NULL\n",
    "\"\"\"\n",
    "\n"
   ]
  },
  {
   "cell_type": "code",
   "execution_count": null,
   "metadata": {},
   "outputs": [],
   "source": [
    "insert_data=df.iloc[:5,:]\n",
    "insert_data.head()"
   ]
  },
  {
   "cell_type": "markdown",
   "metadata": {},
   "source": [
    "#### Adaptation des données aux types de variables de la base de données rds"
   ]
  },
  {
   "cell_type": "code",
   "execution_count": null,
   "metadata": {},
   "outputs": [],
   "source": [
    "df['date_mutation'] = pd.to_datetime(df['date_mutation'], errors='coerce')\n",
    "df['valeur_fonciere'] = df.valeur_fonciere.astype(int)\n",
    "..."
   ]
  },
  {
   "cell_type": "code",
   "execution_count": null,
   "metadata": {},
   "outputs": [],
   "source": [
    "for index,row in insert_data.iterrows:\n",
    "    query=\"\"\"\n",
    "    INSERT INTO VENTES (DATE, MONTANT,\n",
    "                      NUMERO_RUE, RUE , CODE_POSTAL,CODE_COMMUNE, NOM COMMUNE, ID_DEPT,\n",
    "                      TYPE_BIEN, NB_PIECES ,\n",
    "                      SURFACE_BATI,  SURFACE_BATI\n",
    "                      LONGITUDE, LATITUDE )\n",
    "    VALUES (%s,%s,\n",
    "            %s,%s,%s,%s,%s,%s,\n",
    "            %s,%s,\n",
    "            %s,%s,\n",
    "            %s,%s,)\n",
    "    \"\"\"\n",
    "    cursor.execute(query,row[\"date_mutation\"],row['valeur_fonciere']...........)\n",
    "db.commit()"
   ]
  },
  {
   "cell_type": "code",
   "execution_count": null,
   "metadata": {},
   "outputs": [],
   "source": [
    "query=\"\"\"\n",
    "SELECT * FROM VENTES\n",
    "\"\"\"\n",
    "\n",
    "df_rds = pd.read_sql(query, db)\n",
    "df_rds.head()"
   ]
  },
  {
   "cell_type": "code",
   "execution_count": null,
   "metadata": {},
   "outputs": [],
   "source": [
    "query=\"\"\"\n",
    "TRUNCATE TABLE VENTES;\n",
    "\"\"\"\n",
    "cursor.execute(query)\n",
    "\n",
    "query=\"\"\"\n",
    "DROP DATABASE datagouv;\n",
    "\"\"\"\n",
    "cursor.execute(query)"
   ]
  },
  {
   "cell_type": "code",
   "execution_count": null,
   "metadata": {},
   "outputs": [],
   "source": [
    "db.close()"
   ]
  }
 ],
 "metadata": {
  "kernelspec": {
   "display_name": "Python 3",
   "language": "python",
   "name": "python3"
  },
  "language_info": {
   "codemirror_mode": {
    "name": "ipython",
    "version": 3
   },
   "file_extension": ".py",
   "mimetype": "text/x-python",
   "name": "python",
   "nbconvert_exporter": "python",
   "pygments_lexer": "ipython3",
   "version": "3.8.10"
  }
 },
 "nbformat": 4,
 "nbformat_minor": 2
}
