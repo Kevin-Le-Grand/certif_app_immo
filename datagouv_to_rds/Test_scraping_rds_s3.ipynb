{
 "cells": [
  {
   "cell_type": "markdown",
   "metadata": {},
   "source": [
    "# Web-scraping"
   ]
  },
  {
   "cell_type": "code",
   "execution_count": 1,
   "metadata": {},
   "outputs": [],
   "source": [
    "# Librairies pour la décompression de fichiers\n",
    "import gzip\n",
    "from io import BytesIO\n",
    "\n",
    "# Librairies pour le scrapping\n",
    "import requests\n",
    "from bs4 import BeautifulSoup\n",
    "from urllib.parse import urljoin\n",
    "\n",
    "# Visualisation de données\n",
    "import pandas as pd"
   ]
  },
  {
   "cell_type": "code",
   "execution_count": 28,
   "metadata": {},
   "outputs": [],
   "source": [
    "# URL de la page web\n",
    "url = 'https://files.data.gouv.fr/geo-dvf/latest/csv/'\n",
    "\n",
    "response = requests.get(url)\n",
    "html_content = response.content\n",
    "\n",
    "# Utilisez BeautifulSoup pour analyser le HTML\n",
    "soup = BeautifulSoup(html_content, 'html.parser')"
   ]
  },
  {
   "cell_type": "code",
   "execution_count": 29,
   "metadata": {},
   "outputs": [
    {
     "name": "stdout",
     "output_type": "stream",
     "text": [
      "['2018/', '2019/', '2020/', '2021/', '2022/', '2023/']\n"
     ]
    }
   ],
   "source": [
    "# Trouver toutes les balises <a>\n",
    "a_tags = soup.find_all('a')\n",
    "annees=[]\n",
    "# Parcourir chaque balise <a> et extraire le texte ainsi que la date/heure\n",
    "for a_tag in a_tags:\n",
    "    name = a_tag.text.strip()\n",
    "    if name!=\"../\":\n",
    "        annees.append(name)\n",
    "print(annees)"
   ]
  },
  {
   "cell_type": "code",
   "execution_count": 30,
   "metadata": {},
   "outputs": [
    {
     "name": "stdout",
     "output_type": "stream",
     "text": [
      "13-Oct-202320:28-\n"
     ]
    }
   ],
   "source": [
    "date_element = soup.find('pre').contents[-1].strip()\n",
    "date_maj = date_element.replace(\" \",\"\")\n",
    "print(date_maj)"
   ]
  },
  {
   "cell_type": "markdown",
   "metadata": {},
   "source": [
    "# Récupération des données sur une l'année 2023"
   ]
  },
  {
   "cell_type": "code",
   "execution_count": 31,
   "metadata": {},
   "outputs": [
    {
     "name": "stdout",
     "output_type": "stream",
     "text": [
      "https://files.data.gouv.fr/geo-dvf/latest/csv/2022/full.csv.gz\n"
     ]
    }
   ],
   "source": [
    "# Récupération de l'avant denière année pour avoir une année comlpéte\n",
    "url = f'https://files.data.gouv.fr/geo-dvf/latest/csv/{annees[-2]}'\n",
    "response = requests.get(url)\n",
    "html_content = response.content\n",
    "soup = BeautifulSoup(html_content, 'html.parser')\n",
    "\n",
    "# Trouver la balise 'a' qui contient les liens de téléchargement\n",
    "csv_element = soup.find('pre').find('a', {'href': \"full.csv.gz\"})\n",
    "csv_link = urljoin(url, csv_element['href'])\n",
    "print(csv_link)"
   ]
  },
  {
   "cell_type": "code",
   "execution_count": 32,
   "metadata": {},
   "outputs": [],
   "source": [
    "csv_response = requests.get(csv_link)\n",
    "if csv_response.status_code == 200:\n",
    "    # Utilisation du buffer pour décompresser le fichier .gz\n",
    "    with BytesIO(csv_response.content) as file_buffer:\n",
    "        with gzip.GzipFile(fileobj=file_buffer, mode='rb') as gz_file:\n",
    "            df = pd.read_csv(gz_file, low_memory=False)\n",
    "            df = df.drop_duplicates()\n",
    "else :\n",
    "    print(\"Erreur !!!\")"
   ]
  },
  {
   "cell_type": "code",
   "execution_count": 33,
   "metadata": {},
   "outputs": [
    {
     "data": {
      "text/html": [
       "<div>\n",
       "<style scoped>\n",
       "    .dataframe tbody tr th:only-of-type {\n",
       "        vertical-align: middle;\n",
       "    }\n",
       "\n",
       "    .dataframe tbody tr th {\n",
       "        vertical-align: top;\n",
       "    }\n",
       "\n",
       "    .dataframe thead th {\n",
       "        text-align: right;\n",
       "    }\n",
       "</style>\n",
       "<table border=\"1\" class=\"dataframe\">\n",
       "  <thead>\n",
       "    <tr style=\"text-align: right;\">\n",
       "      <th></th>\n",
       "      <th>id_mutation</th>\n",
       "      <th>date_mutation</th>\n",
       "      <th>numero_disposition</th>\n",
       "      <th>nature_mutation</th>\n",
       "      <th>valeur_fonciere</th>\n",
       "      <th>adresse_numero</th>\n",
       "      <th>adresse_suffixe</th>\n",
       "      <th>adresse_nom_voie</th>\n",
       "      <th>adresse_code_voie</th>\n",
       "      <th>code_postal</th>\n",
       "      <th>...</th>\n",
       "      <th>type_local</th>\n",
       "      <th>surface_reelle_bati</th>\n",
       "      <th>nombre_pieces_principales</th>\n",
       "      <th>code_nature_culture</th>\n",
       "      <th>nature_culture</th>\n",
       "      <th>code_nature_culture_speciale</th>\n",
       "      <th>nature_culture_speciale</th>\n",
       "      <th>surface_terrain</th>\n",
       "      <th>longitude</th>\n",
       "      <th>latitude</th>\n",
       "    </tr>\n",
       "  </thead>\n",
       "  <tbody>\n",
       "    <tr>\n",
       "      <th>0</th>\n",
       "      <td>2022-1</td>\n",
       "      <td>2022-01-03</td>\n",
       "      <td>1</td>\n",
       "      <td>Vente</td>\n",
       "      <td>55000.0</td>\n",
       "      <td>13.0</td>\n",
       "      <td>NaN</td>\n",
       "      <td>RUE DE LA LIBERTE</td>\n",
       "      <td>2280</td>\n",
       "      <td>1000.0</td>\n",
       "      <td>...</td>\n",
       "      <td>Appartement</td>\n",
       "      <td>24.0</td>\n",
       "      <td>1.0</td>\n",
       "      <td>NaN</td>\n",
       "      <td>NaN</td>\n",
       "      <td>NaN</td>\n",
       "      <td>NaN</td>\n",
       "      <td>NaN</td>\n",
       "      <td>5.218712</td>\n",
       "      <td>46.198053</td>\n",
       "    </tr>\n",
       "    <tr>\n",
       "      <th>1</th>\n",
       "      <td>2022-2</td>\n",
       "      <td>2022-01-03</td>\n",
       "      <td>1</td>\n",
       "      <td>Vente</td>\n",
       "      <td>143000.0</td>\n",
       "      <td>NaN</td>\n",
       "      <td>NaN</td>\n",
       "      <td>CHAMP COCHET</td>\n",
       "      <td>B010</td>\n",
       "      <td>1480.0</td>\n",
       "      <td>...</td>\n",
       "      <td>NaN</td>\n",
       "      <td>NaN</td>\n",
       "      <td>NaN</td>\n",
       "      <td>S</td>\n",
       "      <td>sols</td>\n",
       "      <td>NaN</td>\n",
       "      <td>NaN</td>\n",
       "      <td>84.0</td>\n",
       "      <td>4.847863</td>\n",
       "      <td>46.000587</td>\n",
       "    </tr>\n",
       "    <tr>\n",
       "      <th>2</th>\n",
       "      <td>2022-2</td>\n",
       "      <td>2022-01-03</td>\n",
       "      <td>1</td>\n",
       "      <td>Vente</td>\n",
       "      <td>143000.0</td>\n",
       "      <td>NaN</td>\n",
       "      <td>NaN</td>\n",
       "      <td>CHAMP COCHET</td>\n",
       "      <td>B010</td>\n",
       "      <td>1480.0</td>\n",
       "      <td>...</td>\n",
       "      <td>NaN</td>\n",
       "      <td>NaN</td>\n",
       "      <td>NaN</td>\n",
       "      <td>S</td>\n",
       "      <td>sols</td>\n",
       "      <td>NaN</td>\n",
       "      <td>NaN</td>\n",
       "      <td>88.0</td>\n",
       "      <td>4.847924</td>\n",
       "      <td>46.000581</td>\n",
       "    </tr>\n",
       "    <tr>\n",
       "      <th>3</th>\n",
       "      <td>2022-2</td>\n",
       "      <td>2022-01-03</td>\n",
       "      <td>1</td>\n",
       "      <td>Vente</td>\n",
       "      <td>143000.0</td>\n",
       "      <td>98.0</td>\n",
       "      <td>NaN</td>\n",
       "      <td>RTE DE LA DOMBES</td>\n",
       "      <td>0055</td>\n",
       "      <td>1480.0</td>\n",
       "      <td>...</td>\n",
       "      <td>Appartement</td>\n",
       "      <td>140.0</td>\n",
       "      <td>3.0</td>\n",
       "      <td>NaN</td>\n",
       "      <td>NaN</td>\n",
       "      <td>NaN</td>\n",
       "      <td>NaN</td>\n",
       "      <td>NaN</td>\n",
       "      <td>4.848340</td>\n",
       "      <td>46.000631</td>\n",
       "    </tr>\n",
       "    <tr>\n",
       "      <th>4</th>\n",
       "      <td>2022-3</td>\n",
       "      <td>2022-01-04</td>\n",
       "      <td>1</td>\n",
       "      <td>Vente</td>\n",
       "      <td>300.0</td>\n",
       "      <td>NaN</td>\n",
       "      <td>NaN</td>\n",
       "      <td>AUX PIERRES</td>\n",
       "      <td>B031</td>\n",
       "      <td>1480.0</td>\n",
       "      <td>...</td>\n",
       "      <td>NaN</td>\n",
       "      <td>NaN</td>\n",
       "      <td>NaN</td>\n",
       "      <td>T</td>\n",
       "      <td>terres</td>\n",
       "      <td>NaN</td>\n",
       "      <td>NaN</td>\n",
       "      <td>510.0</td>\n",
       "      <td>4.747594</td>\n",
       "      <td>46.045423</td>\n",
       "    </tr>\n",
       "  </tbody>\n",
       "</table>\n",
       "<p>5 rows × 40 columns</p>\n",
       "</div>"
      ],
      "text/plain": [
       "  id_mutation date_mutation  numero_disposition nature_mutation  \\\n",
       "0      2022-1    2022-01-03                   1           Vente   \n",
       "1      2022-2    2022-01-03                   1           Vente   \n",
       "2      2022-2    2022-01-03                   1           Vente   \n",
       "3      2022-2    2022-01-03                   1           Vente   \n",
       "4      2022-3    2022-01-04                   1           Vente   \n",
       "\n",
       "   valeur_fonciere  adresse_numero adresse_suffixe   adresse_nom_voie  \\\n",
       "0          55000.0            13.0             NaN  RUE DE LA LIBERTE   \n",
       "1         143000.0             NaN             NaN       CHAMP COCHET   \n",
       "2         143000.0             NaN             NaN       CHAMP COCHET   \n",
       "3         143000.0            98.0             NaN   RTE DE LA DOMBES   \n",
       "4            300.0             NaN             NaN        AUX PIERRES   \n",
       "\n",
       "  adresse_code_voie  code_postal  ...   type_local surface_reelle_bati  \\\n",
       "0              2280       1000.0  ...  Appartement                24.0   \n",
       "1              B010       1480.0  ...          NaN                 NaN   \n",
       "2              B010       1480.0  ...          NaN                 NaN   \n",
       "3              0055       1480.0  ...  Appartement               140.0   \n",
       "4              B031       1480.0  ...          NaN                 NaN   \n",
       "\n",
       "  nombre_pieces_principales  code_nature_culture nature_culture  \\\n",
       "0                       1.0                  NaN            NaN   \n",
       "1                       NaN                    S           sols   \n",
       "2                       NaN                    S           sols   \n",
       "3                       3.0                  NaN            NaN   \n",
       "4                       NaN                    T         terres   \n",
       "\n",
       "  code_nature_culture_speciale nature_culture_speciale surface_terrain  \\\n",
       "0                          NaN                     NaN             NaN   \n",
       "1                          NaN                     NaN            84.0   \n",
       "2                          NaN                     NaN            88.0   \n",
       "3                          NaN                     NaN             NaN   \n",
       "4                          NaN                     NaN           510.0   \n",
       "\n",
       "  longitude   latitude  \n",
       "0  5.218712  46.198053  \n",
       "1  4.847863  46.000587  \n",
       "2  4.847924  46.000581  \n",
       "3  4.848340  46.000631  \n",
       "4  4.747594  46.045423  \n",
       "\n",
       "[5 rows x 40 columns]"
      ]
     },
     "execution_count": 33,
     "metadata": {},
     "output_type": "execute_result"
    }
   ],
   "source": [
    "df.head()"
   ]
  },
  {
   "cell_type": "markdown",
   "metadata": {},
   "source": [
    "# EDA sur 2023"
   ]
  },
  {
   "cell_type": "code",
   "execution_count": 34,
   "metadata": {},
   "outputs": [
    {
     "name": "stdout",
     "output_type": "stream",
     "text": [
      "['id_mutation', 'date_mutation', 'numero_disposition', 'nature_mutation', 'valeur_fonciere', 'adresse_numero', 'adresse_suffixe', 'adresse_nom_voie', 'adresse_code_voie', 'code_postal', 'code_commune', 'nom_commune', 'code_departement', 'ancien_code_commune', 'ancien_nom_commune', 'id_parcelle', 'ancien_id_parcelle', 'numero_volume', 'lot1_numero', 'lot1_surface_carrez', 'lot2_numero', 'lot2_surface_carrez', 'lot3_numero', 'lot3_surface_carrez', 'lot4_numero', 'lot4_surface_carrez', 'lot5_numero', 'lot5_surface_carrez', 'nombre_lots', 'code_type_local', 'type_local', 'surface_reelle_bati', 'nombre_pieces_principales', 'code_nature_culture', 'nature_culture', 'code_nature_culture_speciale', 'nature_culture_speciale', 'surface_terrain', 'longitude', 'latitude']\n",
      "(4617590, 40)\n"
     ]
    }
   ],
   "source": [
    "print(df.columns.to_list())\n",
    "print(df.shape)\n"
   ]
  },
  {
   "cell_type": "code",
   "execution_count": 35,
   "metadata": {},
   "outputs": [
    {
     "name": "stdout",
     "output_type": "stream",
     "text": [
      "Nature de la mutation :\n",
      " nature_mutation\n",
      "Vente                                 4267222\n",
      "Vente en l'état futur d'achèvement     280574\n",
      "Echange                                 45200\n",
      "Vente terrain à bâtir                   14268\n",
      "Adjudication                             9424\n",
      "Expropriation                             902\n",
      "Name: count, dtype: int64\n",
      "Type de local :\n",
      " type_local\n",
      "Dépendance                                  1203439\n",
      "Maison                                       756009\n",
      "Appartement                                  638879\n",
      "Local industriel. commercial ou assimilé     142535\n",
      "Name: count, dtype: int64\n"
     ]
    }
   ],
   "source": [
    "print(\"Nature de la mutation :\\n\",df.nature_mutation.value_counts())\n",
    "print(\"Type de local :\\n\", df.type_local.value_counts())"
   ]
  },
  {
   "cell_type": "markdown",
   "metadata": {},
   "source": [
    "### Selection des variables"
   ]
  },
  {
   "cell_type": "code",
   "execution_count": 36,
   "metadata": {},
   "outputs": [
    {
     "data": {
      "text/html": [
       "<div>\n",
       "<style scoped>\n",
       "    .dataframe tbody tr th:only-of-type {\n",
       "        vertical-align: middle;\n",
       "    }\n",
       "\n",
       "    .dataframe tbody tr th {\n",
       "        vertical-align: top;\n",
       "    }\n",
       "\n",
       "    .dataframe thead th {\n",
       "        text-align: right;\n",
       "    }\n",
       "</style>\n",
       "<table border=\"1\" class=\"dataframe\">\n",
       "  <thead>\n",
       "    <tr style=\"text-align: right;\">\n",
       "      <th></th>\n",
       "      <th>date_mutation</th>\n",
       "      <th>valeur_fonciere</th>\n",
       "      <th>adresse_numero</th>\n",
       "      <th>adresse_nom_voie</th>\n",
       "      <th>code_postal</th>\n",
       "      <th>code_commune</th>\n",
       "      <th>nom_commune</th>\n",
       "      <th>code_departement</th>\n",
       "      <th>type_local</th>\n",
       "      <th>nombre_pieces_principales</th>\n",
       "      <th>surface_reelle_bati</th>\n",
       "      <th>surface_terrain</th>\n",
       "      <th>longitude</th>\n",
       "      <th>latitude</th>\n",
       "    </tr>\n",
       "  </thead>\n",
       "  <tbody>\n",
       "    <tr>\n",
       "      <th>0</th>\n",
       "      <td>2022-01-03</td>\n",
       "      <td>55000.0</td>\n",
       "      <td>13.0</td>\n",
       "      <td>RUE DE LA LIBERTE</td>\n",
       "      <td>1000.0</td>\n",
       "      <td>01053</td>\n",
       "      <td>Bourg-en-Bresse</td>\n",
       "      <td>01</td>\n",
       "      <td>Appartement</td>\n",
       "      <td>1.0</td>\n",
       "      <td>24.0</td>\n",
       "      <td>NaN</td>\n",
       "      <td>5.218712</td>\n",
       "      <td>46.198053</td>\n",
       "    </tr>\n",
       "    <tr>\n",
       "      <th>3</th>\n",
       "      <td>2022-01-03</td>\n",
       "      <td>143000.0</td>\n",
       "      <td>98.0</td>\n",
       "      <td>RTE DE LA DOMBES</td>\n",
       "      <td>1480.0</td>\n",
       "      <td>01398</td>\n",
       "      <td>Savigneux</td>\n",
       "      <td>01</td>\n",
       "      <td>Appartement</td>\n",
       "      <td>3.0</td>\n",
       "      <td>140.0</td>\n",
       "      <td>NaN</td>\n",
       "      <td>4.848340</td>\n",
       "      <td>46.000631</td>\n",
       "    </tr>\n",
       "    <tr>\n",
       "      <th>5</th>\n",
       "      <td>2022-01-06</td>\n",
       "      <td>255000.0</td>\n",
       "      <td>282.0</td>\n",
       "      <td>RTE DE POISATON</td>\n",
       "      <td>1560.0</td>\n",
       "      <td>01230</td>\n",
       "      <td>Mantenay-Montlin</td>\n",
       "      <td>01</td>\n",
       "      <td>Maison</td>\n",
       "      <td>5.0</td>\n",
       "      <td>108.0</td>\n",
       "      <td>649.0</td>\n",
       "      <td>5.103407</td>\n",
       "      <td>46.422348</td>\n",
       "    </tr>\n",
       "    <tr>\n",
       "      <th>8</th>\n",
       "      <td>2022-01-03</td>\n",
       "      <td>525000.0</td>\n",
       "      <td>217.0</td>\n",
       "      <td>PL DE LA CROIX BLANCHE</td>\n",
       "      <td>1390.0</td>\n",
       "      <td>01333</td>\n",
       "      <td>Saint-André-de-Corcy</td>\n",
       "      <td>01</td>\n",
       "      <td>Appartement</td>\n",
       "      <td>4.0</td>\n",
       "      <td>126.0</td>\n",
       "      <td>628.0</td>\n",
       "      <td>4.951266</td>\n",
       "      <td>45.926511</td>\n",
       "    </tr>\n",
       "    <tr>\n",
       "      <th>12</th>\n",
       "      <td>2022-01-05</td>\n",
       "      <td>64000.0</td>\n",
       "      <td>12.0</td>\n",
       "      <td>BD DE BROU</td>\n",
       "      <td>1000.0</td>\n",
       "      <td>01053</td>\n",
       "      <td>Bourg-en-Bresse</td>\n",
       "      <td>01</td>\n",
       "      <td>Appartement</td>\n",
       "      <td>2.0</td>\n",
       "      <td>117.0</td>\n",
       "      <td>NaN</td>\n",
       "      <td>5.229155</td>\n",
       "      <td>46.204984</td>\n",
       "    </tr>\n",
       "  </tbody>\n",
       "</table>\n",
       "</div>"
      ],
      "text/plain": [
       "   date_mutation  valeur_fonciere  adresse_numero        adresse_nom_voie  \\\n",
       "0     2022-01-03          55000.0            13.0       RUE DE LA LIBERTE   \n",
       "3     2022-01-03         143000.0            98.0        RTE DE LA DOMBES   \n",
       "5     2022-01-06         255000.0           282.0         RTE DE POISATON   \n",
       "8     2022-01-03         525000.0           217.0  PL DE LA CROIX BLANCHE   \n",
       "12    2022-01-05          64000.0            12.0              BD DE BROU   \n",
       "\n",
       "    code_postal code_commune           nom_commune code_departement  \\\n",
       "0        1000.0        01053       Bourg-en-Bresse               01   \n",
       "3        1480.0        01398             Savigneux               01   \n",
       "5        1560.0        01230      Mantenay-Montlin               01   \n",
       "8        1390.0        01333  Saint-André-de-Corcy               01   \n",
       "12       1000.0        01053       Bourg-en-Bresse               01   \n",
       "\n",
       "     type_local  nombre_pieces_principales  surface_reelle_bati  \\\n",
       "0   Appartement                        1.0                 24.0   \n",
       "3   Appartement                        3.0                140.0   \n",
       "5        Maison                        5.0                108.0   \n",
       "8   Appartement                        4.0                126.0   \n",
       "12  Appartement                        2.0                117.0   \n",
       "\n",
       "    surface_terrain  longitude   latitude  \n",
       "0               NaN   5.218712  46.198053  \n",
       "3               NaN   4.848340  46.000631  \n",
       "5             649.0   5.103407  46.422348  \n",
       "8             628.0   4.951266  45.926511  \n",
       "12              NaN   5.229155  46.204984  "
      ]
     },
     "execution_count": 36,
     "metadata": {},
     "output_type": "execute_result"
    }
   ],
   "source": [
    "df = df.loc[(df.nature_mutation==\"Vente\") & ((df.type_local==\"Maison\") | (df.type_local==\"Appartement\")),\n",
    "                                          [\"date_mutation\",\"valeur_fonciere\",\n",
    "                                           \"adresse_numero\",\"adresse_nom_voie\",\n",
    "                                           \"code_postal\",\"code_commune\",\"nom_commune\",\"code_departement\",\n",
    "                                           \"type_local\",\"nombre_pieces_principales\",\n",
    "                                           \"surface_reelle_bati\",\"surface_terrain\",\n",
    "                                           \"longitude\", \"latitude\"]]\n",
    "df.head()"
   ]
  },
  {
   "cell_type": "code",
   "execution_count": 37,
   "metadata": {},
   "outputs": [
    {
     "name": "stdout",
     "output_type": "stream",
     "text": [
      "(1378948, 14)\n",
      "date_mutation                     0\n",
      "valeur_fonciere                3263\n",
      "adresse_numero                 7105\n",
      "adresse_nom_voie                 38\n",
      "code_postal                      35\n",
      "code_commune                      0\n",
      "nom_commune                       0\n",
      "code_departement                  0\n",
      "type_local                        0\n",
      "nombre_pieces_principales        77\n",
      "surface_reelle_bati              77\n",
      "surface_terrain              512854\n",
      "longitude                     10963\n",
      "latitude                      10963\n",
      "dtype: int64\n"
     ]
    }
   ],
   "source": [
    "print(df.shape)\n",
    "print(df.isna().sum())"
   ]
  },
  {
   "cell_type": "markdown",
   "metadata": {},
   "source": [
    "### Gestion des valeurs manquantes :"
   ]
  },
  {
   "cell_type": "code",
   "execution_count": 39,
   "metadata": {},
   "outputs": [],
   "source": [
    "# Suppression des lignes avec une valeur foncière manquante ou des coordonnées manquantes\n",
    "df = df.dropna(subset=['valeur_fonciere'])\n",
    "df = df.dropna(subset=['longitude'])\n",
    "df = df.dropna(subset=['latitude'])\n",
    "df = df.dropna(subset=['adresse_nom_voie'])\n",
    "df = df.dropna(subset=['code_postal'])\n",
    "df = df.dropna(subset=['surface_reelle_bati'])\n"
   ]
  },
  {
   "cell_type": "code",
   "execution_count": 41,
   "metadata": {},
   "outputs": [],
   "source": [
    "# remplacement des valeurs manquantes de adresse_numero et surface_terrain par 0.0\n",
    "# car l'adresse n'a pas forcéméent de numéro et un appartement n'a pas de terrain\n",
    "df['adresse_numero'] = df['adresse_numero'].fillna(0)\n",
    "df['surface_terrain'] = df['surface_terrain'].fillna(0)"
   ]
  },
  {
   "cell_type": "code",
   "execution_count": 42,
   "metadata": {},
   "outputs": [
    {
     "name": "stdout",
     "output_type": "stream",
     "text": [
      "(1364686, 14)\n",
      "date_mutation                0\n",
      "valeur_fonciere              0\n",
      "adresse_numero               0\n",
      "adresse_nom_voie             0\n",
      "code_postal                  0\n",
      "code_commune                 0\n",
      "nom_commune                  0\n",
      "code_departement             0\n",
      "type_local                   0\n",
      "nombre_pieces_principales    0\n",
      "surface_reelle_bati          0\n",
      "surface_terrain              0\n",
      "longitude                    0\n",
      "latitude                     0\n",
      "dtype: int64\n"
     ]
    }
   ],
   "source": [
    "print(df.shape)\n",
    "print(df.isna().sum())"
   ]
  },
  {
   "cell_type": "markdown",
   "metadata": {},
   "source": [
    "### Création d'une table rds test pour insérer les données"
   ]
  },
  {
   "cell_type": "markdown",
   "metadata": {},
   "source": [
    "<img src=\"https://raw.githubusercontent.com/rastakoer/certif_app_immo/datagouv_to_rds/datagouv_to_rds/mld.PNG\" alt=\"Schema de la bdd\">\n"
   ]
  },
  {
   "cell_type": "markdown",
   "metadata": {},
   "source": [
    "#### Création d'une table test pour valider le type de données"
   ]
  },
  {
   "cell_type": "code",
   "execution_count": 16,
   "metadata": {},
   "outputs": [],
   "source": [
    "from connection import db,cursor\n",
    "\n",
    "def create_database_and_tables():\n",
    "    query=\"\"\"\n",
    "    CREATE DATABASE IF NOT EXISTS datagouv;\n",
    "    \"\"\"\n",
    "    cursor.execute(query)\n",
    "\n",
    "    query=\"\"\"\n",
    "    USE datagouv;\n",
    "    \"\"\"\n",
    "    cursor.execute(query)\n",
    "\n",
    "    # Lecture de fichier create_tables\n",
    "    with open('create_tables.sql') as file:\n",
    "        sql_queries = file.read()\n",
    "    try :\n",
    "        for query in sql_queries.split(';'):\n",
    "            query = query.strip()\n",
    "            print(query)\n",
    "            cursor.execute(query)\n",
    "    except Exception as e:\n",
    "        print(f\"Erreur dans la creation des tables : {e}\")\n",
    "        db.rollback()\n",
    "\n",
    "    query=\"\"\"\n",
    "    SHOW TABLES;\n",
    "    \"\"\"\n",
    "    cursor.execute(query)\n",
    "    tables = cursor.fetchall()\n",
    "\n",
    "    # Afficher les tables\n",
    "    for table in tables:\n",
    "        print(f\"La table {table[0]} à bien été créée\")\n",
    "    return\n",
    "\n",
    "def delete_tables():\n",
    "    cursor.execute(\"SET foreign_key_checks = 0\")\n",
    "    cursor.execute(\"SHOW TABLES;\")\n",
    "    # Parcourir la liste des tables et supprimer chacune d'entre elles\n",
    "    for table_name in cursor.fetchall():\n",
    "        drop_table_query = f\"DROP TABLE {table_name[0]}\"\n",
    "        cursor.execute(drop_table_query)\n",
    "        print(f\"Table {table_name} supprimée avec succès.\")\n",
    "\n",
    "    # Valider et appliquer les modifications\n",
    "    db.commit()\n",
    "    return\n",
    "\n",
    "def closing_connection():\n",
    "    cursor.close()\n",
    "    db.close()\n",
    "    return"
   ]
  },
  {
   "cell_type": "code",
   "execution_count": 17,
   "metadata": {},
   "outputs": [
    {
     "name": "stdout",
     "output_type": "stream",
     "text": [
      "#------------------------------------------------------------\n",
      "#        Script MySQL.\n",
      "#------------------------------------------------------------\n",
      "\n",
      "\n",
      "#------------------------------------------------------------\n",
      "# Table: REGIONS\n",
      "#------------------------------------------------------------\n",
      "\n",
      "CREATE TABLE IF NOT EXISTS REGIONS(\n",
      "        ID_REGION   Int  Auto_increment  NOT NULL ,\n",
      "        Name_region Varchar (50) NOT NULL\n",
      "\t,CONSTRAINT REGIONS_PK PRIMARY KEY (ID_REGION)\n",
      ")ENGINE=InnoDB\n",
      "#------------------------------------------------------------\n",
      "# Table: DEPARTEMENTS\n",
      "#------------------------------------------------------------\n",
      "\n",
      "CREATE TABLE IF NOT EXISTS DEPARTEMENTS(\n",
      "        ID_DEPT          Varchar (3) NOT NULL ,\n",
      "        Name_departement Varchar (50) NOT NULL ,\n",
      "        ID_REGION        Int NOT NULL\n",
      "\t,CONSTRAINT DEPARTEMENTS_PK PRIMARY KEY (ID_DEPT)\n",
      "\n",
      "\t,CONSTRAINT DEPARTEMENTS_REGIONS_FK FOREIGN KEY (ID_REGION) REFERENCES REGIONS(ID_REGION)\n",
      ")ENGINE=InnoDB\n",
      "#------------------------------------------------------------\n",
      "# Table: TYPES_BIENS\n",
      "#------------------------------------------------------------\n",
      "\n",
      "CREATE TABLE IF NOT EXISTS TYPES_BIENS(\n",
      "        ID_TYPE_BIEN   Int  Auto_increment  NOT NULL ,\n",
      "        NAME_TYPE_BIEN Varchar (50) NOT NULL\n",
      "\t,CONSTRAINT TYPES_BIENS_PK PRIMARY KEY (ID_TYPE_BIEN)\n",
      ")ENGINE=InnoDB\n",
      "#------------------------------------------------------------\n",
      "# Table: COMMUNES\n",
      "#------------------------------------------------------------\n",
      "\n",
      "CREATE TABLE IF NOT EXISTS COMMUNES(\n",
      "        ID_COMMUNE   Varchar (50) NOT NULL ,\n",
      "        NAME_COMMUNE Varchar (50) NOT NULL ,\n",
      "        ID_DEPT      Varchar (3) NOT NULL\n",
      "\t,CONSTRAINT COMMUNES_PK PRIMARY KEY (ID_COMMUNE)\n",
      "\n",
      "\t,CONSTRAINT COMMUNES_DEPARTEMENTS_FK FOREIGN KEY (ID_DEPT) REFERENCES DEPARTEMENTS(ID_DEPT)\n",
      ")ENGINE=InnoDB\n",
      "#------------------------------------------------------------\n",
      "# Table: VENTES\n",
      "#------------------------------------------------------------\n",
      "\n",
      "CREATE TABLE IF NOT EXISTS VENTES(\n",
      "        ID_VENTE        Int  Auto_increment  NOT NULL ,\n",
      "        MONTANT         Int NOT NULL ,\n",
      "        NUMERO_RUE      Varchar (50) NOT NULL ,\n",
      "        RUE             Varchar (50) NOT NULL ,\n",
      "        CODE_POSTAL     Int NOT NULL ,\n",
      "        LONGITUDE       Decimal (9,6) NOT NULL ,\n",
      "        LATITUDE        Decimal (9,6) NOT NULL ,\n",
      "        DATE            Datetime NOT NULL ,\n",
      "        SURFACE_BATI    Int NOT NULL ,\n",
      "        NB_PIECES       Int NOT NULL ,\n",
      "        SURFACE_TERRAIN Int NOT NULL ,\n",
      "        ID_TYPE_BIEN    Int NOT NULL ,\n",
      "        ID_COMMUNE      Varchar (50) NOT NULL\n",
      "\t,CONSTRAINT VENTES_PK PRIMARY KEY (ID_VENTE)\n",
      "\n",
      "\t,CONSTRAINT VENTES_TYPES_BIENS_FK FOREIGN KEY (ID_TYPE_BIEN) REFERENCES TYPES_BIENS(ID_TYPE_BIEN)\n",
      "\t,CONSTRAINT VENTES_COMMUNES0_FK FOREIGN KEY (ID_COMMUNE) REFERENCES COMMUNES(ID_COMMUNE)\n",
      ")ENGINE=InnoDB\n",
      "\n",
      "Erreur dans la creation des tables : (1065, 'Query was empty')\n",
      "La table COMMUNES à bien été créée\n",
      "La table DEPARTEMENTS à bien été créée\n",
      "La table REGIONS à bien été créée\n",
      "La table TYPES_BIENS à bien été créée\n",
      "La table VENTES à bien été créée\n"
     ]
    }
   ],
   "source": [
    "create_database_and_tables()"
   ]
  },
  {
   "cell_type": "code",
   "execution_count": 18,
   "metadata": {},
   "outputs": [
    {
     "name": "stdout",
     "output_type": "stream",
     "text": [
      "Table ('COMMUNES',) supprimée avec succès.\n",
      "Table ('DEPARTEMENTS',) supprimée avec succès.\n",
      "Table ('REGIONS',) supprimée avec succès.\n",
      "Table ('TYPES_BIENS',) supprimée avec succès.\n",
      "Table ('VENTES',) supprimée avec succès.\n"
     ]
    }
   ],
   "source": [
    "delete_tables()"
   ]
  },
  {
   "cell_type": "code",
   "execution_count": 20,
   "metadata": {},
   "outputs": [],
   "source": [
    "closing_connection()"
   ]
  },
  {
   "cell_type": "markdown",
   "metadata": {},
   "source": [
    "### Récupération des noms de communes, départements et région depuis l'api data.gouv "
   ]
  },
  {
   "cell_type": "code",
   "execution_count": 2,
   "metadata": {},
   "outputs": [
    {
     "data": {
      "text/html": [
       "<div>\n",
       "<style scoped>\n",
       "    .dataframe tbody tr th:only-of-type {\n",
       "        vertical-align: middle;\n",
       "    }\n",
       "\n",
       "    .dataframe tbody tr th {\n",
       "        vertical-align: top;\n",
       "    }\n",
       "\n",
       "    .dataframe thead th {\n",
       "        text-align: right;\n",
       "    }\n",
       "</style>\n",
       "<table border=\"1\" class=\"dataframe\">\n",
       "  <thead>\n",
       "    <tr style=\"text-align: right;\">\n",
       "      <th></th>\n",
       "      <th>ID_COMMUNE</th>\n",
       "      <th>NAME_COMMUNE</th>\n",
       "      <th>ID_DEPT</th>\n",
       "    </tr>\n",
       "  </thead>\n",
       "  <tbody>\n",
       "    <tr>\n",
       "      <th>0</th>\n",
       "      <td>01001</td>\n",
       "      <td>L'Abergement-Clémenciat</td>\n",
       "      <td>01</td>\n",
       "    </tr>\n",
       "    <tr>\n",
       "      <th>1</th>\n",
       "      <td>01002</td>\n",
       "      <td>L'Abergement-de-Varey</td>\n",
       "      <td>01</td>\n",
       "    </tr>\n",
       "    <tr>\n",
       "      <th>2</th>\n",
       "      <td>01004</td>\n",
       "      <td>Ambérieu-en-Bugey</td>\n",
       "      <td>01</td>\n",
       "    </tr>\n",
       "    <tr>\n",
       "      <th>3</th>\n",
       "      <td>01005</td>\n",
       "      <td>Ambérieux-en-Dombes</td>\n",
       "      <td>01</td>\n",
       "    </tr>\n",
       "    <tr>\n",
       "      <th>4</th>\n",
       "      <td>01006</td>\n",
       "      <td>Ambléon</td>\n",
       "      <td>01</td>\n",
       "    </tr>\n",
       "  </tbody>\n",
       "</table>\n",
       "</div>"
      ],
      "text/plain": [
       "  ID_COMMUNE             NAME_COMMUNE ID_DEPT\n",
       "0      01001  L'Abergement-Clémenciat      01\n",
       "1      01002    L'Abergement-de-Varey      01\n",
       "2      01004        Ambérieu-en-Bugey      01\n",
       "3      01005      Ambérieux-en-Dombes      01\n",
       "4      01006                  Ambléon      01"
      ]
     },
     "execution_count": 2,
     "metadata": {},
     "output_type": "execute_result"
    }
   ],
   "source": [
    "### Récupération des codes communes , noms communes et code départements \n",
    "url = \"https://geo.api.gouv.fr/communes\"\n",
    "response = requests.get(url)\n",
    "data_communes = response.json()\n",
    "df_communes = pd.DataFrame(data_communes)\n",
    "df_communes = df_communes.loc[:,[\"code\",\"nom\",\"codeDepartement\"]]\n",
    "df_communes = df_communes.drop_duplicates()\n",
    "df_communes.columns= [\"ID_COMMUNE\",\"NAME_COMMUNE\",\"ID_DEPT\"]\n",
    "df_communes.head()"
   ]
  },
  {
   "cell_type": "code",
   "execution_count": 2,
   "metadata": {},
   "outputs": [
    {
     "ename": "ConnectionError",
     "evalue": "HTTPSConnectionPool(host='geo.api.gouv.fr', port=443): Max retries exceeded with url: /departements (Caused by NewConnectionError('<urllib3.connection.HTTPSConnection object at 0x7ff454a77430>: Failed to establish a new connection: [Errno -3] Temporary failure in name resolution'))",
     "output_type": "error",
     "traceback": [
      "\u001b[0;31m---------------------------------------------------------------------------\u001b[0m",
      "\u001b[0;31mgaierror\u001b[0m                                  Traceback (most recent call last)",
      "File \u001b[0;32m~/workspace/certif_app_immo/datagouv_to_rds/.venv/lib/python3.8/site-packages/urllib3/connection.py:174\u001b[0m, in \u001b[0;36mHTTPConnection._new_conn\u001b[0;34m(self)\u001b[0m\n\u001b[1;32m    173\u001b[0m \u001b[39mtry\u001b[39;00m:\n\u001b[0;32m--> 174\u001b[0m     conn \u001b[39m=\u001b[39m connection\u001b[39m.\u001b[39;49mcreate_connection(\n\u001b[1;32m    175\u001b[0m         (\u001b[39mself\u001b[39;49m\u001b[39m.\u001b[39;49m_dns_host, \u001b[39mself\u001b[39;49m\u001b[39m.\u001b[39;49mport), \u001b[39mself\u001b[39;49m\u001b[39m.\u001b[39;49mtimeout, \u001b[39m*\u001b[39;49m\u001b[39m*\u001b[39;49mextra_kw\n\u001b[1;32m    176\u001b[0m     )\n\u001b[1;32m    178\u001b[0m \u001b[39mexcept\u001b[39;00m SocketTimeout:\n",
      "File \u001b[0;32m~/workspace/certif_app_immo/datagouv_to_rds/.venv/lib/python3.8/site-packages/urllib3/util/connection.py:72\u001b[0m, in \u001b[0;36mcreate_connection\u001b[0;34m(address, timeout, source_address, socket_options)\u001b[0m\n\u001b[1;32m     68\u001b[0m     \u001b[39mreturn\u001b[39;00m six\u001b[39m.\u001b[39mraise_from(\n\u001b[1;32m     69\u001b[0m         LocationParseError(\u001b[39mu\u001b[39m\u001b[39m\"\u001b[39m\u001b[39m'\u001b[39m\u001b[39m%s\u001b[39;00m\u001b[39m'\u001b[39m\u001b[39m, label empty or too long\u001b[39m\u001b[39m\"\u001b[39m \u001b[39m%\u001b[39m host), \u001b[39mNone\u001b[39;00m\n\u001b[1;32m     70\u001b[0m     )\n\u001b[0;32m---> 72\u001b[0m \u001b[39mfor\u001b[39;00m res \u001b[39min\u001b[39;00m socket\u001b[39m.\u001b[39;49mgetaddrinfo(host, port, family, socket\u001b[39m.\u001b[39;49mSOCK_STREAM):\n\u001b[1;32m     73\u001b[0m     af, socktype, proto, canonname, sa \u001b[39m=\u001b[39m res\n",
      "File \u001b[0;32m/usr/lib/python3.8/socket.py:918\u001b[0m, in \u001b[0;36mgetaddrinfo\u001b[0;34m(host, port, family, type, proto, flags)\u001b[0m\n\u001b[1;32m    917\u001b[0m addrlist \u001b[39m=\u001b[39m []\n\u001b[0;32m--> 918\u001b[0m \u001b[39mfor\u001b[39;00m res \u001b[39min\u001b[39;00m _socket\u001b[39m.\u001b[39;49mgetaddrinfo(host, port, family, \u001b[39mtype\u001b[39;49m, proto, flags):\n\u001b[1;32m    919\u001b[0m     af, socktype, proto, canonname, sa \u001b[39m=\u001b[39m res\n",
      "\u001b[0;31mgaierror\u001b[0m: [Errno -3] Temporary failure in name resolution",
      "\nDuring handling of the above exception, another exception occurred:\n",
      "\u001b[0;31mNewConnectionError\u001b[0m                        Traceback (most recent call last)",
      "File \u001b[0;32m~/workspace/certif_app_immo/datagouv_to_rds/.venv/lib/python3.8/site-packages/urllib3/connectionpool.py:715\u001b[0m, in \u001b[0;36mHTTPConnectionPool.urlopen\u001b[0;34m(self, method, url, body, headers, retries, redirect, assert_same_host, timeout, pool_timeout, release_conn, chunked, body_pos, **response_kw)\u001b[0m\n\u001b[1;32m    714\u001b[0m \u001b[39m# Make the request on the httplib connection object.\u001b[39;00m\n\u001b[0;32m--> 715\u001b[0m httplib_response \u001b[39m=\u001b[39m \u001b[39mself\u001b[39;49m\u001b[39m.\u001b[39;49m_make_request(\n\u001b[1;32m    716\u001b[0m     conn,\n\u001b[1;32m    717\u001b[0m     method,\n\u001b[1;32m    718\u001b[0m     url,\n\u001b[1;32m    719\u001b[0m     timeout\u001b[39m=\u001b[39;49mtimeout_obj,\n\u001b[1;32m    720\u001b[0m     body\u001b[39m=\u001b[39;49mbody,\n\u001b[1;32m    721\u001b[0m     headers\u001b[39m=\u001b[39;49mheaders,\n\u001b[1;32m    722\u001b[0m     chunked\u001b[39m=\u001b[39;49mchunked,\n\u001b[1;32m    723\u001b[0m )\n\u001b[1;32m    725\u001b[0m \u001b[39m# If we're going to release the connection in ``finally:``, then\u001b[39;00m\n\u001b[1;32m    726\u001b[0m \u001b[39m# the response doesn't need to know about the connection. Otherwise\u001b[39;00m\n\u001b[1;32m    727\u001b[0m \u001b[39m# it will also try to release it and we'll have a double-release\u001b[39;00m\n\u001b[1;32m    728\u001b[0m \u001b[39m# mess.\u001b[39;00m\n",
      "File \u001b[0;32m~/workspace/certif_app_immo/datagouv_to_rds/.venv/lib/python3.8/site-packages/urllib3/connectionpool.py:404\u001b[0m, in \u001b[0;36mHTTPConnectionPool._make_request\u001b[0;34m(self, conn, method, url, timeout, chunked, **httplib_request_kw)\u001b[0m\n\u001b[1;32m    403\u001b[0m \u001b[39mtry\u001b[39;00m:\n\u001b[0;32m--> 404\u001b[0m     \u001b[39mself\u001b[39;49m\u001b[39m.\u001b[39;49m_validate_conn(conn)\n\u001b[1;32m    405\u001b[0m \u001b[39mexcept\u001b[39;00m (SocketTimeout, BaseSSLError) \u001b[39mas\u001b[39;00m e:\n\u001b[1;32m    406\u001b[0m     \u001b[39m# Py2 raises this as a BaseSSLError, Py3 raises it as socket timeout.\u001b[39;00m\n",
      "File \u001b[0;32m~/workspace/certif_app_immo/datagouv_to_rds/.venv/lib/python3.8/site-packages/urllib3/connectionpool.py:1058\u001b[0m, in \u001b[0;36mHTTPSConnectionPool._validate_conn\u001b[0;34m(self, conn)\u001b[0m\n\u001b[1;32m   1057\u001b[0m \u001b[39mif\u001b[39;00m \u001b[39mnot\u001b[39;00m \u001b[39mgetattr\u001b[39m(conn, \u001b[39m\"\u001b[39m\u001b[39msock\u001b[39m\u001b[39m\"\u001b[39m, \u001b[39mNone\u001b[39;00m):  \u001b[39m# AppEngine might not have  `.sock`\u001b[39;00m\n\u001b[0;32m-> 1058\u001b[0m     conn\u001b[39m.\u001b[39;49mconnect()\n\u001b[1;32m   1060\u001b[0m \u001b[39mif\u001b[39;00m \u001b[39mnot\u001b[39;00m conn\u001b[39m.\u001b[39mis_verified:\n",
      "File \u001b[0;32m~/workspace/certif_app_immo/datagouv_to_rds/.venv/lib/python3.8/site-packages/urllib3/connection.py:363\u001b[0m, in \u001b[0;36mHTTPSConnection.connect\u001b[0;34m(self)\u001b[0m\n\u001b[1;32m    361\u001b[0m \u001b[39mdef\u001b[39;00m \u001b[39mconnect\u001b[39m(\u001b[39mself\u001b[39m):\n\u001b[1;32m    362\u001b[0m     \u001b[39m# Add certificate verification\u001b[39;00m\n\u001b[0;32m--> 363\u001b[0m     \u001b[39mself\u001b[39m\u001b[39m.\u001b[39msock \u001b[39m=\u001b[39m conn \u001b[39m=\u001b[39m \u001b[39mself\u001b[39;49m\u001b[39m.\u001b[39;49m_new_conn()\n\u001b[1;32m    364\u001b[0m     hostname \u001b[39m=\u001b[39m \u001b[39mself\u001b[39m\u001b[39m.\u001b[39mhost\n",
      "File \u001b[0;32m~/workspace/certif_app_immo/datagouv_to_rds/.venv/lib/python3.8/site-packages/urllib3/connection.py:186\u001b[0m, in \u001b[0;36mHTTPConnection._new_conn\u001b[0;34m(self)\u001b[0m\n\u001b[1;32m    185\u001b[0m \u001b[39mexcept\u001b[39;00m SocketError \u001b[39mas\u001b[39;00m e:\n\u001b[0;32m--> 186\u001b[0m     \u001b[39mraise\u001b[39;00m NewConnectionError(\n\u001b[1;32m    187\u001b[0m         \u001b[39mself\u001b[39m, \u001b[39m\"\u001b[39m\u001b[39mFailed to establish a new connection: \u001b[39m\u001b[39m%s\u001b[39;00m\u001b[39m\"\u001b[39m \u001b[39m%\u001b[39m e\n\u001b[1;32m    188\u001b[0m     )\n\u001b[1;32m    190\u001b[0m \u001b[39mreturn\u001b[39;00m conn\n",
      "\u001b[0;31mNewConnectionError\u001b[0m: <urllib3.connection.HTTPSConnection object at 0x7ff454a77430>: Failed to establish a new connection: [Errno -3] Temporary failure in name resolution",
      "\nDuring handling of the above exception, another exception occurred:\n",
      "\u001b[0;31mMaxRetryError\u001b[0m                             Traceback (most recent call last)",
      "File \u001b[0;32m~/workspace/certif_app_immo/datagouv_to_rds/.venv/lib/python3.8/site-packages/requests/adapters.py:486\u001b[0m, in \u001b[0;36mHTTPAdapter.send\u001b[0;34m(self, request, stream, timeout, verify, cert, proxies)\u001b[0m\n\u001b[1;32m    485\u001b[0m \u001b[39mtry\u001b[39;00m:\n\u001b[0;32m--> 486\u001b[0m     resp \u001b[39m=\u001b[39m conn\u001b[39m.\u001b[39;49murlopen(\n\u001b[1;32m    487\u001b[0m         method\u001b[39m=\u001b[39;49mrequest\u001b[39m.\u001b[39;49mmethod,\n\u001b[1;32m    488\u001b[0m         url\u001b[39m=\u001b[39;49murl,\n\u001b[1;32m    489\u001b[0m         body\u001b[39m=\u001b[39;49mrequest\u001b[39m.\u001b[39;49mbody,\n\u001b[1;32m    490\u001b[0m         headers\u001b[39m=\u001b[39;49mrequest\u001b[39m.\u001b[39;49mheaders,\n\u001b[1;32m    491\u001b[0m         redirect\u001b[39m=\u001b[39;49m\u001b[39mFalse\u001b[39;49;00m,\n\u001b[1;32m    492\u001b[0m         assert_same_host\u001b[39m=\u001b[39;49m\u001b[39mFalse\u001b[39;49;00m,\n\u001b[1;32m    493\u001b[0m         preload_content\u001b[39m=\u001b[39;49m\u001b[39mFalse\u001b[39;49;00m,\n\u001b[1;32m    494\u001b[0m         decode_content\u001b[39m=\u001b[39;49m\u001b[39mFalse\u001b[39;49;00m,\n\u001b[1;32m    495\u001b[0m         retries\u001b[39m=\u001b[39;49m\u001b[39mself\u001b[39;49m\u001b[39m.\u001b[39;49mmax_retries,\n\u001b[1;32m    496\u001b[0m         timeout\u001b[39m=\u001b[39;49mtimeout,\n\u001b[1;32m    497\u001b[0m         chunked\u001b[39m=\u001b[39;49mchunked,\n\u001b[1;32m    498\u001b[0m     )\n\u001b[1;32m    500\u001b[0m \u001b[39mexcept\u001b[39;00m (ProtocolError, \u001b[39mOSError\u001b[39;00m) \u001b[39mas\u001b[39;00m err:\n",
      "File \u001b[0;32m~/workspace/certif_app_immo/datagouv_to_rds/.venv/lib/python3.8/site-packages/urllib3/connectionpool.py:799\u001b[0m, in \u001b[0;36mHTTPConnectionPool.urlopen\u001b[0;34m(self, method, url, body, headers, retries, redirect, assert_same_host, timeout, pool_timeout, release_conn, chunked, body_pos, **response_kw)\u001b[0m\n\u001b[1;32m    797\u001b[0m     e \u001b[39m=\u001b[39m ProtocolError(\u001b[39m\"\u001b[39m\u001b[39mConnection aborted.\u001b[39m\u001b[39m\"\u001b[39m, e)\n\u001b[0;32m--> 799\u001b[0m retries \u001b[39m=\u001b[39m retries\u001b[39m.\u001b[39;49mincrement(\n\u001b[1;32m    800\u001b[0m     method, url, error\u001b[39m=\u001b[39;49me, _pool\u001b[39m=\u001b[39;49m\u001b[39mself\u001b[39;49m, _stacktrace\u001b[39m=\u001b[39;49msys\u001b[39m.\u001b[39;49mexc_info()[\u001b[39m2\u001b[39;49m]\n\u001b[1;32m    801\u001b[0m )\n\u001b[1;32m    802\u001b[0m retries\u001b[39m.\u001b[39msleep()\n",
      "File \u001b[0;32m~/workspace/certif_app_immo/datagouv_to_rds/.venv/lib/python3.8/site-packages/urllib3/util/retry.py:592\u001b[0m, in \u001b[0;36mRetry.increment\u001b[0;34m(self, method, url, response, error, _pool, _stacktrace)\u001b[0m\n\u001b[1;32m    591\u001b[0m \u001b[39mif\u001b[39;00m new_retry\u001b[39m.\u001b[39mis_exhausted():\n\u001b[0;32m--> 592\u001b[0m     \u001b[39mraise\u001b[39;00m MaxRetryError(_pool, url, error \u001b[39mor\u001b[39;00m ResponseError(cause))\n\u001b[1;32m    594\u001b[0m log\u001b[39m.\u001b[39mdebug(\u001b[39m\"\u001b[39m\u001b[39mIncremented Retry for (url=\u001b[39m\u001b[39m'\u001b[39m\u001b[39m%s\u001b[39;00m\u001b[39m'\u001b[39m\u001b[39m): \u001b[39m\u001b[39m%r\u001b[39;00m\u001b[39m\"\u001b[39m, url, new_retry)\n",
      "\u001b[0;31mMaxRetryError\u001b[0m: HTTPSConnectionPool(host='geo.api.gouv.fr', port=443): Max retries exceeded with url: /departements (Caused by NewConnectionError('<urllib3.connection.HTTPSConnection object at 0x7ff454a77430>: Failed to establish a new connection: [Errno -3] Temporary failure in name resolution'))",
      "\nDuring handling of the above exception, another exception occurred:\n",
      "\u001b[0;31mConnectionError\u001b[0m                           Traceback (most recent call last)",
      "\u001b[1;32m/home/kevin/workspace/certif_app_immo/datagouv_to_rds/Test_scraping_rds_s3.ipynb Cell 29\u001b[0m line \u001b[0;36m3\n\u001b[1;32m      <a href='vscode-notebook-cell://wsl%2Bubuntu-20.04/home/kevin/workspace/certif_app_immo/datagouv_to_rds/Test_scraping_rds_s3.ipynb#X40sdnNjb2RlLXJlbW90ZQ%3D%3D?line=0'>1</a>\u001b[0m \u001b[39m# Récupération des codes departements, noms departements et code régions\u001b[39;00m\n\u001b[1;32m      <a href='vscode-notebook-cell://wsl%2Bubuntu-20.04/home/kevin/workspace/certif_app_immo/datagouv_to_rds/Test_scraping_rds_s3.ipynb#X40sdnNjb2RlLXJlbW90ZQ%3D%3D?line=1'>2</a>\u001b[0m url \u001b[39m=\u001b[39m \u001b[39m\"\u001b[39m\u001b[39mhttps://geo.api.gouv.fr/departements\u001b[39m\u001b[39m\"\u001b[39m\n\u001b[0;32m----> <a href='vscode-notebook-cell://wsl%2Bubuntu-20.04/home/kevin/workspace/certif_app_immo/datagouv_to_rds/Test_scraping_rds_s3.ipynb#X40sdnNjb2RlLXJlbW90ZQ%3D%3D?line=2'>3</a>\u001b[0m response \u001b[39m=\u001b[39m requests\u001b[39m.\u001b[39;49mget(url)\n\u001b[1;32m      <a href='vscode-notebook-cell://wsl%2Bubuntu-20.04/home/kevin/workspace/certif_app_immo/datagouv_to_rds/Test_scraping_rds_s3.ipynb#X40sdnNjb2RlLXJlbW90ZQ%3D%3D?line=3'>4</a>\u001b[0m data_dpts \u001b[39m=\u001b[39m response\u001b[39m.\u001b[39mjson()\n\u001b[1;32m      <a href='vscode-notebook-cell://wsl%2Bubuntu-20.04/home/kevin/workspace/certif_app_immo/datagouv_to_rds/Test_scraping_rds_s3.ipynb#X40sdnNjb2RlLXJlbW90ZQ%3D%3D?line=4'>5</a>\u001b[0m df_depts \u001b[39m=\u001b[39m pd\u001b[39m.\u001b[39mDataFrame(data_dpts)\n",
      "File \u001b[0;32m~/workspace/certif_app_immo/datagouv_to_rds/.venv/lib/python3.8/site-packages/requests/api.py:73\u001b[0m, in \u001b[0;36mget\u001b[0;34m(url, params, **kwargs)\u001b[0m\n\u001b[1;32m     62\u001b[0m \u001b[39mdef\u001b[39;00m \u001b[39mget\u001b[39m(url, params\u001b[39m=\u001b[39m\u001b[39mNone\u001b[39;00m, \u001b[39m*\u001b[39m\u001b[39m*\u001b[39mkwargs):\n\u001b[1;32m     63\u001b[0m \u001b[39m    \u001b[39m\u001b[39mr\u001b[39m\u001b[39m\"\"\"Sends a GET request.\u001b[39;00m\n\u001b[1;32m     64\u001b[0m \n\u001b[1;32m     65\u001b[0m \u001b[39m    :param url: URL for the new :class:`Request` object.\u001b[39;00m\n\u001b[0;32m   (...)\u001b[0m\n\u001b[1;32m     70\u001b[0m \u001b[39m    :rtype: requests.Response\u001b[39;00m\n\u001b[1;32m     71\u001b[0m \u001b[39m    \"\"\"\u001b[39;00m\n\u001b[0;32m---> 73\u001b[0m     \u001b[39mreturn\u001b[39;00m request(\u001b[39m\"\u001b[39;49m\u001b[39mget\u001b[39;49m\u001b[39m\"\u001b[39;49m, url, params\u001b[39m=\u001b[39;49mparams, \u001b[39m*\u001b[39;49m\u001b[39m*\u001b[39;49mkwargs)\n",
      "File \u001b[0;32m~/workspace/certif_app_immo/datagouv_to_rds/.venv/lib/python3.8/site-packages/requests/api.py:59\u001b[0m, in \u001b[0;36mrequest\u001b[0;34m(method, url, **kwargs)\u001b[0m\n\u001b[1;32m     55\u001b[0m \u001b[39m# By using the 'with' statement we are sure the session is closed, thus we\u001b[39;00m\n\u001b[1;32m     56\u001b[0m \u001b[39m# avoid leaving sockets open which can trigger a ResourceWarning in some\u001b[39;00m\n\u001b[1;32m     57\u001b[0m \u001b[39m# cases, and look like a memory leak in others.\u001b[39;00m\n\u001b[1;32m     58\u001b[0m \u001b[39mwith\u001b[39;00m sessions\u001b[39m.\u001b[39mSession() \u001b[39mas\u001b[39;00m session:\n\u001b[0;32m---> 59\u001b[0m     \u001b[39mreturn\u001b[39;00m session\u001b[39m.\u001b[39;49mrequest(method\u001b[39m=\u001b[39;49mmethod, url\u001b[39m=\u001b[39;49murl, \u001b[39m*\u001b[39;49m\u001b[39m*\u001b[39;49mkwargs)\n",
      "File \u001b[0;32m~/workspace/certif_app_immo/datagouv_to_rds/.venv/lib/python3.8/site-packages/requests/sessions.py:589\u001b[0m, in \u001b[0;36mSession.request\u001b[0;34m(self, method, url, params, data, headers, cookies, files, auth, timeout, allow_redirects, proxies, hooks, stream, verify, cert, json)\u001b[0m\n\u001b[1;32m    584\u001b[0m send_kwargs \u001b[39m=\u001b[39m {\n\u001b[1;32m    585\u001b[0m     \u001b[39m\"\u001b[39m\u001b[39mtimeout\u001b[39m\u001b[39m\"\u001b[39m: timeout,\n\u001b[1;32m    586\u001b[0m     \u001b[39m\"\u001b[39m\u001b[39mallow_redirects\u001b[39m\u001b[39m\"\u001b[39m: allow_redirects,\n\u001b[1;32m    587\u001b[0m }\n\u001b[1;32m    588\u001b[0m send_kwargs\u001b[39m.\u001b[39mupdate(settings)\n\u001b[0;32m--> 589\u001b[0m resp \u001b[39m=\u001b[39m \u001b[39mself\u001b[39;49m\u001b[39m.\u001b[39;49msend(prep, \u001b[39m*\u001b[39;49m\u001b[39m*\u001b[39;49msend_kwargs)\n\u001b[1;32m    591\u001b[0m \u001b[39mreturn\u001b[39;00m resp\n",
      "File \u001b[0;32m~/workspace/certif_app_immo/datagouv_to_rds/.venv/lib/python3.8/site-packages/requests/sessions.py:703\u001b[0m, in \u001b[0;36mSession.send\u001b[0;34m(self, request, **kwargs)\u001b[0m\n\u001b[1;32m    700\u001b[0m start \u001b[39m=\u001b[39m preferred_clock()\n\u001b[1;32m    702\u001b[0m \u001b[39m# Send the request\u001b[39;00m\n\u001b[0;32m--> 703\u001b[0m r \u001b[39m=\u001b[39m adapter\u001b[39m.\u001b[39;49msend(request, \u001b[39m*\u001b[39;49m\u001b[39m*\u001b[39;49mkwargs)\n\u001b[1;32m    705\u001b[0m \u001b[39m# Total elapsed time of the request (approximately)\u001b[39;00m\n\u001b[1;32m    706\u001b[0m elapsed \u001b[39m=\u001b[39m preferred_clock() \u001b[39m-\u001b[39m start\n",
      "File \u001b[0;32m~/workspace/certif_app_immo/datagouv_to_rds/.venv/lib/python3.8/site-packages/requests/adapters.py:519\u001b[0m, in \u001b[0;36mHTTPAdapter.send\u001b[0;34m(self, request, stream, timeout, verify, cert, proxies)\u001b[0m\n\u001b[1;32m    515\u001b[0m     \u001b[39mif\u001b[39;00m \u001b[39misinstance\u001b[39m(e\u001b[39m.\u001b[39mreason, _SSLError):\n\u001b[1;32m    516\u001b[0m         \u001b[39m# This branch is for urllib3 v1.22 and later.\u001b[39;00m\n\u001b[1;32m    517\u001b[0m         \u001b[39mraise\u001b[39;00m SSLError(e, request\u001b[39m=\u001b[39mrequest)\n\u001b[0;32m--> 519\u001b[0m     \u001b[39mraise\u001b[39;00m \u001b[39mConnectionError\u001b[39;00m(e, request\u001b[39m=\u001b[39mrequest)\n\u001b[1;32m    521\u001b[0m \u001b[39mexcept\u001b[39;00m ClosedPoolError \u001b[39mas\u001b[39;00m e:\n\u001b[1;32m    522\u001b[0m     \u001b[39mraise\u001b[39;00m \u001b[39mConnectionError\u001b[39;00m(e, request\u001b[39m=\u001b[39mrequest)\n",
      "\u001b[0;31mConnectionError\u001b[0m: HTTPSConnectionPool(host='geo.api.gouv.fr', port=443): Max retries exceeded with url: /departements (Caused by NewConnectionError('<urllib3.connection.HTTPSConnection object at 0x7ff454a77430>: Failed to establish a new connection: [Errno -3] Temporary failure in name resolution'))"
     ]
    }
   ],
   "source": [
    "# Récupération des codes departements, noms departements et code régions\n",
    "url = \"https://geo.api.gouv.fr/departements\"\n",
    "response = requests.get(url)\n",
    "data_dpts = response.json()\n",
    "df_depts = pd.DataFrame(data_dpts)\n",
    "df_depts = df_depts.loc[:,[\"code\",\"nom\",\"codeRegion\"]]\n",
    "df_depts = df_depts.drop_duplicates()\n",
    "df_depts.columns = ['ID_DEPT', 'Name_departement', 'ID_REGION']\n",
    "df_depts.head()"
   ]
  },
  {
   "cell_type": "code",
   "execution_count": 3,
   "metadata": {},
   "outputs": [
    {
     "data": {
      "text/html": [
       "<div>\n",
       "<style scoped>\n",
       "    .dataframe tbody tr th:only-of-type {\n",
       "        vertical-align: middle;\n",
       "    }\n",
       "\n",
       "    .dataframe tbody tr th {\n",
       "        vertical-align: top;\n",
       "    }\n",
       "\n",
       "    .dataframe thead th {\n",
       "        text-align: right;\n",
       "    }\n",
       "</style>\n",
       "<table border=\"1\" class=\"dataframe\">\n",
       "  <thead>\n",
       "    <tr style=\"text-align: right;\">\n",
       "      <th></th>\n",
       "      <th>ID_REGION</th>\n",
       "      <th>Name_region</th>\n",
       "    </tr>\n",
       "  </thead>\n",
       "  <tbody>\n",
       "    <tr>\n",
       "      <th>0</th>\n",
       "      <td>11</td>\n",
       "      <td>Île-de-France</td>\n",
       "    </tr>\n",
       "    <tr>\n",
       "      <th>1</th>\n",
       "      <td>24</td>\n",
       "      <td>Centre-Val de Loire</td>\n",
       "    </tr>\n",
       "    <tr>\n",
       "      <th>2</th>\n",
       "      <td>27</td>\n",
       "      <td>Bourgogne-Franche-Comté</td>\n",
       "    </tr>\n",
       "    <tr>\n",
       "      <th>3</th>\n",
       "      <td>28</td>\n",
       "      <td>Normandie</td>\n",
       "    </tr>\n",
       "    <tr>\n",
       "      <th>4</th>\n",
       "      <td>32</td>\n",
       "      <td>Hauts-de-France</td>\n",
       "    </tr>\n",
       "  </tbody>\n",
       "</table>\n",
       "</div>"
      ],
      "text/plain": [
       "  ID_REGION              Name_region\n",
       "0        11            Île-de-France\n",
       "1        24      Centre-Val de Loire\n",
       "2        27  Bourgogne-Franche-Comté\n",
       "3        28                Normandie\n",
       "4        32          Hauts-de-France"
      ]
     },
     "execution_count": 3,
     "metadata": {},
     "output_type": "execute_result"
    }
   ],
   "source": [
    "url_regions = \"https://geo.api.gouv.fr/regions\"\n",
    "response_regions = requests.get(url_regions)\n",
    "data_regions = response_regions.json()\n",
    "df_regions = pd.DataFrame(data_regions)\n",
    "df_regions = df_regions.loc[:,[\"code\",\"nom\"]]\n",
    "df_regions = df_regions.drop_duplicates()\n",
    "df_regions.columns = ['ID_REGION','Name_region']\n",
    "df_regions.head()"
   ]
  },
  {
   "cell_type": "code",
   "execution_count": 6,
   "metadata": {},
   "outputs": [
    {
     "name": "stdout",
     "output_type": "stream",
     "text": [
      "Île-de-France\n",
      "Centre-Val de Loire\n",
      "Bourgogne-Franche-Comté\n",
      "Normandie\n",
      "Hauts-de-France\n",
      "Grand Est\n",
      "Pays de la Loire\n",
      "Bretagne\n",
      "Nouvelle-Aquitaine\n",
      "Occitanie\n",
      "Auvergne-Rhône-Alpes\n",
      "Provence-Alpes-Côte d'Azur\n",
      "Corse\n",
      "Guadeloupe\n",
      "Martinique\n",
      "Guyane\n",
      "La Réunion\n",
      "Mayotte\n"
     ]
    }
   ],
   "source": [
    "regions = df_regions.Name_region.unique()\n",
    "for i in regions:\n",
    "    print(i)"
   ]
  },
  {
   "cell_type": "markdown",
   "metadata": {},
   "source": [
    "### Remplissage des tables annexes COMMUNES, DEPARTEMENTS, REGIONS et TYPES_BIENS"
   ]
  },
  {
   "cell_type": "code",
   "execution_count": 24,
   "metadata": {},
   "outputs": [
    {
     "ename": "InterfaceError",
     "evalue": "(0, '')",
     "output_type": "error",
     "traceback": [
      "\u001b[0;31m---------------------------------------------------------------------------\u001b[0m",
      "\u001b[0;31mInterfaceError\u001b[0m                            Traceback (most recent call last)",
      "\u001b[1;32m/home/kevin/workspace/certif_app_immo/datagouv_to_rds/Test_scraping_rds_s3.ipynb Cell 32\u001b[0m line \u001b[0;36m4\n\u001b[1;32m      <a href='vscode-notebook-cell://wsl%2Bubuntu-20.04/home/kevin/workspace/certif_app_immo/datagouv_to_rds/Test_scraping_rds_s3.ipynb#X41sdnNjb2RlLXJlbW90ZQ%3D%3D?line=0'>1</a>\u001b[0m \u001b[39mfrom\u001b[39;00m \u001b[39mconnection\u001b[39;00m \u001b[39mimport\u001b[39;00m db,cursor\n\u001b[1;32m      <a href='vscode-notebook-cell://wsl%2Bubuntu-20.04/home/kevin/workspace/certif_app_immo/datagouv_to_rds/Test_scraping_rds_s3.ipynb#X41sdnNjb2RlLXJlbW90ZQ%3D%3D?line=2'>3</a>\u001b[0m cursor \u001b[39m=\u001b[39m db\u001b[39m.\u001b[39mcursor()\n\u001b[0;32m----> <a href='vscode-notebook-cell://wsl%2Bubuntu-20.04/home/kevin/workspace/certif_app_immo/datagouv_to_rds/Test_scraping_rds_s3.ipynb#X41sdnNjb2RlLXJlbW90ZQ%3D%3D?line=3'>4</a>\u001b[0m create_database_and_tables()\n\u001b[1;32m      <a href='vscode-notebook-cell://wsl%2Bubuntu-20.04/home/kevin/workspace/certif_app_immo/datagouv_to_rds/Test_scraping_rds_s3.ipynb#X41sdnNjb2RlLXJlbW90ZQ%3D%3D?line=5'>6</a>\u001b[0m query\u001b[39m=\u001b[39m\u001b[39m\"\"\"\u001b[39m\n\u001b[1;32m      <a href='vscode-notebook-cell://wsl%2Bubuntu-20.04/home/kevin/workspace/certif_app_immo/datagouv_to_rds/Test_scraping_rds_s3.ipynb#X41sdnNjb2RlLXJlbW90ZQ%3D%3D?line=6'>7</a>\u001b[0m \u001b[39mUSE datagouv;\u001b[39m\n\u001b[1;32m      <a href='vscode-notebook-cell://wsl%2Bubuntu-20.04/home/kevin/workspace/certif_app_immo/datagouv_to_rds/Test_scraping_rds_s3.ipynb#X41sdnNjb2RlLXJlbW90ZQ%3D%3D?line=7'>8</a>\u001b[0m \u001b[39m\"\"\"\u001b[39m\n\u001b[1;32m      <a href='vscode-notebook-cell://wsl%2Bubuntu-20.04/home/kevin/workspace/certif_app_immo/datagouv_to_rds/Test_scraping_rds_s3.ipynb#X41sdnNjb2RlLXJlbW90ZQ%3D%3D?line=8'>9</a>\u001b[0m cursor\u001b[39m.\u001b[39mexecute(query)\n",
      "\u001b[1;32m/home/kevin/workspace/certif_app_immo/datagouv_to_rds/Test_scraping_rds_s3.ipynb Cell 32\u001b[0m line \u001b[0;36m7\n\u001b[1;32m      <a href='vscode-notebook-cell://wsl%2Bubuntu-20.04/home/kevin/workspace/certif_app_immo/datagouv_to_rds/Test_scraping_rds_s3.ipynb#X41sdnNjb2RlLXJlbW90ZQ%3D%3D?line=2'>3</a>\u001b[0m \u001b[39mdef\u001b[39;00m \u001b[39mcreate_database_and_tables\u001b[39m():\n\u001b[1;32m      <a href='vscode-notebook-cell://wsl%2Bubuntu-20.04/home/kevin/workspace/certif_app_immo/datagouv_to_rds/Test_scraping_rds_s3.ipynb#X41sdnNjb2RlLXJlbW90ZQ%3D%3D?line=3'>4</a>\u001b[0m     query\u001b[39m=\u001b[39m\u001b[39m\"\"\"\u001b[39m\n\u001b[1;32m      <a href='vscode-notebook-cell://wsl%2Bubuntu-20.04/home/kevin/workspace/certif_app_immo/datagouv_to_rds/Test_scraping_rds_s3.ipynb#X41sdnNjb2RlLXJlbW90ZQ%3D%3D?line=4'>5</a>\u001b[0m \u001b[39m    CREATE DATABASE IF NOT EXISTS datagouv;\u001b[39m\n\u001b[1;32m      <a href='vscode-notebook-cell://wsl%2Bubuntu-20.04/home/kevin/workspace/certif_app_immo/datagouv_to_rds/Test_scraping_rds_s3.ipynb#X41sdnNjb2RlLXJlbW90ZQ%3D%3D?line=5'>6</a>\u001b[0m \u001b[39m    \u001b[39m\u001b[39m\"\"\"\u001b[39m\n\u001b[0;32m----> <a href='vscode-notebook-cell://wsl%2Bubuntu-20.04/home/kevin/workspace/certif_app_immo/datagouv_to_rds/Test_scraping_rds_s3.ipynb#X41sdnNjb2RlLXJlbW90ZQ%3D%3D?line=6'>7</a>\u001b[0m     cursor\u001b[39m.\u001b[39;49mexecute(query)\n\u001b[1;32m      <a href='vscode-notebook-cell://wsl%2Bubuntu-20.04/home/kevin/workspace/certif_app_immo/datagouv_to_rds/Test_scraping_rds_s3.ipynb#X41sdnNjb2RlLXJlbW90ZQ%3D%3D?line=8'>9</a>\u001b[0m     query\u001b[39m=\u001b[39m\u001b[39m\"\"\"\u001b[39m\n\u001b[1;32m     <a href='vscode-notebook-cell://wsl%2Bubuntu-20.04/home/kevin/workspace/certif_app_immo/datagouv_to_rds/Test_scraping_rds_s3.ipynb#X41sdnNjb2RlLXJlbW90ZQ%3D%3D?line=9'>10</a>\u001b[0m \u001b[39m    USE datagouv;\u001b[39m\n\u001b[1;32m     <a href='vscode-notebook-cell://wsl%2Bubuntu-20.04/home/kevin/workspace/certif_app_immo/datagouv_to_rds/Test_scraping_rds_s3.ipynb#X41sdnNjb2RlLXJlbW90ZQ%3D%3D?line=10'>11</a>\u001b[0m \u001b[39m    \u001b[39m\u001b[39m\"\"\"\u001b[39m\n\u001b[1;32m     <a href='vscode-notebook-cell://wsl%2Bubuntu-20.04/home/kevin/workspace/certif_app_immo/datagouv_to_rds/Test_scraping_rds_s3.ipynb#X41sdnNjb2RlLXJlbW90ZQ%3D%3D?line=11'>12</a>\u001b[0m     cursor\u001b[39m.\u001b[39mexecute(query)\n",
      "File \u001b[0;32m~/workspace/certif_app_immo/datagouv_to_rds/.venv/lib/python3.8/site-packages/pymysql/cursors.py:153\u001b[0m, in \u001b[0;36mCursor.execute\u001b[0;34m(self, query, args)\u001b[0m\n\u001b[1;32m    149\u001b[0m     \u001b[39mpass\u001b[39;00m\n\u001b[1;32m    151\u001b[0m query \u001b[39m=\u001b[39m \u001b[39mself\u001b[39m\u001b[39m.\u001b[39mmogrify(query, args)\n\u001b[0;32m--> 153\u001b[0m result \u001b[39m=\u001b[39m \u001b[39mself\u001b[39;49m\u001b[39m.\u001b[39;49m_query(query)\n\u001b[1;32m    154\u001b[0m \u001b[39mself\u001b[39m\u001b[39m.\u001b[39m_executed \u001b[39m=\u001b[39m query\n\u001b[1;32m    155\u001b[0m \u001b[39mreturn\u001b[39;00m result\n",
      "File \u001b[0;32m~/workspace/certif_app_immo/datagouv_to_rds/.venv/lib/python3.8/site-packages/pymysql/cursors.py:322\u001b[0m, in \u001b[0;36mCursor._query\u001b[0;34m(self, q)\u001b[0m\n\u001b[1;32m    320\u001b[0m conn \u001b[39m=\u001b[39m \u001b[39mself\u001b[39m\u001b[39m.\u001b[39m_get_db()\n\u001b[1;32m    321\u001b[0m \u001b[39mself\u001b[39m\u001b[39m.\u001b[39m_clear_result()\n\u001b[0;32m--> 322\u001b[0m conn\u001b[39m.\u001b[39;49mquery(q)\n\u001b[1;32m    323\u001b[0m \u001b[39mself\u001b[39m\u001b[39m.\u001b[39m_do_get_result()\n\u001b[1;32m    324\u001b[0m \u001b[39mreturn\u001b[39;00m \u001b[39mself\u001b[39m\u001b[39m.\u001b[39mrowcount\n",
      "File \u001b[0;32m~/workspace/certif_app_immo/datagouv_to_rds/.venv/lib/python3.8/site-packages/pymysql/connections.py:557\u001b[0m, in \u001b[0;36mConnection.query\u001b[0;34m(self, sql, unbuffered)\u001b[0m\n\u001b[1;32m    555\u001b[0m \u001b[39mif\u001b[39;00m \u001b[39misinstance\u001b[39m(sql, \u001b[39mstr\u001b[39m):\n\u001b[1;32m    556\u001b[0m     sql \u001b[39m=\u001b[39m sql\u001b[39m.\u001b[39mencode(\u001b[39mself\u001b[39m\u001b[39m.\u001b[39mencoding, \u001b[39m\"\u001b[39m\u001b[39msurrogateescape\u001b[39m\u001b[39m\"\u001b[39m)\n\u001b[0;32m--> 557\u001b[0m \u001b[39mself\u001b[39;49m\u001b[39m.\u001b[39;49m_execute_command(COMMAND\u001b[39m.\u001b[39;49mCOM_QUERY, sql)\n\u001b[1;32m    558\u001b[0m \u001b[39mself\u001b[39m\u001b[39m.\u001b[39m_affected_rows \u001b[39m=\u001b[39m \u001b[39mself\u001b[39m\u001b[39m.\u001b[39m_read_query_result(unbuffered\u001b[39m=\u001b[39munbuffered)\n\u001b[1;32m    559\u001b[0m \u001b[39mreturn\u001b[39;00m \u001b[39mself\u001b[39m\u001b[39m.\u001b[39m_affected_rows\n",
      "File \u001b[0;32m~/workspace/certif_app_immo/datagouv_to_rds/.venv/lib/python3.8/site-packages/pymysql/connections.py:840\u001b[0m, in \u001b[0;36mConnection._execute_command\u001b[0;34m(self, command, sql)\u001b[0m\n\u001b[1;32m    835\u001b[0m \u001b[39m\u001b[39m\u001b[39m\"\"\"\u001b[39;00m\n\u001b[1;32m    836\u001b[0m \u001b[39m:raise InterfaceError: If the connection is closed.\u001b[39;00m\n\u001b[1;32m    837\u001b[0m \u001b[39m:raise ValueError: If no username was specified.\u001b[39;00m\n\u001b[1;32m    838\u001b[0m \u001b[39m\"\"\"\u001b[39;00m\n\u001b[1;32m    839\u001b[0m \u001b[39mif\u001b[39;00m \u001b[39mnot\u001b[39;00m \u001b[39mself\u001b[39m\u001b[39m.\u001b[39m_sock:\n\u001b[0;32m--> 840\u001b[0m     \u001b[39mraise\u001b[39;00m err\u001b[39m.\u001b[39mInterfaceError(\u001b[39m0\u001b[39m, \u001b[39m\"\u001b[39m\u001b[39m\"\u001b[39m)\n\u001b[1;32m    842\u001b[0m \u001b[39m# If the last query was unbuffered, make sure it finishes before\u001b[39;00m\n\u001b[1;32m    843\u001b[0m \u001b[39m# sending new commands\u001b[39;00m\n\u001b[1;32m    844\u001b[0m \u001b[39mif\u001b[39;00m \u001b[39mself\u001b[39m\u001b[39m.\u001b[39m_result \u001b[39mis\u001b[39;00m \u001b[39mnot\u001b[39;00m \u001b[39mNone\u001b[39;00m:\n",
      "\u001b[0;31mInterfaceError\u001b[0m: (0, '')"
     ]
    }
   ],
   "source": [
    "# Insertion dans la table REGIONS\n",
    "query=\"\"\"\n",
    "USE datagouv;\n",
    "\"\"\"\n",
    "cursor.execute(query)\n",
    "\n",
    "for index, row in df_regions.iterrows():\n",
    "    query=\"\"\"\n",
    "    INSEERT IGNORE INTO REGIONS (ID_REGION,Name_region)\n",
    "    VALUES (%s,%s)\n",
    "    \"\"\"\n",
    "    cursor.execute(query,(row[\"ID_REGION\"],row[\"Name_region\"]))\n",
    "db.commit()\n",
    "\n",
    "query=\"\"\"\n",
    "SELECT * FROM REGIONS\n",
    "\"\"\"\n",
    "cursor.execute(query)\n",
    "regions = cursor.fetchall()\n",
    "\n",
    "# Afficher les tables\n",
    "for region in regions:\n",
    "    print(f\"ID_region: {region[0]} -- Nom region : {region[1]}\")\n"
   ]
  },
  {
   "cell_type": "code",
   "execution_count": null,
   "metadata": {},
   "outputs": [],
   "source": [
    "# Insertion dans la table DEPARTEMENTS\n",
    "for index, row in df_depts.iterrows():\n",
    "    query=\"\"\"\n",
    "    INSEERT IGNORE INTO DEPARTMENTS (ID_DEPT, Name_departement,\tID_REGION)\n",
    "    VALUES (%s,%s,%s)\n",
    "    \"\"\"\n",
    "    cursor.execute(query,(row[\"ID_DEPT\"],row[\"Name_departement\"],row[\"ID_REGION\"]))\n",
    "db.commit()\n",
    "\n",
    "query=\"\"\"\n",
    "SELECT * FROM DEPARTMENTS\n",
    "LIMIT 10\n",
    "\"\"\"\n",
    "cursor.execute(query)\n",
    "dapartements = cursor.fetchall()\n",
    "\n",
    "# Afficher les tables\n",
    "for departement in dapartements:\n",
    "    print(f\"Id departement: {departement[0]} -- Nom departement : {departement[1]} -- Id region : {departement[2]}\")"
   ]
  },
  {
   "cell_type": "code",
   "execution_count": null,
   "metadata": {},
   "outputs": [],
   "source": [
    "# Insertion dans la table COMMUNES\n",
    "for index, row in df_communes.iterrows():\n",
    "    query=\"\"\"\n",
    "    INSEERT IGNORE INTO COMMUNES (ID_COMMUNE, NAME_COMMUNE,\tID_DEPT)\n",
    "    VALUES (%s,%s,%s)\n",
    "    \"\"\"\n",
    "    cursor.execute(query,(row[\"ID_COMMUNE\"],row[\"NAME_COMMUNE\"],row[\"ID_DEPT\"]))\n",
    "db.commit()\n",
    "\n",
    "query=\"\"\"\n",
    "SELECT * FROM COMMUNES\n",
    "LIMIT 10\n",
    "\"\"\"\n",
    "cursor.execute(query)\n",
    "communes = cursor.fetchall()\n",
    "\n",
    "# Afficher les tables\n",
    "for commune in communes:\n",
    "    print(f\"Id commune: {commune[0]} -- Nom commune : {commune[1]} -- Id départment : {commune[2]}\")"
   ]
  },
  {
   "cell_type": "code",
   "execution_count": null,
   "metadata": {},
   "outputs": [],
   "source": [
    "# Insertion dans la table TYPES_BIENS\n",
    "liste_type_local = df.type_local.unique()\n",
    "for local in liste_type_local:\n",
    "    query=\"\"\"\n",
    "    INSERT IGNORE INTO TYPES_BIENS (NAME_TYPE_BIEN)\n",
    "    VALUES(%s)\n",
    "    \"\"\"\n",
    "    cursor.execute(query,(local))\n",
    "db.commit()\n",
    "\n",
    "query=\"\"\"\n",
    "SELECT * FROM TYPES_BIENS\n",
    "\"\"\"\n",
    "cursor.execute(query)\n",
    "types_biens = cursor.fetchall()\n",
    "\n",
    "# Affichage du contenu de la table TYPES_BIENS\n",
    "for i in types_biens:\n",
    "    print(f\"Id type bien : {i[0]} -- nom : {i[1]}\")\n"
   ]
  },
  {
   "cell_type": "markdown",
   "metadata": {},
   "source": [
    "### Insertion dans la table VENTES"
   ]
  },
  {
   "cell_type": "code",
   "execution_count": null,
   "metadata": {},
   "outputs": [],
   "source": [
    "insert_data=df.iloc[:10,:]\n",
    "insert_data.head()"
   ]
  },
  {
   "cell_type": "markdown",
   "metadata": {},
   "source": [
    "#### Adaptation des données aux types de variables de la base de données rds"
   ]
  },
  {
   "cell_type": "code",
   "execution_count": 1,
   "metadata": {},
   "outputs": [
    {
     "ename": "SyntaxError",
     "evalue": "invalid syntax (75485383.py, line 4)",
     "output_type": "error",
     "traceback": [
      "\u001b[0;36m  Cell \u001b[0;32mIn[1], line 4\u001b[0;36m\u001b[0m\n\u001b[0;31m    df[''] = df..astrype()\u001b[0m\n\u001b[0m                ^\u001b[0m\n\u001b[0;31mSyntaxError\u001b[0m\u001b[0;31m:\u001b[0m invalid syntax\n"
     ]
    }
   ],
   "source": [
    "insert_data['date_mutation'] = pd.to_datetime(insert_data['date_mutation'], errors='coerce')\n",
    "insert_data['valeur_fonciere'] = insert_data.valeur_fonciere.astype(int)\n",
    "insert_data['adresse_numero'] = insert_data.adresse_nulero.astrype(str)\n",
    "insert_data['adresse_nom_voie'] = insert_data.adresse_nom_voie.astrype(str)\n",
    "insert_data['code_postal'] = insert_data.code_postal.astrype(int)\n",
    "insert_data['code_commune'] = insert_data.code_commune.astrype(str)\n",
    "insert_data['type_local'] = insert_data.type_local.astrype(str)\n",
    "insert_data['nombre_pieces_principales'] = insert_data.nombre_pieces_principales.astrype(int)\n",
    "insert_data['surface_relle_bati'] = insert_data.surface_relle_bati.astrype(int)\n",
    "insert_data['surface_terrain'] = insert_data.surface_terrain.astrype(int)\n",
    "insert_data['longitude'] = insert_data.longitude.astrype(float)\n",
    "insert_data['latitude'] = insert_data.longitude.astrype(float)"
   ]
  },
  {
   "cell_type": "code",
   "execution_count": null,
   "metadata": {},
   "outputs": [],
   "source": [
    "for index,row in insert_data.iterrows:\n",
    "    query=\"\"\"\n",
    "    INSERT INTO VENTES (DATE, MONTANT,\n",
    "                      NUMERO_RUE, RUE , CODE_POSTAL,CODE_COMMUNE,\n",
    "                      TYPE_BIEN, NB_PIECES ,\n",
    "                      SURFACE_BATI,  SURFACE_TERRAIN\n",
    "                      LONGITUDE, LATITUDE )\n",
    "    VALUES (%s,%s,\n",
    "            %s,%s,%s,%s,%s,\n",
    "            (SELECT ID_TYPE_BIEN FROM TYPES_BIENS WHERE NAME_TYPE_BIEN=%s),%s,\n",
    "            %s,%s,\n",
    "            %s,%s,)\n",
    "    \"\"\"\n",
    "    cursor.execute(query,row[\"date_mutation\"],row['valeur_fonciere'],\n",
    "                   row[\"adresse_numero\"],row[\"adresse_nom_voie\"],row[\"code_postal\"],row[\"code_commune\"],\n",
    "                   row[\"type_local\"],row[\"nombre_pieces_principales\"],\n",
    "                   row[\"surface_relle_bati\"],row[\"surface_terrain\"],\n",
    "                   row[\"longitude\"],row[\"latitude\"])\n",
    "db.commit()"
   ]
  },
  {
   "cell_type": "code",
   "execution_count": null,
   "metadata": {},
   "outputs": [],
   "source": [
    "query=\"\"\"\n",
    "SELECT * FROM VENTES\n",
    "\"\"\"\n",
    "\n",
    "df_rds = pd.read_sql(query, db)\n",
    "df_rds.head()"
   ]
  },
  {
   "cell_type": "code",
   "execution_count": null,
   "metadata": {},
   "outputs": [],
   "source": [
    "query=\"\"\"\n",
    "SELECT\n",
    "    V.ID_VENTE,\n",
    "    V.MONTANT,\n",
    "    V.NUMERO_RUE,\n",
    "    V.RUE,\n",
    "    V.CODE_POSTAL,\n",
    "    V.LONGITUDE,\n",
    "    V.LATITUDE,\n",
    "    V.DATE_MUTATION,\n",
    "    V.SURFACE_BATI,\n",
    "    V.NB_PIECES,\n",
    "    V.SURFACE_TERRAIN,\n",
    "    TB.NAME_TYPE_BIEN,\n",
    "    C.NAME_COMMUNE,\n",
    "    D.Name_departement,\n",
    "    R.Name_region\n",
    "FROM\n",
    "    VENTES V\n",
    "    INNER JOIN TYPES_BIENS TB ON V.ID_TYPE_BIEN = TB.ID_TYPE_BIEN\n",
    "    INNER JOIN COMMUNES C ON V.ID_COMMUNE = C.ID_COMMUNE\n",
    "    INNER JOIN DEPARTEMENTS D ON C.ID_DEPT = D.ID_DEPT\n",
    "    INNER JOIN REGIONS R ON D.ID_REGION = R.ID_REGION;\n",
    "\"\"\"\n",
    "\n",
    "df_all = pd.read_sql(query, db)\n",
    "df_all.head()"
   ]
  },
  {
   "cell_type": "code",
   "execution_count": null,
   "metadata": {},
   "outputs": [],
   "source": [
    "# Désactivation des contraintes de clé étrangère\n",
    "cursor.execute('SET foreign_key_checks = 0')\n",
    "\n",
    "# Suppression des tables\n",
    "cursor.execute('DROP TABLE IF EXISTS VENTES')\n",
    "cursor.execute('DROP TABLE IF EXISTS TYPES_BIENS')\n",
    "cursor.execute('DROP TABLE IF EXISTS COMMUNES')\n",
    "cursor.execute('DROP TABLE IF EXISTS DEPARTEMENTS')\n",
    "cursor.execute('DROP TABLE IF EXISTS REGIONS')\n",
    "cursor.execute('DROP DATABASE datagouv;')"
   ]
  },
  {
   "cell_type": "code",
   "execution_count": null,
   "metadata": {},
   "outputs": [],
   "source": [
    "closing_connection()"
   ]
  }
 ],
 "metadata": {
  "kernelspec": {
   "display_name": "Python 3",
   "language": "python",
   "name": "python3"
  },
  "language_info": {
   "codemirror_mode": {
    "name": "ipython",
    "version": 3
   },
   "file_extension": ".py",
   "mimetype": "text/x-python",
   "name": "python",
   "nbconvert_exporter": "python",
   "pygments_lexer": "ipython3",
   "version": "3.8.10"
  }
 },
 "nbformat": 4,
 "nbformat_minor": 2
}
