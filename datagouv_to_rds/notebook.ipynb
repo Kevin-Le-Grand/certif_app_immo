{
 "cells": [
  {
   "cell_type": "markdown",
   "metadata": {},
   "source": [
    "# Web-scraping"
   ]
  },
  {
   "cell_type": "code",
   "execution_count": 8,
   "metadata": {},
   "outputs": [],
   "source": [
    "# Librairies pour la décompression de fichiers\n",
    "import gzip\n",
    "from io import BytesIO\n",
    "\n",
    "# Librairies pour le scrapping\n",
    "import requests\n",
    "from bs4 import BeautifulSoup\n",
    "from urllib.parse import urljoin\n",
    "\n",
    "# Visualisation de données\n",
    "import pandas as pd"
   ]
  },
  {
   "cell_type": "code",
   "execution_count": 4,
   "metadata": {},
   "outputs": [],
   "source": [
    "# URL de la page web\n",
    "url = 'https://files.data.gouv.fr/geo-dvf/latest/csv/'\n",
    "\n",
    "response = requests.get(url)\n",
    "html_content = response.content\n",
    "\n",
    "# Utilisez BeautifulSoup pour analyser le HTML\n",
    "soup = BeautifulSoup(html_content, 'html.parser')"
   ]
  },
  {
   "cell_type": "code",
   "execution_count": 5,
   "metadata": {},
   "outputs": [
    {
     "name": "stdout",
     "output_type": "stream",
     "text": [
      "['2018/', '2019/', '2020/', '2021/', '2022/', '2023/']\n"
     ]
    }
   ],
   "source": [
    "# Trouver toutes les balises <a>\n",
    "a_tags = soup.find_all('a')\n",
    "annees=[]\n",
    "# Parcourir chaque balise <a> et extraire le texte ainsi que la date/heure\n",
    "for a_tag in a_tags:\n",
    "    name = a_tag.text.strip()\n",
    "    if name!=\"../\":\n",
    "        annees.append(name)\n",
    "print(annees)"
   ]
  },
  {
   "cell_type": "code",
   "execution_count": 6,
   "metadata": {},
   "outputs": [
    {
     "name": "stdout",
     "output_type": "stream",
     "text": [
      "13-Oct-202320:28-\n"
     ]
    }
   ],
   "source": [
    "date_element = soup.find('pre').contents[-1].strip()\n",
    "date_maj = date_element.replace(\" \",\"\")\n",
    "print(date_maj)"
   ]
  },
  {
   "cell_type": "markdown",
   "metadata": {},
   "source": [
    "# Récupération des données sur une l'année 2023"
   ]
  },
  {
   "cell_type": "code",
   "execution_count": 7,
   "metadata": {},
   "outputs": [
    {
     "name": "stdout",
     "output_type": "stream",
     "text": [
      "https://files.data.gouv.fr/geo-dvf/latest/csv/2023/full.csv.gz\n"
     ]
    }
   ],
   "source": [
    "url = f'https://files.data.gouv.fr/geo-dvf/latest/csv/{annees[-1]}'\n",
    "response = requests.get(url)\n",
    "html_content = response.content\n",
    "soup = BeautifulSoup(html_content, 'html.parser')\n",
    "\n",
    "# Trouver la balise 'a' qui contient les liens de téléchargement\n",
    "csv_element = soup.find('pre').find('a', {'href': \"full.csv.gz\"})\n",
    "csv_link = urljoin(url, csv_element['href'])\n",
    "print(csv_link)"
   ]
  },
  {
   "cell_type": "code",
   "execution_count": 9,
   "metadata": {},
   "outputs": [],
   "source": [
    "csv_response = requests.get(csv_link)\n",
    "if csv_response.status_code == 200:\n",
    "    # Utilisation du buffer pour décompresser le fichier .gz\n",
    "    with BytesIO(csv_response.content) as file_buffer:\n",
    "        with gzip.GzipFile(fileobj=file_buffer, mode='rb') as gz_file:\n",
    "            df = pd.read_csv(gz_file, low_memory=False)\n",
    "else :\n",
    "    print(\"Erreur !!!\")"
   ]
  },
  {
   "cell_type": "code",
   "execution_count": 10,
   "metadata": {},
   "outputs": [
    {
     "data": {
      "text/html": [
       "<div>\n",
       "<style scoped>\n",
       "    .dataframe tbody tr th:only-of-type {\n",
       "        vertical-align: middle;\n",
       "    }\n",
       "\n",
       "    .dataframe tbody tr th {\n",
       "        vertical-align: top;\n",
       "    }\n",
       "\n",
       "    .dataframe thead th {\n",
       "        text-align: right;\n",
       "    }\n",
       "</style>\n",
       "<table border=\"1\" class=\"dataframe\">\n",
       "  <thead>\n",
       "    <tr style=\"text-align: right;\">\n",
       "      <th></th>\n",
       "      <th>id_mutation</th>\n",
       "      <th>date_mutation</th>\n",
       "      <th>numero_disposition</th>\n",
       "      <th>nature_mutation</th>\n",
       "      <th>valeur_fonciere</th>\n",
       "      <th>adresse_numero</th>\n",
       "      <th>adresse_suffixe</th>\n",
       "      <th>adresse_nom_voie</th>\n",
       "      <th>adresse_code_voie</th>\n",
       "      <th>code_postal</th>\n",
       "      <th>...</th>\n",
       "      <th>type_local</th>\n",
       "      <th>surface_reelle_bati</th>\n",
       "      <th>nombre_pieces_principales</th>\n",
       "      <th>code_nature_culture</th>\n",
       "      <th>nature_culture</th>\n",
       "      <th>code_nature_culture_speciale</th>\n",
       "      <th>nature_culture_speciale</th>\n",
       "      <th>surface_terrain</th>\n",
       "      <th>longitude</th>\n",
       "      <th>latitude</th>\n",
       "    </tr>\n",
       "  </thead>\n",
       "  <tbody>\n",
       "    <tr>\n",
       "      <th>0</th>\n",
       "      <td>2023-1</td>\n",
       "      <td>2023-01-05</td>\n",
       "      <td>1</td>\n",
       "      <td>Vente</td>\n",
       "      <td>1070000.0</td>\n",
       "      <td>184.0</td>\n",
       "      <td>NaN</td>\n",
       "      <td>ALL DES HETRES</td>\n",
       "      <td>0124</td>\n",
       "      <td>1630.0</td>\n",
       "      <td>...</td>\n",
       "      <td>Dépendance</td>\n",
       "      <td>NaN</td>\n",
       "      <td>0.0</td>\n",
       "      <td>NaN</td>\n",
       "      <td>NaN</td>\n",
       "      <td>NaN</td>\n",
       "      <td>NaN</td>\n",
       "      <td>NaN</td>\n",
       "      <td>6.019949</td>\n",
       "      <td>46.247458</td>\n",
       "    </tr>\n",
       "    <tr>\n",
       "      <th>1</th>\n",
       "      <td>2023-1</td>\n",
       "      <td>2023-01-05</td>\n",
       "      <td>1</td>\n",
       "      <td>Vente</td>\n",
       "      <td>1070000.0</td>\n",
       "      <td>159.0</td>\n",
       "      <td>NaN</td>\n",
       "      <td>ALL DES HETRES</td>\n",
       "      <td>0124</td>\n",
       "      <td>1630.0</td>\n",
       "      <td>...</td>\n",
       "      <td>Dépendance</td>\n",
       "      <td>NaN</td>\n",
       "      <td>0.0</td>\n",
       "      <td>NaN</td>\n",
       "      <td>NaN</td>\n",
       "      <td>NaN</td>\n",
       "      <td>NaN</td>\n",
       "      <td>NaN</td>\n",
       "      <td>6.020204</td>\n",
       "      <td>46.247228</td>\n",
       "    </tr>\n",
       "    <tr>\n",
       "      <th>2</th>\n",
       "      <td>2023-1</td>\n",
       "      <td>2023-01-05</td>\n",
       "      <td>1</td>\n",
       "      <td>Vente</td>\n",
       "      <td>1070000.0</td>\n",
       "      <td>159.0</td>\n",
       "      <td>NaN</td>\n",
       "      <td>ALL DES HETRES</td>\n",
       "      <td>0124</td>\n",
       "      <td>1630.0</td>\n",
       "      <td>...</td>\n",
       "      <td>Appartement</td>\n",
       "      <td>233.0</td>\n",
       "      <td>8.0</td>\n",
       "      <td>NaN</td>\n",
       "      <td>NaN</td>\n",
       "      <td>NaN</td>\n",
       "      <td>NaN</td>\n",
       "      <td>NaN</td>\n",
       "      <td>6.020204</td>\n",
       "      <td>46.247228</td>\n",
       "    </tr>\n",
       "    <tr>\n",
       "      <th>3</th>\n",
       "      <td>2023-2</td>\n",
       "      <td>2023-01-03</td>\n",
       "      <td>1</td>\n",
       "      <td>Vente</td>\n",
       "      <td>152200.0</td>\n",
       "      <td>2914.0</td>\n",
       "      <td>NaN</td>\n",
       "      <td>RTE DE PONCIN</td>\n",
       "      <td>0107</td>\n",
       "      <td>1450.0</td>\n",
       "      <td>...</td>\n",
       "      <td>Maison</td>\n",
       "      <td>64.0</td>\n",
       "      <td>3.0</td>\n",
       "      <td>S</td>\n",
       "      <td>sols</td>\n",
       "      <td>NaN</td>\n",
       "      <td>NaN</td>\n",
       "      <td>988.0</td>\n",
       "      <td>5.438273</td>\n",
       "      <td>46.129859</td>\n",
       "    </tr>\n",
       "    <tr>\n",
       "      <th>4</th>\n",
       "      <td>2023-3</td>\n",
       "      <td>2023-01-05</td>\n",
       "      <td>1</td>\n",
       "      <td>Vente</td>\n",
       "      <td>269000.0</td>\n",
       "      <td>427.0</td>\n",
       "      <td>T</td>\n",
       "      <td>CHE DE L'AUBEPIN</td>\n",
       "      <td>0040</td>\n",
       "      <td>1800.0</td>\n",
       "      <td>...</td>\n",
       "      <td>Dépendance</td>\n",
       "      <td>NaN</td>\n",
       "      <td>0.0</td>\n",
       "      <td>S</td>\n",
       "      <td>sols</td>\n",
       "      <td>NaN</td>\n",
       "      <td>NaN</td>\n",
       "      <td>835.0</td>\n",
       "      <td>5.225844</td>\n",
       "      <td>45.853513</td>\n",
       "    </tr>\n",
       "  </tbody>\n",
       "</table>\n",
       "<p>5 rows × 40 columns</p>\n",
       "</div>"
      ],
      "text/plain": [
       "  id_mutation date_mutation  numero_disposition nature_mutation  \\\n",
       "0      2023-1    2023-01-05                   1           Vente   \n",
       "1      2023-1    2023-01-05                   1           Vente   \n",
       "2      2023-1    2023-01-05                   1           Vente   \n",
       "3      2023-2    2023-01-03                   1           Vente   \n",
       "4      2023-3    2023-01-05                   1           Vente   \n",
       "\n",
       "   valeur_fonciere  adresse_numero adresse_suffixe  adresse_nom_voie  \\\n",
       "0        1070000.0           184.0             NaN    ALL DES HETRES   \n",
       "1        1070000.0           159.0             NaN    ALL DES HETRES   \n",
       "2        1070000.0           159.0             NaN    ALL DES HETRES   \n",
       "3         152200.0          2914.0             NaN     RTE DE PONCIN   \n",
       "4         269000.0           427.0               T  CHE DE L'AUBEPIN   \n",
       "\n",
       "  adresse_code_voie  code_postal  ...   type_local surface_reelle_bati  \\\n",
       "0              0124       1630.0  ...   Dépendance                 NaN   \n",
       "1              0124       1630.0  ...   Dépendance                 NaN   \n",
       "2              0124       1630.0  ...  Appartement               233.0   \n",
       "3              0107       1450.0  ...       Maison                64.0   \n",
       "4              0040       1800.0  ...   Dépendance                 NaN   \n",
       "\n",
       "  nombre_pieces_principales  code_nature_culture nature_culture  \\\n",
       "0                       0.0                  NaN            NaN   \n",
       "1                       0.0                  NaN            NaN   \n",
       "2                       8.0                  NaN            NaN   \n",
       "3                       3.0                    S           sols   \n",
       "4                       0.0                    S           sols   \n",
       "\n",
       "  code_nature_culture_speciale  nature_culture_speciale surface_terrain  \\\n",
       "0                          NaN                      NaN             NaN   \n",
       "1                          NaN                      NaN             NaN   \n",
       "2                          NaN                      NaN             NaN   \n",
       "3                          NaN                      NaN           988.0   \n",
       "4                          NaN                      NaN           835.0   \n",
       "\n",
       "  longitude   latitude  \n",
       "0  6.019949  46.247458  \n",
       "1  6.020204  46.247228  \n",
       "2  6.020204  46.247228  \n",
       "3  5.438273  46.129859  \n",
       "4  5.225844  45.853513  \n",
       "\n",
       "[5 rows x 40 columns]"
      ]
     },
     "execution_count": 10,
     "metadata": {},
     "output_type": "execute_result"
    }
   ],
   "source": [
    "df.head()"
   ]
  },
  {
   "cell_type": "markdown",
   "metadata": {},
   "source": [
    "# EDA sur 2023"
   ]
  },
  {
   "cell_type": "code",
   "execution_count": 15,
   "metadata": {},
   "outputs": [
    {
     "data": {
      "text/plain": [
       "['id_mutation',\n",
       " 'date_mutation',\n",
       " 'numero_disposition',\n",
       " 'nature_mutation',\n",
       " 'valeur_fonciere',\n",
       " 'adresse_numero',\n",
       " 'adresse_suffixe',\n",
       " 'adresse_nom_voie',\n",
       " 'adresse_code_voie',\n",
       " 'code_postal',\n",
       " 'code_commune',\n",
       " 'nom_commune',\n",
       " 'code_departement',\n",
       " 'ancien_code_commune',\n",
       " 'ancien_nom_commune',\n",
       " 'id_parcelle',\n",
       " 'ancien_id_parcelle',\n",
       " 'numero_volume',\n",
       " 'lot1_numero',\n",
       " 'lot1_surface_carrez',\n",
       " 'lot2_numero',\n",
       " 'lot2_surface_carrez',\n",
       " 'lot3_numero',\n",
       " 'lot3_surface_carrez',\n",
       " 'lot4_numero',\n",
       " 'lot4_surface_carrez',\n",
       " 'lot5_numero',\n",
       " 'lot5_surface_carrez',\n",
       " 'nombre_lots',\n",
       " 'code_type_local',\n",
       " 'type_local',\n",
       " 'surface_reelle_bati',\n",
       " 'nombre_pieces_principales',\n",
       " 'code_nature_culture',\n",
       " 'nature_culture',\n",
       " 'code_nature_culture_speciale',\n",
       " 'nature_culture_speciale',\n",
       " 'surface_terrain',\n",
       " 'longitude',\n",
       " 'latitude']"
      ]
     },
     "execution_count": 15,
     "metadata": {},
     "output_type": "execute_result"
    }
   ],
   "source": [
    "df.columns.to_list()\n"
   ]
  }
 ],
 "metadata": {
  "kernelspec": {
   "display_name": "Python 3",
   "language": "python",
   "name": "python3"
  },
  "language_info": {
   "codemirror_mode": {
    "name": "ipython",
    "version": 3
   },
   "file_extension": ".py",
   "mimetype": "text/x-python",
   "name": "python",
   "nbconvert_exporter": "python",
   "pygments_lexer": "ipython3",
   "version": "3.8.10"
  }
 },
 "nbformat": 4,
 "nbformat_minor": 2
}
