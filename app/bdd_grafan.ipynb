{
 "cells": [
  {
   "cell_type": "code",
   "execution_count": 1,
   "metadata": {},
   "outputs": [],
   "source": [
    "from config_bdd import DataBaseV2\n",
    "import sqlalchemy as db\n",
    "\n",
    "database = DataBaseV2(\n",
    "    db_type='postgresql',\n",
    "    #db_name=dbname,\n",
    "    #db_host=host,\n",
    "    #db_port=port,\n",
    "    #db_user=user,\n",
    "    #db_password=password\n",
    "    db_url=\"your_url\"\n",
    ")\n"
   ]
  },
  {
   "cell_type": "markdown",
   "metadata": {},
   "source": [
    "# Creation d'une table et test"
   ]
  },
  {
   "cell_type": "code",
   "execution_count": 9,
   "metadata": {},
   "outputs": [
    {
     "name": "stdout",
     "output_type": "stream",
     "text": [
      "Table : 'test' are created succesfully\n"
     ]
    }
   ],
   "source": [
    "# Création d'un Tableau1\n",
    "database.create_table('test', \n",
    "                      date_pred=db.DATE, \n",
    "                      type_de_bien=db.String, \n",
    "                      departement=db.String,\n",
    "                      commune=db.String)"
   ]
  },
  {
   "cell_type": "code",
   "execution_count": 2,
   "metadata": {},
   "outputs": [
    {
     "data": {
      "text/plain": [
       "[{'name': 'date_pred',\n",
       "  'type': DATE(),\n",
       "  'nullable': True,\n",
       "  'default': None,\n",
       "  'autoincrement': False,\n",
       "  'comment': None},\n",
       " {'name': 'type_de_bien',\n",
       "  'type': VARCHAR(),\n",
       "  'nullable': True,\n",
       "  'default': None,\n",
       "  'autoincrement': False,\n",
       "  'comment': None},\n",
       " {'name': 'region',\n",
       "  'type': VARCHAR(),\n",
       "  'nullable': True,\n",
       "  'default': None,\n",
       "  'autoincrement': False,\n",
       "  'comment': None},\n",
       " {'name': 'departement',\n",
       "  'type': VARCHAR(),\n",
       "  'nullable': True,\n",
       "  'default': None,\n",
       "  'autoincrement': False,\n",
       "  'comment': None},\n",
       " {'name': 'commune',\n",
       "  'type': VARCHAR(),\n",
       "  'nullable': True,\n",
       "  'default': None,\n",
       "  'autoincrement': False,\n",
       "  'comment': None}]"
      ]
     },
     "execution_count": 2,
     "metadata": {},
     "output_type": "execute_result"
    }
   ],
   "source": [
    "database.get_columns_table(\"kpis\")"
   ]
  },
  {
   "cell_type": "code",
   "execution_count": 3,
   "metadata": {},
   "outputs": [
    {
     "name": "stdout",
     "output_type": "stream",
     "text": [
      "Colonne créée avec succès.\n"
     ]
    }
   ],
   "source": [
    "database.add_column(\"kpis\", \"user\", \"VARCHAR(50)\")"
   ]
  },
  {
   "cell_type": "code",
   "execution_count": 4,
   "metadata": {},
   "outputs": [
    {
     "name": "stdout",
     "output_type": "stream",
     "text": [
      "Colonne créée avec succès.\n"
     ]
    }
   ],
   "source": [
    "database.add_column(\"kpis\", \"pred\", \"FLOAT\")"
   ]
  },
  {
   "cell_type": "code",
   "execution_count": 5,
   "metadata": {},
   "outputs": [
    {
     "data": {
      "text/plain": [
       "[{'name': 'date_pred',\n",
       "  'type': DATE(),\n",
       "  'nullable': True,\n",
       "  'default': None,\n",
       "  'autoincrement': False,\n",
       "  'comment': None},\n",
       " {'name': 'type_de_bien',\n",
       "  'type': VARCHAR(),\n",
       "  'nullable': True,\n",
       "  'default': None,\n",
       "  'autoincrement': False,\n",
       "  'comment': None},\n",
       " {'name': 'region',\n",
       "  'type': VARCHAR(),\n",
       "  'nullable': True,\n",
       "  'default': None,\n",
       "  'autoincrement': False,\n",
       "  'comment': None},\n",
       " {'name': 'departement',\n",
       "  'type': VARCHAR(),\n",
       "  'nullable': True,\n",
       "  'default': None,\n",
       "  'autoincrement': False,\n",
       "  'comment': None},\n",
       " {'name': 'commune',\n",
       "  'type': VARCHAR(),\n",
       "  'nullable': True,\n",
       "  'default': None,\n",
       "  'autoincrement': False,\n",
       "  'comment': None},\n",
       " {'name': 'user',\n",
       "  'type': VARCHAR(length=50),\n",
       "  'nullable': True,\n",
       "  'default': None,\n",
       "  'autoincrement': False,\n",
       "  'comment': None},\n",
       " {'name': 'pred',\n",
       "  'type': DOUBLE_PRECISION(precision=53),\n",
       "  'nullable': True,\n",
       "  'default': None,\n",
       "  'autoincrement': False,\n",
       "  'comment': None}]"
      ]
     },
     "execution_count": 5,
     "metadata": {},
     "output_type": "execute_result"
    }
   ],
   "source": [
    "database.get_columns_table(\"kpis\")"
   ]
  },
  {
   "cell_type": "code",
   "execution_count": 7,
   "metadata": {},
   "outputs": [
    {
     "data": {
      "text/html": [
       "<div>\n",
       "<style scoped>\n",
       "    .dataframe tbody tr th:only-of-type {\n",
       "        vertical-align: middle;\n",
       "    }\n",
       "\n",
       "    .dataframe tbody tr th {\n",
       "        vertical-align: top;\n",
       "    }\n",
       "\n",
       "    .dataframe thead th {\n",
       "        text-align: right;\n",
       "    }\n",
       "</style>\n",
       "<table border=\"1\" class=\"dataframe\">\n",
       "  <thead>\n",
       "    <tr style=\"text-align: right;\">\n",
       "      <th></th>\n",
       "      <th>date_pred</th>\n",
       "      <th>type_de_bien</th>\n",
       "      <th>region</th>\n",
       "      <th>departement</th>\n",
       "      <th>commune</th>\n",
       "      <th>user</th>\n",
       "      <th>pred</th>\n",
       "    </tr>\n",
       "  </thead>\n",
       "  <tbody>\n",
       "    <tr>\n",
       "      <th>0</th>\n",
       "      <td>2024-03-05</td>\n",
       "      <td>Appartement</td>\n",
       "      <td>Normandie</td>\n",
       "      <td>Manche</td>\n",
       "      <td>Agneaux</td>\n",
       "      <td>None</td>\n",
       "      <td>None</td>\n",
       "    </tr>\n",
       "  </tbody>\n",
       "</table>\n",
       "</div>"
      ],
      "text/plain": [
       "    date_pred type_de_bien     region departement  commune  user  pred\n",
       "0  2024-03-05  Appartement  Normandie      Manche  Agneaux  None  None"
      ]
     },
     "execution_count": 7,
     "metadata": {},
     "output_type": "execute_result"
    }
   ],
   "source": [
    "df = database.query_to_dataframe(\"SELECT * FROM kpis WHERE date_pred='2024-03-05'\")\n",
    "df.head(10)"
   ]
  },
  {
   "cell_type": "code",
   "execution_count": 9,
   "metadata": {},
   "outputs": [
    {
     "name": "stdout",
     "output_type": "stream",
     "text": [
      "Row id added\n"
     ]
    }
   ],
   "source": [
    "from datetime import date\n",
    "\n",
    "database.add_row(\"kpis\", date_pred=date.today(),\n",
    "                    type_de_bien=\"Maison\",\n",
    "                    region=\"Normandie\",\n",
    "                    departement=\"Manche\",\n",
    "                    commune=\"Agneaux\",\n",
    "                    user=\"test\",\n",
    "                    pred=125000)"
   ]
  },
  {
   "cell_type": "code",
   "execution_count": 10,
   "metadata": {},
   "outputs": [
    {
     "data": {
      "text/html": [
       "<div>\n",
       "<style scoped>\n",
       "    .dataframe tbody tr th:only-of-type {\n",
       "        vertical-align: middle;\n",
       "    }\n",
       "\n",
       "    .dataframe tbody tr th {\n",
       "        vertical-align: top;\n",
       "    }\n",
       "\n",
       "    .dataframe thead th {\n",
       "        text-align: right;\n",
       "    }\n",
       "</style>\n",
       "<table border=\"1\" class=\"dataframe\">\n",
       "  <thead>\n",
       "    <tr style=\"text-align: right;\">\n",
       "      <th></th>\n",
       "      <th>date_pred</th>\n",
       "      <th>type_de_bien</th>\n",
       "      <th>region</th>\n",
       "      <th>departement</th>\n",
       "      <th>commune</th>\n",
       "      <th>user</th>\n",
       "      <th>pred</th>\n",
       "    </tr>\n",
       "  </thead>\n",
       "  <tbody>\n",
       "    <tr>\n",
       "      <th>0</th>\n",
       "      <td>2024-03-05</td>\n",
       "      <td>Appartement</td>\n",
       "      <td>Normandie</td>\n",
       "      <td>Manche</td>\n",
       "      <td>Agneaux</td>\n",
       "      <td>None</td>\n",
       "      <td>NaN</td>\n",
       "    </tr>\n",
       "    <tr>\n",
       "      <th>1</th>\n",
       "      <td>2024-03-05</td>\n",
       "      <td>Maison</td>\n",
       "      <td>Normandie</td>\n",
       "      <td>Manche</td>\n",
       "      <td>Agneaux</td>\n",
       "      <td>test</td>\n",
       "      <td>125000.0</td>\n",
       "    </tr>\n",
       "  </tbody>\n",
       "</table>\n",
       "</div>"
      ],
      "text/plain": [
       "    date_pred type_de_bien     region departement  commune  user      pred\n",
       "0  2024-03-05  Appartement  Normandie      Manche  Agneaux  None       NaN\n",
       "1  2024-03-05       Maison  Normandie      Manche  Agneaux  test  125000.0"
      ]
     },
     "execution_count": 10,
     "metadata": {},
     "output_type": "execute_result"
    }
   ],
   "source": [
    "df = database.query_to_dataframe(\"SELECT * FROM kpis WHERE date_pred='2024-03-05'\")\n",
    "df.head(10)"
   ]
  },
  {
   "cell_type": "code",
   "execution_count": 18,
   "metadata": {},
   "outputs": [
    {
     "name": "stdout",
     "output_type": "stream",
     "text": [
      "Row id added\n"
     ]
    }
   ],
   "source": [
    "import streamlit as st\n",
    "from datetime import date\n",
    "\n",
    "type_de_bien=\"Maison\"\n",
    "region=\"Normandie\"\n",
    "departement=\"Manche\"\n",
    "commune=\"Agneaux\"\n",
    "username=\"test2\"\n",
    "pred=175000\n",
    "database.add_row(\"kpis\", date_pred=date.today(),\n",
    "                    type_de_bien=f\"{type_de_bien}\",\n",
    "                    region=f\"{region}\",\n",
    "                    departement=f\"{departement}\",\n",
    "                    commune=f\"{commune}\",\n",
    "                    user=f\"{username}\",\n",
    "                    pred=float(pred))"
   ]
  },
  {
   "cell_type": "markdown",
   "metadata": {},
   "source": [
    "## Ajouts des autres paramètres. "
   ]
  },
  {
   "cell_type": "code",
   "execution_count": 3,
   "metadata": {},
   "outputs": [
    {
     "name": "stdout",
     "output_type": "stream",
     "text": [
      "Colonne créée avec succès.\n"
     ]
    }
   ],
   "source": [
    "database.add_column(\"kpis\", \"surface_bati\", \"FLOAT\")"
   ]
  },
  {
   "cell_type": "code",
   "execution_count": 4,
   "metadata": {},
   "outputs": [
    {
     "name": "stdout",
     "output_type": "stream",
     "text": [
      "Colonne créée avec succès.\n"
     ]
    }
   ],
   "source": [
    "database.add_column(\"kpis\", \"surface_terrain\", \"FLOAT\")"
   ]
  },
  {
   "cell_type": "code",
   "execution_count": 5,
   "metadata": {},
   "outputs": [
    {
     "name": "stdout",
     "output_type": "stream",
     "text": [
      "Colonne créée avec succès.\n"
     ]
    }
   ],
   "source": [
    "database.add_column(\"kpis\", \"nb_piece\", \"INTEGER\")"
   ]
  },
  {
   "cell_type": "code",
   "execution_count": 6,
   "metadata": {},
   "outputs": [
    {
     "data": {
      "text/html": [
       "<div>\n",
       "<style scoped>\n",
       "    .dataframe tbody tr th:only-of-type {\n",
       "        vertical-align: middle;\n",
       "    }\n",
       "\n",
       "    .dataframe tbody tr th {\n",
       "        vertical-align: top;\n",
       "    }\n",
       "\n",
       "    .dataframe thead th {\n",
       "        text-align: right;\n",
       "    }\n",
       "</style>\n",
       "<table border=\"1\" class=\"dataframe\">\n",
       "  <thead>\n",
       "    <tr style=\"text-align: right;\">\n",
       "      <th></th>\n",
       "      <th>date_pred</th>\n",
       "      <th>type_de_bien</th>\n",
       "      <th>region</th>\n",
       "      <th>departement</th>\n",
       "      <th>commune</th>\n",
       "      <th>user</th>\n",
       "      <th>pred</th>\n",
       "      <th>surface_bati</th>\n",
       "      <th>surface_terrain</th>\n",
       "      <th>nb_piece</th>\n",
       "    </tr>\n",
       "  </thead>\n",
       "  <tbody>\n",
       "    <tr>\n",
       "      <th>0</th>\n",
       "      <td>2024-03-05</td>\n",
       "      <td>Appartement</td>\n",
       "      <td>Normandie</td>\n",
       "      <td>Manche</td>\n",
       "      <td>Agneaux</td>\n",
       "      <td>None</td>\n",
       "      <td>NaN</td>\n",
       "      <td>None</td>\n",
       "      <td>None</td>\n",
       "      <td>None</td>\n",
       "    </tr>\n",
       "    <tr>\n",
       "      <th>1</th>\n",
       "      <td>2024-03-05</td>\n",
       "      <td>Maison</td>\n",
       "      <td>Normandie</td>\n",
       "      <td>Manche</td>\n",
       "      <td>Agneaux</td>\n",
       "      <td>test</td>\n",
       "      <td>125000.0</td>\n",
       "      <td>None</td>\n",
       "      <td>None</td>\n",
       "      <td>None</td>\n",
       "    </tr>\n",
       "    <tr>\n",
       "      <th>2</th>\n",
       "      <td>2024-03-05</td>\n",
       "      <td>Maison</td>\n",
       "      <td>Normandie</td>\n",
       "      <td>Manche</td>\n",
       "      <td>Agneaux</td>\n",
       "      <td>test2</td>\n",
       "      <td>175000.0</td>\n",
       "      <td>None</td>\n",
       "      <td>None</td>\n",
       "      <td>None</td>\n",
       "    </tr>\n",
       "    <tr>\n",
       "      <th>3</th>\n",
       "      <td>2024-03-05</td>\n",
       "      <td>Appartement</td>\n",
       "      <td>Normandie</td>\n",
       "      <td>Manche</td>\n",
       "      <td>Agneaux</td>\n",
       "      <td>kevin3</td>\n",
       "      <td>108224.0</td>\n",
       "      <td>None</td>\n",
       "      <td>None</td>\n",
       "      <td>None</td>\n",
       "    </tr>\n",
       "  </tbody>\n",
       "</table>\n",
       "</div>"
      ],
      "text/plain": [
       "    date_pred type_de_bien     region departement  commune    user      pred  \\\n",
       "0  2024-03-05  Appartement  Normandie      Manche  Agneaux    None       NaN   \n",
       "1  2024-03-05       Maison  Normandie      Manche  Agneaux    test  125000.0   \n",
       "2  2024-03-05       Maison  Normandie      Manche  Agneaux   test2  175000.0   \n",
       "3  2024-03-05  Appartement  Normandie      Manche  Agneaux  kevin3  108224.0   \n",
       "\n",
       "  surface_bati surface_terrain nb_piece  \n",
       "0         None            None     None  \n",
       "1         None            None     None  \n",
       "2         None            None     None  \n",
       "3         None            None     None  "
      ]
     },
     "execution_count": 6,
     "metadata": {},
     "output_type": "execute_result"
    }
   ],
   "source": [
    "df = database.query_to_dataframe(\"SELECT * FROM kpis WHERE date_pred='2024-03-05'\")\n",
    "df.head(10)"
   ]
  },
  {
   "cell_type": "code",
   "execution_count": 7,
   "metadata": {},
   "outputs": [
    {
     "data": {
      "text/html": [
       "<div>\n",
       "<style scoped>\n",
       "    .dataframe tbody tr th:only-of-type {\n",
       "        vertical-align: middle;\n",
       "    }\n",
       "\n",
       "    .dataframe tbody tr th {\n",
       "        vertical-align: top;\n",
       "    }\n",
       "\n",
       "    .dataframe thead th {\n",
       "        text-align: right;\n",
       "    }\n",
       "</style>\n",
       "<table border=\"1\" class=\"dataframe\">\n",
       "  <thead>\n",
       "    <tr style=\"text-align: right;\">\n",
       "      <th></th>\n",
       "      <th>date_pred</th>\n",
       "      <th>type_de_bien</th>\n",
       "      <th>region</th>\n",
       "      <th>departement</th>\n",
       "      <th>commune</th>\n",
       "      <th>user</th>\n",
       "      <th>pred</th>\n",
       "      <th>surface_bati</th>\n",
       "      <th>surface_terrain</th>\n",
       "      <th>nb_piece</th>\n",
       "    </tr>\n",
       "  </thead>\n",
       "  <tbody>\n",
       "    <tr>\n",
       "      <th>0</th>\n",
       "      <td>2024-03-05</td>\n",
       "      <td>Appartement</td>\n",
       "      <td>Normandie</td>\n",
       "      <td>Manche</td>\n",
       "      <td>Agneaux</td>\n",
       "      <td>None</td>\n",
       "      <td>NaN</td>\n",
       "      <td>NaN</td>\n",
       "      <td>NaN</td>\n",
       "      <td>NaN</td>\n",
       "    </tr>\n",
       "    <tr>\n",
       "      <th>1</th>\n",
       "      <td>2024-03-05</td>\n",
       "      <td>Maison</td>\n",
       "      <td>Normandie</td>\n",
       "      <td>Manche</td>\n",
       "      <td>Agneaux</td>\n",
       "      <td>test</td>\n",
       "      <td>125000.0</td>\n",
       "      <td>NaN</td>\n",
       "      <td>NaN</td>\n",
       "      <td>NaN</td>\n",
       "    </tr>\n",
       "    <tr>\n",
       "      <th>2</th>\n",
       "      <td>2024-03-05</td>\n",
       "      <td>Maison</td>\n",
       "      <td>Normandie</td>\n",
       "      <td>Manche</td>\n",
       "      <td>Agneaux</td>\n",
       "      <td>test2</td>\n",
       "      <td>175000.0</td>\n",
       "      <td>NaN</td>\n",
       "      <td>NaN</td>\n",
       "      <td>NaN</td>\n",
       "    </tr>\n",
       "    <tr>\n",
       "      <th>3</th>\n",
       "      <td>2024-03-05</td>\n",
       "      <td>Appartement</td>\n",
       "      <td>Normandie</td>\n",
       "      <td>Manche</td>\n",
       "      <td>Agneaux</td>\n",
       "      <td>kevin3</td>\n",
       "      <td>108224.0</td>\n",
       "      <td>NaN</td>\n",
       "      <td>NaN</td>\n",
       "      <td>NaN</td>\n",
       "    </tr>\n",
       "    <tr>\n",
       "      <th>4</th>\n",
       "      <td>2024-03-05</td>\n",
       "      <td>Appartement</td>\n",
       "      <td>Normandie</td>\n",
       "      <td>Manche</td>\n",
       "      <td>Agneaux</td>\n",
       "      <td>kevin3</td>\n",
       "      <td>199815.0</td>\n",
       "      <td>150.0</td>\n",
       "      <td>0.0</td>\n",
       "      <td>4.0</td>\n",
       "    </tr>\n",
       "  </tbody>\n",
       "</table>\n",
       "</div>"
      ],
      "text/plain": [
       "    date_pred type_de_bien     region departement  commune    user      pred  \\\n",
       "0  2024-03-05  Appartement  Normandie      Manche  Agneaux    None       NaN   \n",
       "1  2024-03-05       Maison  Normandie      Manche  Agneaux    test  125000.0   \n",
       "2  2024-03-05       Maison  Normandie      Manche  Agneaux   test2  175000.0   \n",
       "3  2024-03-05  Appartement  Normandie      Manche  Agneaux  kevin3  108224.0   \n",
       "4  2024-03-05  Appartement  Normandie      Manche  Agneaux  kevin3  199815.0   \n",
       "\n",
       "   surface_bati  surface_terrain  nb_piece  \n",
       "0           NaN              NaN       NaN  \n",
       "1           NaN              NaN       NaN  \n",
       "2           NaN              NaN       NaN  \n",
       "3           NaN              NaN       NaN  \n",
       "4         150.0              0.0       4.0  "
      ]
     },
     "execution_count": 7,
     "metadata": {},
     "output_type": "execute_result"
    }
   ],
   "source": [
    "df = database.query_to_dataframe(\"SELECT * FROM kpis WHERE date_pred='2024-03-05'\")\n",
    "df.head(10)"
   ]
  },
  {
   "cell_type": "markdown",
   "metadata": {},
   "source": [
    "# Ajout d'une table pour alerter lors d'un dysfonctionnement de l'application\n",
    "#### La table aura deux colonnes : une avec la date et l'heure l'autre sera un entier qui sera égale à 0 quand une prédiction et réalisé et 1 lors d'une erreur dans l'application.\n",
    "#### Pour déclencher l'alarme, la requête sur grafana sera triée par ordre de la date et l'heure la plus récente et si la valeur dans la colonne du status est 1 alors un message sera envoyé."
   ]
  },
  {
   "cell_type": "code",
   "execution_count": 22,
   "metadata": {},
   "outputs": [
    {
     "name": "stdout",
     "output_type": "stream",
     "text": [
      "Table app_status deleted successfully\n"
     ]
    }
   ],
   "source": [
    "database.delete_table(\"app_status\")"
   ]
  },
  {
   "cell_type": "code",
   "execution_count": 23,
   "metadata": {},
   "outputs": [
    {
     "name": "stdout",
     "output_type": "stream",
     "text": [
      "Table : 'app_status' are created succesfully\n"
     ]
    }
   ],
   "source": [
    "# Création d'un Tableau1\n",
    "database.create_table('app_status', \n",
    "                      date_status=db.TIMESTAMP,\n",
    "                      status=db.Integer)"
   ]
  },
  {
   "cell_type": "code",
   "execution_count": 24,
   "metadata": {},
   "outputs": [
    {
     "name": "stdout",
     "output_type": "stream",
     "text": [
      "Row id added\n"
     ]
    }
   ],
   "source": [
    "from datetime import datetime\n",
    "database.add_row(\"app_status\", \n",
    "                date_status=datetime.now(),\n",
    "                status=1)"
   ]
  },
  {
   "cell_type": "code",
   "execution_count": 25,
   "metadata": {},
   "outputs": [
    {
     "data": {
      "text/html": [
       "<div>\n",
       "<style scoped>\n",
       "    .dataframe tbody tr th:only-of-type {\n",
       "        vertical-align: middle;\n",
       "    }\n",
       "\n",
       "    .dataframe tbody tr th {\n",
       "        vertical-align: top;\n",
       "    }\n",
       "\n",
       "    .dataframe thead th {\n",
       "        text-align: right;\n",
       "    }\n",
       "</style>\n",
       "<table border=\"1\" class=\"dataframe\">\n",
       "  <thead>\n",
       "    <tr style=\"text-align: right;\">\n",
       "      <th></th>\n",
       "      <th>date_status</th>\n",
       "      <th>status</th>\n",
       "    </tr>\n",
       "  </thead>\n",
       "  <tbody>\n",
       "    <tr>\n",
       "      <th>0</th>\n",
       "      <td>2024-03-08 16:13:12.013238</td>\n",
       "      <td>1</td>\n",
       "    </tr>\n",
       "  </tbody>\n",
       "</table>\n",
       "</div>"
      ],
      "text/plain": [
       "                 date_status  status\n",
       "0 2024-03-08 16:13:12.013238       1"
      ]
     },
     "execution_count": 25,
     "metadata": {},
     "output_type": "execute_result"
    }
   ],
   "source": [
    "df = database.query_to_dataframe(\"SELECT * FROM app_status\")\n",
    "df.head()"
   ]
  },
  {
   "cell_type": "code",
   "execution_count": 27,
   "metadata": {},
   "outputs": [
    {
     "name": "stdout",
     "output_type": "stream",
     "text": [
      "Row id added\n"
     ]
    }
   ],
   "source": [
    "database.add_row(\"app_status\", \n",
    "                date_status=datetime.now(),\n",
    "                status=0)"
   ]
  },
  {
   "cell_type": "code",
   "execution_count": 38,
   "metadata": {},
   "outputs": [
    {
     "data": {
      "text/html": [
       "<div>\n",
       "<style scoped>\n",
       "    .dataframe tbody tr th:only-of-type {\n",
       "        vertical-align: middle;\n",
       "    }\n",
       "\n",
       "    .dataframe tbody tr th {\n",
       "        vertical-align: top;\n",
       "    }\n",
       "\n",
       "    .dataframe thead th {\n",
       "        text-align: right;\n",
       "    }\n",
       "</style>\n",
       "<table border=\"1\" class=\"dataframe\">\n",
       "  <thead>\n",
       "    <tr style=\"text-align: right;\">\n",
       "      <th></th>\n",
       "      <th>date_status</th>\n",
       "      <th>status</th>\n",
       "    </tr>\n",
       "  </thead>\n",
       "  <tbody>\n",
       "    <tr>\n",
       "      <th>0</th>\n",
       "      <td>2024-03-08 16:28:59.409620</td>\n",
       "      <td>0</td>\n",
       "    </tr>\n",
       "    <tr>\n",
       "      <th>1</th>\n",
       "      <td>2024-03-08 16:25:41.551689</td>\n",
       "      <td>1</td>\n",
       "    </tr>\n",
       "    <tr>\n",
       "      <th>2</th>\n",
       "      <td>2024-03-08 16:14:31.139184</td>\n",
       "      <td>1</td>\n",
       "    </tr>\n",
       "    <tr>\n",
       "      <th>3</th>\n",
       "      <td>2024-03-08 16:13:36.136284</td>\n",
       "      <td>0</td>\n",
       "    </tr>\n",
       "    <tr>\n",
       "      <th>4</th>\n",
       "      <td>2024-03-08 16:13:21.857678</td>\n",
       "      <td>2</td>\n",
       "    </tr>\n",
       "  </tbody>\n",
       "</table>\n",
       "</div>"
      ],
      "text/plain": [
       "                 date_status  status\n",
       "0 2024-03-08 16:28:59.409620       0\n",
       "1 2024-03-08 16:25:41.551689       1\n",
       "2 2024-03-08 16:14:31.139184       1\n",
       "3 2024-03-08 16:13:36.136284       0\n",
       "4 2024-03-08 16:13:21.857678       2"
      ]
     },
     "execution_count": 38,
     "metadata": {},
     "output_type": "execute_result"
    }
   ],
   "source": [
    "df = database.query_to_dataframe(\"SELECT * FROM app_status ORDER BY date_status DESC\")\n",
    "df.head()"
   ]
  },
  {
   "cell_type": "code",
   "execution_count": 36,
   "metadata": {},
   "outputs": [
    {
     "data": {
      "text/html": [
       "<div>\n",
       "<style scoped>\n",
       "    .dataframe tbody tr th:only-of-type {\n",
       "        vertical-align: middle;\n",
       "    }\n",
       "\n",
       "    .dataframe tbody tr th {\n",
       "        vertical-align: top;\n",
       "    }\n",
       "\n",
       "    .dataframe thead th {\n",
       "        text-align: right;\n",
       "    }\n",
       "</style>\n",
       "<table border=\"1\" class=\"dataframe\">\n",
       "  <thead>\n",
       "    <tr style=\"text-align: right;\">\n",
       "      <th></th>\n",
       "      <th>status</th>\n",
       "    </tr>\n",
       "  </thead>\n",
       "  <tbody>\n",
       "    <tr>\n",
       "      <th>0</th>\n",
       "      <td>0</td>\n",
       "    </tr>\n",
       "  </tbody>\n",
       "</table>\n",
       "</div>"
      ],
      "text/plain": [
       "   status\n",
       "0       0"
      ]
     },
     "execution_count": 36,
     "metadata": {},
     "output_type": "execute_result"
    }
   ],
   "source": [
    "df = database.query_to_dataframe(\"\"\"\n",
    "SELECT STATUS FROM app_status\n",
    "ORDER BY date_status DESC\n",
    "LIMIT 1\"\"\")\n",
    "df.head()"
   ]
  },
  {
   "cell_type": "code",
   "execution_count": 31,
   "metadata": {},
   "outputs": [
    {
     "name": "stdout",
     "output_type": "stream",
     "text": [
      "Row id added\n"
     ]
    }
   ],
   "source": [
    "database.add_row(\"app_status\", \n",
    "                date_status=datetime.now(),\n",
    "                status=0)"
   ]
  }
 ],
 "metadata": {
  "kernelspec": {
   "display_name": ".venv",
   "language": "python",
   "name": "python3"
  },
  "language_info": {
   "codemirror_mode": {
    "name": "ipython",
    "version": 3
   },
   "file_extension": ".py",
   "mimetype": "text/x-python",
   "name": "python",
   "nbconvert_exporter": "python",
   "pygments_lexer": "ipython3",
   "version": "3.8.10"
  }
 },
 "nbformat": 4,
 "nbformat_minor": 2
}
