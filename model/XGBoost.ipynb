{
  "cells": [
    {
      "cell_type": "markdown",
      "metadata": {},
      "source": [
        "<h2><span style=\"background-color:grey; color:white; padding: 5px;\">Cellules à executer dans Colab</span></h2>"
      ]
    },
    {
      "cell_type": "code",
      "execution_count": 1,
      "metadata": {
        "colab": {
          "base_uri": "https://localhost:8080/"
        },
        "id": "C2MKSd2ewhqt",
        "outputId": "44967885-c4af-47cf-898f-dcc4ce6aa8c1"
      },
      "outputs": [
        {
          "name": "stdout",
          "output_type": "stream",
          "text": [
            "Mounted at /content/drive\n"
          ]
        }
      ],
      "source": [
        "from google.colab import drive\n",
        "drive.mount('/content/drive')"
      ]
    },
    {
      "cell_type": "code",
      "execution_count": null,
      "metadata": {
        "id": "6iAENJpHw6LK"
      },
      "outputs": [],
      "source": [
        "!pip install mlflow pymysql pip install xgboost"
      ]
    },
    {
      "cell_type": "code",
      "execution_count": null,
      "metadata": {},
      "outputs": [],
      "source": [
        "from drive.MyDrive.PCO.function import *\n",
        "import pandas as pd"
      ]
    },
    {
      "cell_type": "markdown",
      "metadata": {
        "id": "qZZvf0biyB_F"
      },
      "source": [
        "<h2><span style=\"background-color:grey; color:white; padding: 5px;\">Choix des paramètres pour l'entraînement, le stockage sur MLflow et des données à récupérer.</span></h2>"
      ]
    },
    {
      "cell_type": "code",
      "execution_count": 1,
      "metadata": {
        "id": "eEB_NiWCxfcD"
      },
      "outputs": [
        {
          "name": "stderr",
          "output_type": "stream",
          "text": [
            "2024-02-18 02:21:27.908079: I tensorflow/tsl/cuda/cudart_stub.cc:28] Could not find cuda drivers on your machine, GPU will not be used.\n",
            "2024-02-18 02:21:27.967700: I tensorflow/tsl/cuda/cudart_stub.cc:28] Could not find cuda drivers on your machine, GPU will not be used.\n",
            "2024-02-18 02:21:27.968739: I tensorflow/core/platform/cpu_feature_guard.cc:182] This TensorFlow binary is optimized to use available CPU instructions in performance-critical operations.\n",
            "To enable the following instructions: AVX2 FMA, in other operations, rebuild TensorFlow with the appropriate compiler flags.\n",
            "2024-02-18 02:21:28.980833: W tensorflow/compiler/tf2tensorrt/utils/py_utils.cc:38] TF-TRT Warning: Could not find TensorRT\n"
          ]
        }
      ],
      "source": [
        "# À executer en local uniquement :\n",
        "from functions2 import *\n",
        "import pandas as pd"
      ]
    },
    {
      "cell_type": "code",
      "execution_count": 2,
      "metadata": {
        "id": "PebplmFzyCtJ"
      },
      "outputs": [],
      "source": [
        "#//////////////////////////////////////////////////////////////////////////////\n",
        "#                       Option de filtrage des données\n",
        "#//////////////////////////////////////////////////////////////////////////////\n",
        "# Variable permettant de choisir si on veut traiter les outliers\n",
        "gestion_outliers =True\n",
        "\n",
        "# Nombre de ventes minimum sur une commune pour calculer un prix moyen au m² par commune\n",
        "nb_ventes_mini = 10\n",
        "\n",
        "# Taux de filtrage :\n",
        "# - Le premier élément est le nombre de vente minimum par commune\n",
        "# - Le deuxième élément est le pourcentage de outliers dans une commune\n",
        "#\n",
        "# Exemple pour tx_filtrage =[10,30] les lignes qui seront conservées seront :\n",
        "# Les communes dans lesquelles il restera minimum 10 ventes après suppression des outliers\n",
        "# ET  moins de 30% d'outliers\n",
        "# ET les lignes inférieures à la limite des outliers\n",
        "# tx_filtrage = [0,100] => Suppression des lignes dont le montant est au dessus de la limite des outliers.\n",
        "tx_filtrage =[nb_ventes_mini,30]\n",
        "\n",
        "# Recherche sur une région spécifique si recherche sur toute la France mettre ''\n",
        "region=''\n",
        "\n",
        "# Recherche sur un type de bien spécifique si recherche sur tous les bien mettre ''\n",
        "type_de_bien =''\n",
        "\n",
        "# Inclure la surface du terrain True ou False\n",
        "surface_terrain = True\n",
        "\n",
        "# Nombre de mois pour l'entraînement et le test (train=80% test= 20%)\n",
        "# Exemple si 15 mois environ 12 mois pour l'entraînement et 3 mois pour le test\n",
        "# Mettre None pour utiliser toutes les données disponible\n",
        "nb_mois=15\n",
        "\n",
        "#*******************************************************************************\n",
        "#*******************  Pour ajouter d'autres variables :  ***********************\n",
        "#*********  modifier la requête dans la fonction construction_requete() ********\n",
        "#*******************************************************************************\n",
        "\n",
        "#//////////////////////////////////////////////////////////////////////////////\n",
        "#                       Configuration de XGBoost avec GridSearchCV\n",
        "#//////////////////////////////////////////////////////////////////////////////\n",
        "param_grid = {\n",
        "    'n_estimators': [100,150],\n",
        "    'max_depth': [10],\n",
        "    'learning_rate': [0.1],\n",
        "    'min_child_weight': [1,3,5],\n",
        "    'alpha' : [0.5], \n",
        "    'lambda' : [0.5]\n",
        "}\n",
        "cv=5\n",
        "\n",
        "#//////////////////////////////////////////////////////////////////////////////\n",
        "#                       Configuration de mlfow\n",
        "#//////////////////////////////////////////////////////////////////////////////\n",
        "# Configuration de mlflow\n",
        "uri_tracking = \"https://mlflowimmoappkevleg-737621d410d0.herokuapp.com/\"\n",
        "experiment_name = \"XGBoostRegressor\"\n",
        "\n",
        "# runs à effectuer all_datas 15months all_datas_surface_terrain 15months_surface_terrain)\n",
        "run_name = f\"{region}_{'Appartement_Maison' if len(type_de_bien)==0 else type_de_bien}\"\\\n",
        "     f\"_{nb_mois}months_GridSearch_GestionOutliers_{'oui' if gestion_outliers==True else 'non'}\"\\\n",
        "     f\"_{'' if surface_terrain==False else 'surface_terrain'}\"\n",
        "\n",
        "model_name = f\"XGB_{run_name}\""
      ]
    },
    {
      "cell_type": "markdown",
      "metadata": {
        "id": "WBT347OWywsW"
      },
      "source": [
        "<h2><span style=\"background-color:grey; color:white; padding: 5px;\">Création de la requête </span></h2>"
      ]
    },
    {
      "cell_type": "code",
      "execution_count": 3,
      "metadata": {
        "colab": {
          "base_uri": "https://localhost:8080/"
        },
        "id": "wXlehCIKyxdi",
        "outputId": "0e814338-69f0-4689-879f-24eaebd8192c"
      },
      "outputs": [
        {
          "name": "stdout",
          "output_type": "stream",
          "text": [
            "\n",
            "    # Table pour compter le nombre de ventes par commune\n",
            "    WITH nb_ventes_mini AS(\n",
            "    SELECT\n",
            "        ID_COMMUNE AS ID_COMMUNE,\n",
            "        count(*) nb_ventes_par_commune\n",
            "    FROM VENTES \n",
            "    WHERE DATE_MUTATION >= DATE_SUB((SELECT MAX(DATE_MUTATION) FROM VENTES), INTERVAL 15 MONTH)\n",
            "    GROUP BY ID_COMMUNE\n",
            "    )\n",
            "\n",
            "    # Selection des variables voulues pour l'entraînement du modèle\n",
            "    SELECT \n",
            "        V.SURFACE_BATI,\n",
            "        V.ID_COMMUNE,\n",
            "        V.DATE_MUTATION,\n",
            "        # T.NAME_TYPE_BIEN,\n",
            "        # R.Name_region,\n",
            "        V.SURFACE_TERRAIN,\n",
            "        V.MONTANT\n",
            "    FROM VENTES V\n",
            "    INNER JOIN TYPES_BIENS as T ON V.ID_TYPE_BIEN = T.ID_TYPE_BIEN\n",
            "    INNER JOIN COMMUNES AS C ON V.ID_COMMUNE = C.ID_COMMUNE\n",
            "    INNER JOIN DEPARTEMENTS AS D ON C.ID_DEPT = D.ID_DEPT\n",
            "    INNER JOIN REGIONS R ON D.ID_REGION = R.ID_REGION\n",
            "    WHERE R.Name_region NOT IN('Martinique', 'Guyane', 'La Réunion', 'Mayotte', 'Guadeloupe')  AND V.DATE_MUTATION >= DATE_SUB((SELECT MAX(DATE_MUTATION) FROM VENTES), INTERVAL 15 MONTH)\n",
            "    AND V.MONTANT>15000  AND V.MONTANT<6500000\n",
            "    AND V.SURFACE_BATI>0\n",
            "    AND V.NB_PIECES>0\n",
            "    AND V.ID_COMMUNE IN (\n",
            "        SELECT \n",
            "            ID_COMMUNE \n",
            "        FROM nb_ventes_mini \n",
            "        WHERE nb_ventes_par_commune>=10)\n",
            "    \n"
          ]
        }
      ],
      "source": [
        "where_clause, query = construcion_requete(region,\n",
        "                        type_de_bien,\n",
        "                        nb_ventes_mini,\n",
        "                        surface_terrain,\n",
        "                        nb_mois)\n",
        "print(query)"
      ]
    },
    {
      "cell_type": "markdown",
      "metadata": {
        "id": "UCaEZOuJy0HA"
      },
      "source": [
        "<h2><span style=\"background-color:grey; color:white; padding: 5px;\">Chargement des données et suppression des outliers. </span></h2>"
      ]
    },
    {
      "cell_type": "code",
      "execution_count": 4,
      "metadata": {
        "colab": {
          "base_uri": "https://localhost:8080/",
          "height": 633
        },
        "id": "SZyCux9_y3YD",
        "outputId": "a75cc455-31a7-4377-ca8e-cc82756b45cb"
      },
      "outputs": [
        {
          "name": "stdout",
          "output_type": "stream",
          "text": [
            "Chargement des données en cours...\n",
            "Création engine sqlalchemy OK\n",
            "Chargement des données ok\n",
            "Il y a 15974 communes avec plus de 10 ventes avant suppression des outliers, pour un total de 1136745 ventes\n",
            "Chargement des données en cours...\n",
            "Création engine sqlalchemy OK\n",
            "Chargement des données ok\n"
          ]
        },
        {
          "data": {
            "text/html": [
              "<div>\n",
              "<style scoped>\n",
              "    .dataframe tbody tr th:only-of-type {\n",
              "        vertical-align: middle;\n",
              "    }\n",
              "\n",
              "    .dataframe tbody tr th {\n",
              "        vertical-align: top;\n",
              "    }\n",
              "\n",
              "    .dataframe thead th {\n",
              "        text-align: right;\n",
              "    }\n",
              "</style>\n",
              "<table border=\"1\" class=\"dataframe\">\n",
              "  <thead>\n",
              "    <tr style=\"text-align: right;\">\n",
              "      <th></th>\n",
              "      <th>ID_COMMUNE</th>\n",
              "      <th>nb_outliers</th>\n",
              "      <th>total_ventes</th>\n",
              "      <th>ventes_restantes</th>\n",
              "      <th>NAME_COMMUNE</th>\n",
              "      <th>pourcentage_ventes_retirees</th>\n",
              "    </tr>\n",
              "  </thead>\n",
              "  <tbody>\n",
              "    <tr>\n",
              "      <th>0</th>\n",
              "      <td>33063</td>\n",
              "      <td>1191</td>\n",
              "      <td>7180</td>\n",
              "      <td>5989</td>\n",
              "      <td>Bordeaux</td>\n",
              "      <td>16.59</td>\n",
              "    </tr>\n",
              "    <tr>\n",
              "      <th>1</th>\n",
              "      <td>06088</td>\n",
              "      <td>1112</td>\n",
              "      <td>11905</td>\n",
              "      <td>10793</td>\n",
              "      <td>Nice</td>\n",
              "      <td>9.34</td>\n",
              "    </tr>\n",
              "    <tr>\n",
              "      <th>2</th>\n",
              "      <td>92051</td>\n",
              "      <td>1014</td>\n",
              "      <td>1424</td>\n",
              "      <td>410</td>\n",
              "      <td>Neuilly-sur-Seine</td>\n",
              "      <td>71.21</td>\n",
              "    </tr>\n",
              "    <tr>\n",
              "      <th>3</th>\n",
              "      <td>92012</td>\n",
              "      <td>1001</td>\n",
              "      <td>2520</td>\n",
              "      <td>1519</td>\n",
              "      <td>Boulogne-Billancourt</td>\n",
              "      <td>39.72</td>\n",
              "    </tr>\n",
              "    <tr>\n",
              "      <th>4</th>\n",
              "      <td>06029</td>\n",
              "      <td>825</td>\n",
              "      <td>4191</td>\n",
              "      <td>3366</td>\n",
              "      <td>Cannes</td>\n",
              "      <td>19.69</td>\n",
              "    </tr>\n",
              "    <tr>\n",
              "      <th>5</th>\n",
              "      <td>44109</td>\n",
              "      <td>736</td>\n",
              "      <td>8072</td>\n",
              "      <td>7336</td>\n",
              "      <td>Nantes</td>\n",
              "      <td>9.12</td>\n",
              "    </tr>\n",
              "    <tr>\n",
              "      <th>6</th>\n",
              "      <td>31555</td>\n",
              "      <td>731</td>\n",
              "      <td>12217</td>\n",
              "      <td>11486</td>\n",
              "      <td>Toulouse</td>\n",
              "      <td>5.98</td>\n",
              "    </tr>\n",
              "    <tr>\n",
              "      <th>7</th>\n",
              "      <td>92044</td>\n",
              "      <td>628</td>\n",
              "      <td>1535</td>\n",
              "      <td>907</td>\n",
              "      <td>Levallois-Perret</td>\n",
              "      <td>40.91</td>\n",
              "    </tr>\n",
              "    <tr>\n",
              "      <th>8</th>\n",
              "      <td>78646</td>\n",
              "      <td>600</td>\n",
              "      <td>1488</td>\n",
              "      <td>888</td>\n",
              "      <td>Versailles</td>\n",
              "      <td>40.32</td>\n",
              "    </tr>\n",
              "    <tr>\n",
              "      <th>9</th>\n",
              "      <td>94068</td>\n",
              "      <td>530</td>\n",
              "      <td>1658</td>\n",
              "      <td>1128</td>\n",
              "      <td>Saint-Maur-des-Fossés</td>\n",
              "      <td>31.97</td>\n",
              "    </tr>\n",
              "  </tbody>\n",
              "</table>\n",
              "</div>"
            ],
            "text/plain": [
              "  ID_COMMUNE  nb_outliers  total_ventes  ventes_restantes  \\\n",
              "0      33063         1191          7180              5989   \n",
              "1      06088         1112         11905             10793   \n",
              "2      92051         1014          1424               410   \n",
              "3      92012         1001          2520              1519   \n",
              "4      06029          825          4191              3366   \n",
              "5      44109          736          8072              7336   \n",
              "6      31555          731         12217             11486   \n",
              "7      92044          628          1535               907   \n",
              "8      78646          600          1488               888   \n",
              "9      94068          530          1658              1128   \n",
              "\n",
              "            NAME_COMMUNE  pourcentage_ventes_retirees  \n",
              "0               Bordeaux                        16.59  \n",
              "1                   Nice                         9.34  \n",
              "2      Neuilly-sur-Seine                        71.21  \n",
              "3   Boulogne-Billancourt                        39.72  \n",
              "4                 Cannes                        19.69  \n",
              "5                 Nantes                         9.12  \n",
              "6               Toulouse                         5.98  \n",
              "7       Levallois-Perret                        40.91  \n",
              "8             Versailles                        40.32  \n",
              "9  Saint-Maur-des-Fossés                        31.97  "
            ]
          },
          "metadata": {},
          "output_type": "display_data"
        },
        {
          "name": "stdout",
          "output_type": "stream",
          "text": [
            "Nombre d'outliers : 69255\n",
            "Nombre de commune avec des outliers : 6317\n",
            "Nombre de communes contenant des outliers et pour lesquels ilreste plus de 10 ventes après suppression des outliers : 5190\n",
            "Nombre de communes avec plus de 30% de ventes retirées : 607\n",
            "Nombre de communes qui seront retirées : 1404\n",
            "Nombre de ventes restantes après suppression des outlier et après filtrage : 1039908\n",
            "Il y a donc eu 8.52% de lignes supprimées après filtrage\n"
          ]
        }
      ],
      "source": [
        "df = loading_data(query)\n",
        "\n",
        "if gestion_outliers==True:\n",
        "    df=filtrage(df,tx_filtrage,where_clause)"
      ]
    },
    {
      "cell_type": "markdown",
      "metadata": {
        "id": "Ym0Vmg6Ay6Gj"
      },
      "source": [
        "<h2><span style=\"background-color:grey; color:white; padding: 5px;\">Entraînement du modèle et stockage des données avec MLflow. </span></h2>"
      ]
    },
    {
      "cell_type": "code",
      "execution_count": 5,
      "metadata": {
        "colab": {
          "base_uri": "https://localhost:8080/",
          "height": 1000
        },
        "id": "kCOJo1rry960",
        "outputId": "5b731c93-50ec-4669-ee04-50573779aed1"
      },
      "outputs": [
        {
          "name": "stdout",
          "output_type": "stream",
          "text": [
            "Split des données en cours...\n"
          ]
        },
        {
          "name": "stderr",
          "output_type": "stream",
          "text": [
            "/home/kevin/workspace/PCO/certif_app_immo/model/functions2.py:182: SettingWithCopyWarning: \n",
            "A value is trying to be set on a copy of a slice from a DataFrame.\n",
            "Try using .loc[row_indexer,col_indexer] = value instead\n",
            "\n",
            "See the caveats in the documentation: https://pandas.pydata.org/pandas-docs/stable/user_guide/indexing.html#returning-a-view-versus-a-copy\n",
            "  df_train['M2'] = df_train['MONTANT'] / df_train['SURFACE_BATI']\n"
          ]
        },
        {
          "name": "stdout",
          "output_type": "stream",
          "text": [
            "Split OK\n",
            "Normalisation des données en cours...\n",
            "Normalisation des données OK\n",
            "Entraînement en cours ...\n",
            "Fitting 5 folds for each of 6 candidates, totalling 30 fits\n",
            "[CV] END learning_rate=0.1, max_depth=10, min_child_weight=1, n_estimators=100; total time=   8.0s\n",
            "[CV] END learning_rate=0.1, max_depth=10, min_child_weight=1, n_estimators=100; total time=   6.1s\n",
            "[CV] END learning_rate=0.1, max_depth=10, min_child_weight=1, n_estimators=100; total time=  10.0s\n",
            "[CV] END learning_rate=0.1, max_depth=10, min_child_weight=1, n_estimators=100; total time=   5.7s\n",
            "[CV] END learning_rate=0.1, max_depth=10, min_child_weight=1, n_estimators=100; total time=   5.6s\n",
            "[CV] END learning_rate=0.1, max_depth=10, min_child_weight=1, n_estimators=150; total time=  11.6s\n",
            "[CV] END learning_rate=0.1, max_depth=10, min_child_weight=1, n_estimators=150; total time=   8.4s\n",
            "[CV] END learning_rate=0.1, max_depth=10, min_child_weight=1, n_estimators=150; total time=   7.8s\n",
            "[CV] END learning_rate=0.1, max_depth=10, min_child_weight=1, n_estimators=150; total time=   8.2s\n",
            "[CV] END learning_rate=0.1, max_depth=10, min_child_weight=1, n_estimators=150; total time=   8.2s\n",
            "[CV] END learning_rate=0.1, max_depth=10, min_child_weight=3, n_estimators=100; total time=   8.3s\n",
            "[CV] END learning_rate=0.1, max_depth=10, min_child_weight=3, n_estimators=100; total time=   5.8s\n",
            "[CV] END learning_rate=0.1, max_depth=10, min_child_weight=3, n_estimators=100; total time=   5.6s\n",
            "[CV] END learning_rate=0.1, max_depth=10, min_child_weight=3, n_estimators=100; total time=   7.4s\n",
            "[CV] END learning_rate=0.1, max_depth=10, min_child_weight=3, n_estimators=100; total time=   5.6s\n",
            "[CV] END learning_rate=0.1, max_depth=10, min_child_weight=3, n_estimators=150; total time=   8.1s\n",
            "[CV] END learning_rate=0.1, max_depth=10, min_child_weight=3, n_estimators=150; total time=   7.9s\n",
            "[CV] END learning_rate=0.1, max_depth=10, min_child_weight=3, n_estimators=150; total time=   8.1s\n",
            "[CV] END learning_rate=0.1, max_depth=10, min_child_weight=3, n_estimators=150; total time=   7.8s\n",
            "[CV] END learning_rate=0.1, max_depth=10, min_child_weight=3, n_estimators=150; total time=   9.4s\n",
            "[CV] END learning_rate=0.1, max_depth=10, min_child_weight=5, n_estimators=100; total time=   5.9s\n",
            "[CV] END learning_rate=0.1, max_depth=10, min_child_weight=5, n_estimators=100; total time=   5.6s\n",
            "[CV] END learning_rate=0.1, max_depth=10, min_child_weight=5, n_estimators=100; total time=   7.4s\n",
            "[CV] END learning_rate=0.1, max_depth=10, min_child_weight=5, n_estimators=100; total time=   5.7s\n",
            "[CV] END learning_rate=0.1, max_depth=10, min_child_weight=5, n_estimators=100; total time=   5.7s\n",
            "[CV] END learning_rate=0.1, max_depth=10, min_child_weight=5, n_estimators=150; total time=   7.9s\n",
            "[CV] END learning_rate=0.1, max_depth=10, min_child_weight=5, n_estimators=150; total time=   8.1s\n",
            "[CV] END learning_rate=0.1, max_depth=10, min_child_weight=5, n_estimators=150; total time=   7.9s\n",
            "[CV] END learning_rate=0.1, max_depth=10, min_child_weight=5, n_estimators=150; total time=   9.3s\n",
            "[CV] END learning_rate=0.1, max_depth=10, min_child_weight=5, n_estimators=150; total time=   7.9s\n"
          ]
        },
        {
          "data": {
            "text/html": [
              "<div>\n",
              "<style scoped>\n",
              "    .dataframe tbody tr th:only-of-type {\n",
              "        vertical-align: middle;\n",
              "    }\n",
              "\n",
              "    .dataframe tbody tr th {\n",
              "        vertical-align: top;\n",
              "    }\n",
              "\n",
              "    .dataframe thead th {\n",
              "        text-align: right;\n",
              "    }\n",
              "</style>\n",
              "<table border=\"1\" class=\"dataframe\">\n",
              "  <thead>\n",
              "    <tr style=\"text-align: right;\">\n",
              "      <th></th>\n",
              "      <th>mean_fit_time</th>\n",
              "      <th>std_fit_time</th>\n",
              "      <th>mean_score_time</th>\n",
              "      <th>std_score_time</th>\n",
              "      <th>param_learning_rate</th>\n",
              "      <th>param_max_depth</th>\n",
              "      <th>param_min_child_weight</th>\n",
              "      <th>param_n_estimators</th>\n",
              "      <th>params</th>\n",
              "      <th>split0_test_r2</th>\n",
              "      <th>split1_test_r2</th>\n",
              "      <th>split2_test_r2</th>\n",
              "      <th>split3_test_r2</th>\n",
              "      <th>split4_test_r2</th>\n",
              "      <th>mean_test_r2</th>\n",
              "      <th>std_test_r2</th>\n",
              "      <th>rank_test_r2</th>\n",
              "    </tr>\n",
              "  </thead>\n",
              "  <tbody>\n",
              "    <tr>\n",
              "      <th>0</th>\n",
              "      <td>6.668948</td>\n",
              "      <td>1.726693</td>\n",
              "      <td>0.431108</td>\n",
              "      <td>0.063454</td>\n",
              "      <td>0.1</td>\n",
              "      <td>10</td>\n",
              "      <td>1</td>\n",
              "      <td>100</td>\n",
              "      <td>{'learning_rate': 0.1, 'max_depth': 10, 'min_c...</td>\n",
              "      <td>0.667310</td>\n",
              "      <td>0.652273</td>\n",
              "      <td>0.664222</td>\n",
              "      <td>0.671400</td>\n",
              "      <td>0.638307</td>\n",
              "      <td>0.658702</td>\n",
              "      <td>0.012026</td>\n",
              "      <td>3</td>\n",
              "    </tr>\n",
              "    <tr>\n",
              "      <th>1</th>\n",
              "      <td>8.265655</td>\n",
              "      <td>1.427513</td>\n",
              "      <td>0.577217</td>\n",
              "      <td>0.137771</td>\n",
              "      <td>0.1</td>\n",
              "      <td>10</td>\n",
              "      <td>1</td>\n",
              "      <td>150</td>\n",
              "      <td>{'learning_rate': 0.1, 'max_depth': 10, 'min_c...</td>\n",
              "      <td>0.665732</td>\n",
              "      <td>0.650950</td>\n",
              "      <td>0.662886</td>\n",
              "      <td>0.669862</td>\n",
              "      <td>0.635765</td>\n",
              "      <td>0.657039</td>\n",
              "      <td>0.012360</td>\n",
              "      <td>6</td>\n",
              "    </tr>\n",
              "    <tr>\n",
              "      <th>2</th>\n",
              "      <td>6.189434</td>\n",
              "      <td>1.096707</td>\n",
              "      <td>0.358150</td>\n",
              "      <td>0.011593</td>\n",
              "      <td>0.1</td>\n",
              "      <td>10</td>\n",
              "      <td>3</td>\n",
              "      <td>100</td>\n",
              "      <td>{'learning_rate': 0.1, 'max_depth': 10, 'min_c...</td>\n",
              "      <td>0.667401</td>\n",
              "      <td>0.652638</td>\n",
              "      <td>0.664194</td>\n",
              "      <td>0.671452</td>\n",
              "      <td>0.638474</td>\n",
              "      <td>0.658832</td>\n",
              "      <td>0.011952</td>\n",
              "      <td>2</td>\n",
              "    </tr>\n",
              "    <tr>\n",
              "      <th>3</th>\n",
              "      <td>7.744713</td>\n",
              "      <td>0.563549</td>\n",
              "      <td>0.522839</td>\n",
              "      <td>0.016112</td>\n",
              "      <td>0.1</td>\n",
              "      <td>10</td>\n",
              "      <td>3</td>\n",
              "      <td>150</td>\n",
              "      <td>{'learning_rate': 0.1, 'max_depth': 10, 'min_c...</td>\n",
              "      <td>0.665701</td>\n",
              "      <td>0.651152</td>\n",
              "      <td>0.663046</td>\n",
              "      <td>0.669692</td>\n",
              "      <td>0.635870</td>\n",
              "      <td>0.657092</td>\n",
              "      <td>0.012280</td>\n",
              "      <td>5</td>\n",
              "    </tr>\n",
              "    <tr>\n",
              "      <th>4</th>\n",
              "      <td>5.709160</td>\n",
              "      <td>0.694415</td>\n",
              "      <td>0.378101</td>\n",
              "      <td>0.039919</td>\n",
              "      <td>0.1</td>\n",
              "      <td>10</td>\n",
              "      <td>5</td>\n",
              "      <td>100</td>\n",
              "      <td>{'learning_rate': 0.1, 'max_depth': 10, 'min_c...</td>\n",
              "      <td>0.667898</td>\n",
              "      <td>0.652783</td>\n",
              "      <td>0.664527</td>\n",
              "      <td>0.671745</td>\n",
              "      <td>0.638614</td>\n",
              "      <td>0.659113</td>\n",
              "      <td>0.012053</td>\n",
              "      <td>1</td>\n",
              "    </tr>\n",
              "  </tbody>\n",
              "</table>\n",
              "</div>"
            ],
            "text/plain": [
              "   mean_fit_time  std_fit_time  mean_score_time  std_score_time  \\\n",
              "0       6.668948      1.726693         0.431108        0.063454   \n",
              "1       8.265655      1.427513         0.577217        0.137771   \n",
              "2       6.189434      1.096707         0.358150        0.011593   \n",
              "3       7.744713      0.563549         0.522839        0.016112   \n",
              "4       5.709160      0.694415         0.378101        0.039919   \n",
              "\n",
              "  param_learning_rate param_max_depth param_min_child_weight  \\\n",
              "0                 0.1              10                      1   \n",
              "1                 0.1              10                      1   \n",
              "2                 0.1              10                      3   \n",
              "3                 0.1              10                      3   \n",
              "4                 0.1              10                      5   \n",
              "\n",
              "  param_n_estimators                                             params  \\\n",
              "0                100  {'learning_rate': 0.1, 'max_depth': 10, 'min_c...   \n",
              "1                150  {'learning_rate': 0.1, 'max_depth': 10, 'min_c...   \n",
              "2                100  {'learning_rate': 0.1, 'max_depth': 10, 'min_c...   \n",
              "3                150  {'learning_rate': 0.1, 'max_depth': 10, 'min_c...   \n",
              "4                100  {'learning_rate': 0.1, 'max_depth': 10, 'min_c...   \n",
              "\n",
              "   split0_test_r2  split1_test_r2  split2_test_r2  split3_test_r2  \\\n",
              "0        0.667310        0.652273        0.664222        0.671400   \n",
              "1        0.665732        0.650950        0.662886        0.669862   \n",
              "2        0.667401        0.652638        0.664194        0.671452   \n",
              "3        0.665701        0.651152        0.663046        0.669692   \n",
              "4        0.667898        0.652783        0.664527        0.671745   \n",
              "\n",
              "   split4_test_r2  mean_test_r2  std_test_r2  rank_test_r2  \n",
              "0        0.638307      0.658702     0.012026             3  \n",
              "1        0.635765      0.657039     0.012360             6  \n",
              "2        0.638474      0.658832     0.011952             2  \n",
              "3        0.635870      0.657092     0.012280             5  \n",
              "4        0.638614      0.659113     0.012053             1  "
            ]
          },
          "metadata": {},
          "output_type": "display_data"
        },
        {
          "name": "stdout",
          "output_type": "stream",
          "text": [
            "Ré-entraînement avec les meilleurs hyperparamètres en cours...\n"
          ]
        },
        {
          "data": {
            "image/png": "[encoded data removed]",
            "text/plain": [
              "<Figure size 1000x600 with 1 Axes>"
            ]
          },
          "metadata": {},
          "output_type": "display_data"
        },
        {
          "data": {
            "image/png": "[encoded data removed]",
            "text/plain": [
              "<Figure size 1000x600 with 1 Axes>"
            ]
          },
          "metadata": {},
          "output_type": "display_data"
        },
        {
          "name": "stdout",
          "output_type": "stream",
          "text": [
            "Entraînement OK\n",
            "Log du modèle et des artifacts en cours...\n"
          ]
        },
        {
          "name": "stderr",
          "output_type": "stream",
          "text": [
            "Successfully registered model 'XGB__Appartement_Maison_15months_GridSearch_GestionOutliers_oui_surface_terrain'.\n",
            "2024/02/18 02:35:50 INFO mlflow.store.model_registry.abstract_store: Waiting up to 300 seconds for model version to finish creation. Model name: XGB__Appartement_Maison_15months_GridSearch_GestionOutliers_oui_surface_terrain, version 1\n",
            "Created version '1' of model 'XGB__Appartement_Maison_15months_GridSearch_GestionOutliers_oui_surface_terrain'.\n"
          ]
        }
      ],
      "source": [
        "X_train,y_train, X_test, y_test = split_with_m2(df)\n",
        "\n",
        "X_train,X_test,encoders,scalers =  encod_scal(X_train,X_test)\n",
        "\n",
        "model, best_params, features_importances, learning_curve = train_model_xgboost(X_train,y_train,X_test,y_test, param_grid, cv)\n",
        "\n",
        "# Tracé et enregistrement du graphique permettant de savoir si le modèle contient suffisamment de données.\n",
        "# validation_curve = plot_validation_curve(RandomForestRegressor(**best_params), run_name, X_train, y_train)\n",
        "\n",
        "param_mlflow(uri_tracking=uri_tracking,\n",
        "        experiment_name=experiment_name, run_name=run_name,\n",
        "        best_params=best_params,\n",
        "        model=model, model_name=model_name,\n",
        "        X_test=X_test, y_test=y_test,\n",
        "        encoders=encoders,scalers=scalers,\n",
        "        images = [features_importances, learning_curve]).log_mlflow()"
      ]
    }
  ],
  "metadata": {
    "accelerator": "GPU",
    "colab": {
      "gpuType": "T4",
      "provenance": []
    },
    "kernelspec": {
      "display_name": "Python 3",
      "name": "python3"
    },
    "language_info": {
      "codemirror_mode": {
        "name": "ipython",
        "version": 3
      },
      "file_extension": ".py",
      "mimetype": "text/x-python",
      "name": "python",
      "nbconvert_exporter": "python",
      "pygments_lexer": "ipython3",
      "version": "3.8.10"
    }
  },
  "nbformat": 4,
  "nbformat_minor": 0
}
