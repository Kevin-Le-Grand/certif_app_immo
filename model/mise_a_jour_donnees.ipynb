{
 "cells": [
  {
   "cell_type": "markdown",
   "metadata": {},
   "source": [
    "<h1><span style=\"background-color:blue; color:white; padding: 5px;\">Notebook à executer lorsqu'il y a de nouvelles données disponible sur data.gouv.fr<br></h1>"
   ]
  },
  {
   "cell_type": "markdown",
   "metadata": {},
   "source": [
    "<h2><span style=\"background-color:grey; color:white; padding: 5px;\">Récupération des données disponible<br></h2>"
   ]
  },
  {
   "cell_type": "code",
   "execution_count": null,
   "metadata": {},
   "outputs": [],
   "source": [
    "# Récupérer la date dans une variable + les données dans un dataframe"
   ]
  },
  {
   "cell_type": "markdown",
   "metadata": {},
   "source": [
    "<h2><span style=\"background-color:grey; color:white; padding: 5px;\">Nettoyage des données<br></h2>"
   ]
  },
  {
   "cell_type": "code",
   "execution_count": null,
   "metadata": {},
   "outputs": [],
   "source": [
    "# Utiliser la même méthode que dans la première insertion de données effectuée dans la branche datagouv"
   ]
  },
  {
   "cell_type": "markdown",
   "metadata": {},
   "source": [
    "<h2><span style=\"background-color:grey; color:white; padding: 5px;\">Insertion des données<br></h2>"
   ]
  },
  {
   "cell_type": "code",
   "execution_count": null,
   "metadata": {},
   "outputs": [],
   "source": [
    "# Récupérer la date la plus ancienne du dataframe\n",
    "# Supprimer dans la bdd les données supérieure ou égale à la date stockée dans la variable du point1\n",
    "# Insérer les données"
   ]
  },
  {
   "cell_type": "markdown",
   "metadata": {},
   "source": [
    "<h2><span style=\"background-color:grey; color:white; padding: 5px;\">Entraînement d'un modèle<br></h2>"
   ]
  },
  {
   "cell_type": "code",
   "execution_count": null,
   "metadata": {},
   "outputs": [],
   "source": [
    "# Se baser sur les modèles créé dans mlflow et entraîner un modèle sur les mêmes paramètres\n",
    "# Enregistrer dans mlflow, experiment : prod_{date_du_jour}"
   ]
  },
  {
   "cell_type": "markdown",
   "metadata": {},
   "source": [
    "<h2><span style=\"background-color:grey; color:white; padding: 5px;\">Créer un csv pour être utilisé dans streamlit<br></h2>"
   ]
  },
  {
   "cell_type": "code",
   "execution_count": null,
   "metadata": {},
   "outputs": [],
   "source": [
    "# Pour éviter de trop requêter sur rds mais aussi avoir une execution rapide de l'application.\n",
    "# Récupérer les données Region, département, communes, prix_M²/mois sur la dernière année ou \n",
    "# les deux dernières années suivant le modèle utilisé et par type de bien"
   ]
  },
  {
   "cell_type": "markdown",
   "metadata": {},
   "source": [
    "<h2><span style=\"background-color:grey; color:white; padding: 5px;\">Transformation du dataframe en csv et stockage dans AWS s3<br></h2>"
   ]
  },
  {
   "cell_type": "code",
   "execution_count": null,
   "metadata": {},
   "outputs": [],
   "source": []
  }
 ],
 "metadata": {
  "language_info": {
   "name": "python"
  }
 },
 "nbformat": 4,
 "nbformat_minor": 2
}
