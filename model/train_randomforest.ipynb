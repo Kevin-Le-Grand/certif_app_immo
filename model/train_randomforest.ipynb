{
 "cells": [
  {
   "cell_type": "markdown",
   "metadata": {},
   "source": [
    "<h1><span style=\"background-color:blue; color:white; padding: 5px;\">Entrainment de modèles avec RandomForest Regressor<br></h1>\n",
    "</h4><span style=\"background-color:red; color:white; padding: 5px;\">Utiliser un outil permettant de rafraîchir la page régulièrement pour éviter la mise en sommeil de MLflow sur Heroku\n",
    "</span></h4>"
   ]
  },
  {
   "cell_type": "code",
   "execution_count": 11,
   "metadata": {},
   "outputs": [],
   "source": [
    "import pandas as pd\n",
    "from functions2 import *"
   ]
  },
  {
   "cell_type": "markdown",
   "metadata": {},
   "source": [
    "<h2><span style=\"background-color:grey; color:white; padding: 5px;\">Choix des paramètres pour l'entraînement, le stockage sur MLflow et des données à récupérer.</span></h2>"
   ]
  },
  {
   "cell_type": "code",
   "execution_count": 46,
   "metadata": {},
   "outputs": [],
   "source": [
    "# Configuration du modèle\n",
    "param_grid = {\n",
    "    'n_estimators': [50,100],\n",
    "    'max_depth': [10],\n",
    "    'min_samples_split': [2]\n",
    "    }   \n",
    "cv=5\n",
    "\n",
    "# Suppression des outliers\n",
    "supp_outliers=True\n",
    "\n",
    "# Configuration de mlflow\n",
    "uri_tracking = \"https://mlflowimmoappkevleg-737621d410d0.herokuapp.com/\"\n",
    "experiment_name = \"RandomForestRegressor\"\n",
    "\n",
    "# runs à effectuer all_datas 15months all_datas_surface_terrain 15months_surface_terrain)\n",
    "run_name = \"15months_GridSearch_no_outliers_surface_terrain\"\n",
    "model_name = f\"RFR_{run_name}\"\n",
    "\n",
    "# Les filtres de la requête permettent de filtrer les valeurs aberrantes vu dans l'EDA\n",
    "# et de choisir la plage de données voulu ainsi que les variables\n",
    "query=f\"\"\"\n",
    "SELECT \n",
    "    V.SURFACE_BATI,\n",
    "    V.ID_COMMUNE,\n",
    "    V.DATE_MUTATION,\n",
    "    V.SURFACE_TERRAIN,\n",
    "    V.MONTANT\n",
    "FROM VENTES V\n",
    "INNER JOIN TYPES_BIENS as T ON V.ID_TYPE_BIEN = T.ID_TYPE_BIEN\n",
    "INNER JOIN COMMUNES AS C ON V.ID_COMMUNE = C.ID_COMMUNE\n",
    "INNER JOIN DEPARTEMENTS AS D ON C.ID_DEPT = D.ID_DEPT\n",
    "INNER JOIN REGIONS R ON D.ID_REGION = R.ID_REGION\n",
    "WHERE V.MONTANT>15000  AND V.MONTANT<6500000\n",
    "AND V.SURFACE_BATI>0\n",
    "AND V.NB_PIECES>0\n",
    "AND V.DATE_MUTATION >= DATE_SUB((SELECT MAX(DATE_MUTATION) FROM VENTES), INTERVAL 15 MONTH)\n",
    "AND R.Name_region NOT IN(\"Martinique\", \"Guyane\", \"La Réunion\", \"Mayotte\", \"Guadeloupe\");\n",
    "\"\"\""
   ]
  },
  {
   "cell_type": "markdown",
   "metadata": {},
   "source": [
    "<h2><span style=\"background-color:grey; color:white; padding: 5px;\">Chargement des données et suppression des outliers. </span></h2>"
   ]
  },
  {
   "cell_type": "code",
   "execution_count": 47,
   "metadata": {},
   "outputs": [
    {
     "name": "stdout",
     "output_type": "stream",
     "text": [
      "Chargement des données en cours...\n",
      "Création engine sqlalchemy OK\n",
      "Chargement des données ok\n",
      "Nombre de ligne avant suppression : 1205218\n",
      "Nombre de communes avant suppression : 31749\n",
      "Nombre de lignes aberrentes : 70346\n",
      "Pourcentage de lignes exclues :5.84%\n",
      "Nombre de communes après suppression : 31749\n",
      "Nombre de communes ayant disparues : 50\n",
      "Liste des id communes qui ont disparues : ['14743', '24279', '66170', '27330', '83020', '14238', '77518', '21616', '31440', '90016', '24230', '2A197', '24383', '2B231', '41118', '47009', '37190', '32450', '82078', '82175', '60097', '84109', '69212', '39280', '14019', '65107', '09153', '32194', '33210', '14180', '14601', '55195', '31029', '37071', '81006', '33411', '65088', '78406', '78518', '34266', '78620', '09117', '26127', '77452', '13090', '14448', '73299', '82064', '80115', '11204']\n",
      "Nombre de lignes dupliquées : 112\n"
     ]
    }
   ],
   "source": [
    "df = loading_data(query)\n",
    "\n",
    "#///////////////////////////////////////////////////////////////////////////////\n",
    "#               Calcul de la limite haute pour enlever les outliers\n",
    "#///////////////////////////////////////////////////////////////////////////////\n",
    "if supp_outliers==True :\n",
    "    q1 = np.percentile(df[\"MONTANT\"], 25)  # Premier quartile (25e percentile)\n",
    "    q3 = np.percentile(df[\"MONTANT\"], 75)  # Troisième quartile (75e percentile)\n",
    "    iqr = q3 - q1  # Intervalle interquartile\n",
    "    # Calcul de la limite supérieure des moustaches\n",
    "    whisker_upper = q3 + 1.5 * iqr\n",
    "    # Calcul du nombre de lignes retirées et statistiques\n",
    "    nb_lignes=df.shape[0]\n",
    "    nb_sup_moustache = df.loc[df.MONTANT>whisker_upper,:].shape[0]\n",
    "    print(f\"Nombre de ligne avant suppression : {nb_lignes}\")\n",
    "    avant = df.ID_COMMUNE.unique()\n",
    "    print(f\"Nombre de communes avant suppression : {len(avant)}\")    \n",
    "    print(f\"Nombre de lignes aberrentes : {nb_sup_moustache}\")\n",
    "    print(f\"Pourcentage de lignes exclues :{round(nb_sup_moustache*100/nb_lignes,2)}%\")\n",
    "    print(f\"Nombre de communes après suppression : {df.ID_COMMUNE.nunique()}\")\n",
    "    # Suppression des lignes\n",
    "    df = df.loc[df.MONTANT<=whisker_upper,:]\n",
    "    apres = df.ID_COMMUNE.unique()\n",
    "    print(f\"Nombre de communes ayant disparues : {len(avant)-len(apres)}\")\n",
    "    print(f\"Liste des id communes qui ont disparues : {list(set(avant) ^ set(apres))}\")\n",
    "\n",
    "dupliquees = df.duplicated().sum()\n",
    "print(f\"Nombre de lignes dupliquées : {dupliquees}\")\n",
    "df = df.drop_duplicates()"
   ]
  },
  {
   "cell_type": "markdown",
   "metadata": {},
   "source": [
    "<h2><span style=\"background-color:grey; color:white; padding: 5px;\">Entraînement du modèle et stockage des données avec MLflow. </span></h2>"
   ]
  },
  {
   "cell_type": "code",
   "execution_count": 48,
   "metadata": {},
   "outputs": [
    {
     "name": "stdout",
     "output_type": "stream",
     "text": [
      "Split des données en cours...\n"
     ]
    },
    {
     "name": "stderr",
     "output_type": "stream",
     "text": [
      "/home/kevin/workspace/PCO/certif_app_immo/model/functions2.py:123: SettingWithCopyWarning: \n",
      "A value is trying to be set on a copy of a slice from a DataFrame.\n",
      "Try using .loc[row_indexer,col_indexer] = value instead\n",
      "\n",
      "See the caveats in the documentation: https://pandas.pydata.org/pandas-docs/stable/user_guide/indexing.html#returning-a-view-versus-a-copy\n",
      "  # Calcul du prix au m² par commune dans df_train puis ajout dans df_test\n"
     ]
    },
    {
     "name": "stdout",
     "output_type": "stream",
     "text": [
      "Split OK\n",
      "Normalisation des données en cours...\n",
      "Normalisation des données OK\n",
      "Entraînement en cours ...\n",
      "Fitting 5 folds for each of 2 candidates, totalling 10 fits\n",
      "[CV] END .max_depth=10, min_samples_split=2, n_estimators=50; total time= 1.2min\n",
      "[CV] END .max_depth=10, min_samples_split=2, n_estimators=50; total time= 1.2min\n",
      "[CV] END .max_depth=10, min_samples_split=2, n_estimators=50; total time= 1.3min\n",
      "[CV] END .max_depth=10, min_samples_split=2, n_estimators=50; total time= 1.2min\n",
      "[CV] END .max_depth=10, min_samples_split=2, n_estimators=50; total time= 1.3min\n",
      "[CV] END max_depth=10, min_samples_split=2, n_estimators=100; total time= 2.9min\n",
      "[CV] END max_depth=10, min_samples_split=2, n_estimators=100; total time= 2.7min\n",
      "[CV] END max_depth=10, min_samples_split=2, n_estimators=100; total time= 2.6min\n",
      "[CV] END max_depth=10, min_samples_split=2, n_estimators=100; total time= 2.7min\n",
      "[CV] END max_depth=10, min_samples_split=2, n_estimators=100; total time= 2.7min\n"
     ]
    },
    {
     "name": "stderr",
     "output_type": "stream",
     "text": [
      "2024/02/15 16:42:14 WARNING mlflow.utils.autologging_utils: Encountered unexpected error during sklearn autologging: INVALID_PARAMETER_VALUE: The experiment 0 must be in the 'active' state. Current state is deleted.\n"
     ]
    },
    {
     "data": {
      "text/html": [
       "<div>\n",
       "<style scoped>\n",
       "    .dataframe tbody tr th:only-of-type {\n",
       "        vertical-align: middle;\n",
       "    }\n",
       "\n",
       "    .dataframe tbody tr th {\n",
       "        vertical-align: top;\n",
       "    }\n",
       "\n",
       "    .dataframe thead th {\n",
       "        text-align: right;\n",
       "    }\n",
       "</style>\n",
       "<table border=\"1\" class=\"dataframe\">\n",
       "  <thead>\n",
       "    <tr style=\"text-align: right;\">\n",
       "      <th></th>\n",
       "      <th>mean_fit_time</th>\n",
       "      <th>std_fit_time</th>\n",
       "      <th>mean_score_time</th>\n",
       "      <th>std_score_time</th>\n",
       "      <th>param_max_depth</th>\n",
       "      <th>param_min_samples_split</th>\n",
       "      <th>param_n_estimators</th>\n",
       "      <th>params</th>\n",
       "      <th>split0_test_mae</th>\n",
       "      <th>split1_test_mae</th>\n",
       "      <th>...</th>\n",
       "      <th>std_test_mae</th>\n",
       "      <th>rank_test_mae</th>\n",
       "      <th>split0_test_r2</th>\n",
       "      <th>split1_test_r2</th>\n",
       "      <th>split2_test_r2</th>\n",
       "      <th>split3_test_r2</th>\n",
       "      <th>split4_test_r2</th>\n",
       "      <th>mean_test_r2</th>\n",
       "      <th>std_test_r2</th>\n",
       "      <th>rank_test_r2</th>\n",
       "    </tr>\n",
       "  </thead>\n",
       "  <tbody>\n",
       "    <tr>\n",
       "      <th>0</th>\n",
       "      <td>73.029618</td>\n",
       "      <td>3.292394</td>\n",
       "      <td>0.829471</td>\n",
       "      <td>0.149730</td>\n",
       "      <td>10</td>\n",
       "      <td>2</td>\n",
       "      <td>50</td>\n",
       "      <td>{'max_depth': 10, 'min_samples_split': 2, 'n_e...</td>\n",
       "      <td>-48537.815804</td>\n",
       "      <td>-45282.531296</td>\n",
       "      <td>...</td>\n",
       "      <td>1140.200999</td>\n",
       "      <td>2</td>\n",
       "      <td>0.665894</td>\n",
       "      <td>0.673614</td>\n",
       "      <td>0.678117</td>\n",
       "      <td>0.673269</td>\n",
       "      <td>0.645367</td>\n",
       "      <td>0.667252</td>\n",
       "      <td>0.011624</td>\n",
       "      <td>2</td>\n",
       "    </tr>\n",
       "    <tr>\n",
       "      <th>1</th>\n",
       "      <td>161.498855</td>\n",
       "      <td>7.217891</td>\n",
       "      <td>1.793764</td>\n",
       "      <td>0.293887</td>\n",
       "      <td>10</td>\n",
       "      <td>2</td>\n",
       "      <td>100</td>\n",
       "      <td>{'max_depth': 10, 'min_samples_split': 2, 'n_e...</td>\n",
       "      <td>-48519.813960</td>\n",
       "      <td>-45268.916862</td>\n",
       "      <td>...</td>\n",
       "      <td>1137.647289</td>\n",
       "      <td>1</td>\n",
       "      <td>0.666157</td>\n",
       "      <td>0.673717</td>\n",
       "      <td>0.678095</td>\n",
       "      <td>0.673325</td>\n",
       "      <td>0.645738</td>\n",
       "      <td>0.667406</td>\n",
       "      <td>0.011491</td>\n",
       "      <td>1</td>\n",
       "    </tr>\n",
       "  </tbody>\n",
       "</table>\n",
       "<p>2 rows × 24 columns</p>\n",
       "</div>"
      ],
      "text/plain": [
       "   mean_fit_time  std_fit_time  mean_score_time  std_score_time  \\\n",
       "0      73.029618      3.292394         0.829471        0.149730   \n",
       "1     161.498855      7.217891         1.793764        0.293887   \n",
       "\n",
       "  param_max_depth param_min_samples_split param_n_estimators  \\\n",
       "0              10                       2                 50   \n",
       "1              10                       2                100   \n",
       "\n",
       "                                              params  split0_test_mae  \\\n",
       "0  {'max_depth': 10, 'min_samples_split': 2, 'n_e...    -48537.815804   \n",
       "1  {'max_depth': 10, 'min_samples_split': 2, 'n_e...    -48519.813960   \n",
       "\n",
       "   split1_test_mae  ...  std_test_mae  rank_test_mae  split0_test_r2  \\\n",
       "0    -45282.531296  ...   1140.200999              2        0.665894   \n",
       "1    -45268.916862  ...   1137.647289              1        0.666157   \n",
       "\n",
       "   split1_test_r2  split2_test_r2  split3_test_r2  split4_test_r2  \\\n",
       "0        0.673614        0.678117        0.673269        0.645367   \n",
       "1        0.673717        0.678095        0.673325        0.645738   \n",
       "\n",
       "   mean_test_r2  std_test_r2  rank_test_r2  \n",
       "0      0.667252     0.011624             2  \n",
       "1      0.667406     0.011491             1  \n",
       "\n",
       "[2 rows x 24 columns]"
      ]
     },
     "metadata": {},
     "output_type": "display_data"
    },
    {
     "name": "stdout",
     "output_type": "stream",
     "text": [
      "Ré-entraînement avec les meilleurs hyperparamètres en cours...\n"
     ]
    },
    {
     "name": "stderr",
     "output_type": "stream",
     "text": [
      "2024/02/15 16:45:39 WARNING mlflow.utils.autologging_utils: Encountered unexpected error during sklearn autologging: INVALID_PARAMETER_VALUE: The experiment 0 must be in the 'active' state. Current state is deleted.\n"
     ]
    },
    {
     "data": {
      "image/png": "[encoded data removed]",
      "text/plain": [
       "<Figure size 1000x600 with 1 Axes>"
      ]
     },
     "metadata": {},
     "output_type": "display_data"
    },
    {
     "name": "stdout",
     "output_type": "stream",
     "text": [
      "Entraînement OK\n",
      "Tracé du graphique en cours...\n"
     ]
    },
    {
     "name": "stderr",
     "output_type": "stream",
     "text": [
      "2024/02/15 16:45:59 WARNING mlflow.utils.autologging_utils: Encountered unexpected error during sklearn autologging: INVALID_PARAMETER_VALUE: The experiment 0 must be in the 'active' state. Current state is deleted.\n"
     ]
    },
    {
     "name": "stdout",
     "output_type": "stream",
     "text": [
      "Itération N°1 : train score = 0.7185866383372707 -- validation score = 0.6721876848978621\n"
     ]
    },
    {
     "name": "stderr",
     "output_type": "stream",
     "text": [
      "2024/02/15 16:46:38 WARNING mlflow.utils.autologging_utils: Encountered unexpected error during sklearn autologging: INVALID_PARAMETER_VALUE: The experiment 0 must be in the 'active' state. Current state is deleted.\n"
     ]
    },
    {
     "name": "stdout",
     "output_type": "stream",
     "text": [
      "Itération N°2 : train score = 0.7022128648941223 -- validation score = 0.6752130611347591\n"
     ]
    },
    {
     "name": "stderr",
     "output_type": "stream",
     "text": [
      "2024/02/15 16:47:38 WARNING mlflow.utils.autologging_utils: Encountered unexpected error during sklearn autologging: INVALID_PARAMETER_VALUE: The experiment 0 must be in the 'active' state. Current state is deleted.\n"
     ]
    },
    {
     "name": "stdout",
     "output_type": "stream",
     "text": [
      "Itération N°3 : train score = 0.6958722898959926 -- validation score = 0.6761828973861431\n"
     ]
    },
    {
     "name": "stderr",
     "output_type": "stream",
     "text": [
      "2024/02/15 16:49:02 WARNING mlflow.utils.autologging_utils: Encountered unexpected error during sklearn autologging: INVALID_PARAMETER_VALUE: The experiment 0 must be in the 'active' state. Current state is deleted.\n"
     ]
    },
    {
     "name": "stdout",
     "output_type": "stream",
     "text": [
      "Itération N°4 : train score = 0.6911263229156217 -- validation score = 0.67662309833297\n"
     ]
    },
    {
     "name": "stderr",
     "output_type": "stream",
     "text": [
      "2024/02/15 16:50:41 WARNING mlflow.utils.autologging_utils: Encountered unexpected error during sklearn autologging: INVALID_PARAMETER_VALUE: The experiment 0 must be in the 'active' state. Current state is deleted.\n"
     ]
    },
    {
     "name": "stdout",
     "output_type": "stream",
     "text": [
      "Itération N°5 : train score = 0.6898209189913909 -- validation score = 0.6768199730487159\n"
     ]
    },
    {
     "name": "stderr",
     "output_type": "stream",
     "text": [
      "2024/02/15 16:52:38 WARNING mlflow.utils.autologging_utils: Encountered unexpected error during sklearn autologging: INVALID_PARAMETER_VALUE: The experiment 0 must be in the 'active' state. Current state is deleted.\n"
     ]
    },
    {
     "name": "stdout",
     "output_type": "stream",
     "text": [
      "Itération N°6 : train score = 0.6883792925843119 -- validation score = 0.6771870877811852\n"
     ]
    },
    {
     "name": "stderr",
     "output_type": "stream",
     "text": [
      "2024/02/15 16:54:45 WARNING mlflow.utils.autologging_utils: Encountered unexpected error during sklearn autologging: INVALID_PARAMETER_VALUE: The experiment 0 must be in the 'active' state. Current state is deleted.\n"
     ]
    },
    {
     "name": "stdout",
     "output_type": "stream",
     "text": [
      "Itération N°7 : train score = 0.6867612153246911 -- validation score = 0.6774219346360477\n"
     ]
    },
    {
     "name": "stderr",
     "output_type": "stream",
     "text": [
      "2024/02/15 16:57:34 WARNING mlflow.utils.autologging_utils: Encountered unexpected error during sklearn autologging: INVALID_PARAMETER_VALUE: The experiment 0 must be in the 'active' state. Current state is deleted.\n"
     ]
    },
    {
     "name": "stdout",
     "output_type": "stream",
     "text": [
      "Itération N°8 : train score = 0.6857747397377483 -- validation score = 0.677387411569639\n"
     ]
    },
    {
     "name": "stderr",
     "output_type": "stream",
     "text": [
      "2024/02/15 17:00:37 WARNING mlflow.utils.autologging_utils: Encountered unexpected error during sklearn autologging: INVALID_PARAMETER_VALUE: The experiment 0 must be in the 'active' state. Current state is deleted.\n"
     ]
    },
    {
     "name": "stdout",
     "output_type": "stream",
     "text": [
      "Itération N°9 : train score = 0.6854429875540794 -- validation score = 0.6773889597367144\n"
     ]
    },
    {
     "name": "stderr",
     "output_type": "stream",
     "text": [
      "2024/02/15 17:03:53 WARNING mlflow.utils.autologging_utils: Encountered unexpected error during sklearn autologging: INVALID_PARAMETER_VALUE: The experiment 0 must be in the 'active' state. Current state is deleted.\n"
     ]
    },
    {
     "name": "stdout",
     "output_type": "stream",
     "text": [
      "Itération N°10 : train score = 0.6848240501485747 -- validation score = 0.6774246559825922\n"
     ]
    },
    {
     "data": {
      "image/png": "[encoded data removed]",
      "text/plain": [
       "<Figure size 1200x600 with 2 Axes>"
      ]
     },
     "metadata": {},
     "output_type": "display_data"
    },
    {
     "name": "stdout",
     "output_type": "stream",
     "text": [
      "Log du modèle et des artifacts en cours...\n"
     ]
    },
    {
     "name": "stderr",
     "output_type": "stream",
     "text": [
      "Successfully registered model 'RFR_15months_GridSearch_no_outliers_surface_terrain'.\n",
      "2024/02/15 17:04:25 INFO mlflow.store.model_registry.abstract_store: Waiting up to 300 seconds for model version to finish creation. Model name: RFR_15months_GridSearch_no_outliers_surface_terrain, version 1\n",
      "Created version '1' of model 'RFR_15months_GridSearch_no_outliers_surface_terrain'.\n"
     ]
    }
   ],
   "source": [
    "X_train,y_train, X_test, y_test = split_with_m2(df)\n",
    "\n",
    "X_train,X_test,encoders,scalers =  encod_scal(X_train,X_test)\n",
    "\n",
    "model, best_params, features_importances = train_model_randomforest(X_train,y_train, param_grid, cv)\n",
    "\n",
    "# Tracé et enregistrement de la learning curve\n",
    "learning_curve = plot_learning_curve(RandomForestRegressor(**best_params), run_name, X_train, y_train)\n",
    "\n",
    "param_mlflow(uri_tracking=uri_tracking,\n",
    "        experiment_name=experiment_name, run_name=run_name,\n",
    "        best_params=best_params,\n",
    "        model=model, model_name=model_name,\n",
    "        X_test=X_test, y_test=y_test,\n",
    "        encoders=encoders,scalers=scalers,\n",
    "        images = [learning_curve, features_importances]).log_mlflow()"
   ]
  },
  {
   "cell_type": "code",
   "execution_count": 22,
   "metadata": {},
   "outputs": [
    {
     "name": "stdout",
     "output_type": "stream",
     "text": [
      "Limite supérieure des moustaches : 551275.0\n"
     ]
    },
    {
     "data": {
      "image/png": "[encoded data removed]",
      "text/plain": [
       "<Figure size 640x480 with 1 Axes>"
      ]
     },
     "metadata": {},
     "output_type": "display_data"
    }
   ],
   "source": [
    "import matplotlib.pyplot as plt\n",
    "import seaborn as sns\n",
    "import numpy as np\n",
    "\n",
    "# Création des données fictives\n",
    "data = df\n",
    "\n",
    "# Création du boxplot avec Matplotlib\n",
    "plt.boxplot(data[\"MONTANT\"])\n",
    "\n",
    "# # Récupération des valeurs des traits de la boîte\n",
    "# for line in plt.gca().lines:\n",
    "#     x, y = line.get_xydata()[0]  # Point inférieur gauche de la ligne\n",
    "#     print(f\"Trait de la boîte : {x}, {y}\")\n",
    "\n",
    "# Calcul des statistiques de base\n",
    "q1 = np.percentile(data[\"MONTANT\"], 25)  # Premier quartile (25e percentile)\n",
    "q3 = np.percentile(data[\"MONTANT\"], 75)  # Troisième quartile (75e percentile)\n",
    "iqr = q3 - q1  # Intervalle interquartile\n",
    "\n",
    "# Calcul de la limite supérieure des moustaches\n",
    "whisker_upper = q3 + 1.5 * iqr\n",
    "print(\"Limite supérieure des moustaches :\", whisker_upper)"
   ]
  },
  {
   "cell_type": "code",
   "execution_count": 24,
   "metadata": {},
   "outputs": [
    {
     "name": "stdout",
     "output_type": "stream",
     "text": [
      "Nombre de ligne  : 1205218\n",
      "Nombre de lignes aberrentes : 70346\n",
      "Pourcentage de lignes exclues :5.84%\n"
     ]
    }
   ],
   "source": [
    "nb_lignes=df.shape[0]\n",
    "nb_sup_moustache = df.loc[df.MONTANT>whisker_upper,:].shape[0]\n",
    "print(f\"Nombre de ligne  : {nb_lignes}\")\n",
    "print(f\"Nombre de lignes aberrentes : {nb_sup_moustache}\")\n",
    "print(f\"Pourcentage de lignes exclues :{round(nb_sup_moustache*100/nb_lignes,2)}%\")\n"
   ]
  }
 ],
 "metadata": {
  "kernelspec": {
   "display_name": ".venv",
   "language": "python",
   "name": "python3"
  },
  "language_info": {
   "codemirror_mode": {
    "name": "ipython",
    "version": 3
   },
   "file_extension": ".py",
   "mimetype": "text/x-python",
   "name": "python",
   "nbconvert_exporter": "python",
   "pygments_lexer": "ipython3",
   "version": "3.8.10"
  }
 },
 "nbformat": 4,
 "nbformat_minor": 2
}
